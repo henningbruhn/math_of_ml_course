{
 "cells": [
  {
   "cell_type": "markdown",
   "id": "7cfa7405-63eb-4565-9d65-b0900d26687f",
   "metadata": {},
   "source": [
    "# Don't use the test error for predictor selection\n",
    "\n",
    "Many articles in machine learning follow this pattern: \n",
    "* a new algorithm is proposed\n",
    "* it then is tested against a number of other algorithms from the literature on some problem\n",
    "* the new algorithm achieves the lowest test error and is thus deemed superior to the other algorithms\n",
    "  \n",
    "If done well, there's not much wrong with this. However, if many algorithms are compared and then the one with the lowest test error is chosen, the test error will no longer accurately reflect performance on new data. Effectively, the test set has leached into the training of the algorithm. Let me explain.\n",
    "\n",
    "As a first step, we set up a binary classification task, where the classes are uniformly random. Thus: **no classifier** can achieve a true risk **lower than 50%.** (Bayes error is 50%.) \n",
    "\n",
    "As classifiers we will use here random forests consisting of three trees each. Such a random forest is clearly rubbish. That, however, is not the point -- the task itself is rubbish, too, as the classes are completely unconnected to the data. The point here is that if a instantiate 100 random forests then we will get 100 different predictors. \n",
    "\n",
    "We also draw training set that we will keep fixed."
   ]
  },
  {
   "cell_type": "code",
   "execution_count": 1,
   "id": "bf6979b2-063f-4229-a9d0-2714af6c0b3f",
   "metadata": {},
   "outputs": [],
   "source": [
    "import numpy as np\n",
    "import sklearn.ensemble\n",
    "import sklearn.metrics\n",
    "import matplotlib.pyplot as plt\n",
    "plt.style.use(\"seaborn-v0_8\")"
   ]
  },
  {
   "cell_type": "code",
   "execution_count": 2,
   "id": "12485058-bf4b-4d9c-958e-21bedab6e900",
   "metadata": {},
   "outputs": [],
   "source": [
    "def generate_Xy(num_samples=1000,num_features=100):\n",
    "    X=np.random.random(size=(num_samples,num_features))\n",
    "    y=np.random.randint(low=0,high=2,size=num_samples)\n",
    "    return X,y\n",
    "\n",
    "X_train,y_train=generate_Xy()"
   ]
  },
  {
   "cell_type": "markdown",
   "id": "4e6495db-fdec-42aa-8ae2-b7b0849fd0f1",
   "metadata": {},
   "source": [
    "## Estimate the variation in the test error\n",
    "\n",
    "One complication here is that the test error is just an estimation of the true risk and thus will vary. As a first step we need to figure out how much the test error varies in our setting. For this we train many classifiers and draw many test sets, and then determine their test error. From this empirical distribution, we then choose the 5%-percentile."
   ]
  },
  {
   "cell_type": "code",
   "execution_count": 3,
   "id": "ead3c4aa-fd69-4d52-ba56-b54549f5b98c",
   "metadata": {},
   "outputs": [],
   "source": [
    "num=1000\n",
    "test_sets=[generate_Xy() for _ in range(num)]\n",
    "trees=[sklearn.ensemble.RandomForestClassifier(n_estimators=3).fit(X_train,y_train) for _ in range(num)]\n",
    "many_test_errors=[1-sklearn.metrics.accuracy_score(tree.predict(X),y) for (X,y),tree in zip(test_sets,trees)]"
   ]
  },
  {
   "cell_type": "code",
   "execution_count": 4,
   "id": "4468feaa-accd-40ca-adbb-251b3fcf6122",
   "metadata": {},
   "outputs": [
    {
     "data": {
      "text/plain": [
       "(0.47495, 0.525)"
      ]
     },
     "execution_count": 4,
     "metadata": {},
     "output_type": "execute_result"
    },
    {
     "data": {
      "image/png": "[encoded data removed]",
      "text/plain": [
       "<Figure size 400x400 with 1 Axes>"
      ]
     },
     "metadata": {},
     "output_type": "display_data"
    }
   ],
   "source": [
    "fig,ax=plt.subplots(figsize=(4,4))\n",
    "ax.hist(many_test_errors,bins=25,edgecolor='white')\n",
    "ax.set_title(\"Histogram of test errors\")\n",
    "ax.set_xlabel(\"test error\")\n",
    "np.percentile(many_test_errors,5),np.percentile(many_test_errors,95)"
   ]
  },
  {
   "cell_type": "markdown",
   "id": "a089f033-9663-49df-b063-2c2107844c4e",
   "metadata": {},
   "source": [
    "Thus, we can expect that with about 95% probability the test error of some classifier is at least 47%. That is, if we calculate a test error for a classifier, it will deviate from the true risk (which is 50% or larger) but it is very likely that it will not be lower than 47%. \n",
    "\n",
    "Note: We do not know the true risks of the classifiers -- but what we do know is that it cannot be smaller than 50%. "
   ]
  },
  {
   "cell_type": "markdown",
   "id": "d640fd65-9652-41e8-9605-8ae5693f0114",
   "metadata": {},
   "source": [
    "## Using the test set for algorithm selection\n",
    "\n",
    "Now that we know that the test error should be at least 47%, let's do the actual experiment.\n",
    "\n",
    "* We train 1000 classifiers.\n",
    "* We evaluate each on the same test set.\n",
    "* We then choose the *best* classifier, ie, the one with lowest test error.\n",
    "Does the test error of the chosen classifier give a good estimate of its true risk? (Spoiler: No.)\n",
    "\n",
    "First: instantiate 1000 random forests, and train them on the training set. "
   ]
  },
  {
   "cell_type": "code",
   "execution_count": 5,
   "id": "64cd21ef-56a9-4f95-a466-4e789eff615b",
   "metadata": {},
   "outputs": [],
   "source": [
    "trees=[sklearn.ensemble.RandomForestClassifier(n_estimators=3).fit(X_train,y_train) for _ in range(1000)]"
   ]
  },
  {
   "cell_type": "markdown",
   "id": "22842444-ceff-4058-8064-5bbbabea0ab7",
   "metadata": {},
   "source": [
    "Next, draw a test set and compute the test errors. "
   ]
  },
  {
   "cell_type": "code",
   "execution_count": 6,
   "id": "fa33bee0-3a4f-493f-8462-c64238b0aeed",
   "metadata": {},
   "outputs": [],
   "source": [
    "X_test,y_test=np.random.random(size=(1000,100)),np.random.randint(low=0,high=2,size=1000)\n",
    "test_errors=[1-sklearn.metrics.accuracy_score(tree.predict(X_test),y_test) for tree in trees]"
   ]
  },
  {
   "cell_type": "markdown",
   "id": "eedc162c-9a71-44ae-bc81-84196c307c43",
   "metadata": {},
   "source": [
    "What is the smallest test error?"
   ]
  },
  {
   "cell_type": "code",
   "execution_count": 7,
   "id": "48635b44-a271-4170-a51c-515d47a04adb",
   "metadata": {},
   "outputs": [
    {
     "data": {
      "text/plain": [
       "(0.45199999999999996, 0.55)"
      ]
     },
     "execution_count": 7,
     "metadata": {},
     "output_type": "execute_result"
    }
   ],
   "source": [
    "min(test_errors),max(test_errors)"
   ]
  },
  {
   "cell_type": "markdown",
   "id": "258c77fa-4302-4c3a-b505-605c1a4a01a3",
   "metadata": {},
   "source": [
    "Would we now expect the classifier with smallest test error to perform this well on new data? No, even considering the statistical spread of the test error. That is, above we had seen that, with large probability, the test error is too optimistic by at most 3%. Here, however, the ``best'' classifier has a test error that is lower than the true risk by at least 4.5%. The test error is much too optimistic about the performance of the classifier. \n",
    "\n",
    "To recap:\n",
    "* Don't use the test error to select a ``best'' algorithm among many algorithms and expect the test error to give you a good estimate of the true risk.\n",
    "* Instead, use a validation set to select the best algorithm and then estimate the true risk of the chosen algorithm via the test error.\n",
    "* If you just compare a few algorithms (three, say) on the test set, then the test error will likely still give you a good estimate of the true risk."
   ]
  }
 ],
 "metadata": {
  "kernelspec": {
   "display_name": "Python 3 (ipykernel)",
   "language": "python",
   "name": "python3"
  },
  "language_info": {
   "codemirror_mode": {
    "name": "ipython",
    "version": 3
   },
   "file_extension": ".py",
   "mimetype": "text/x-python",
   "name": "python",
   "nbconvert_exporter": "python",
   "pygments_lexer": "ipython3",
   "version": "3.10.10"
  }
 },
 "nbformat": 4,
 "nbformat_minor": 5
}
