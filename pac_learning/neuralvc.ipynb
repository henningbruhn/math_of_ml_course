{
 "cells": [
  {
   "cell_type": "markdown",
   "metadata": {},
   "source": [
    "# VC-dimension of neural networks\n",
    "\n",
    "A neural network with $N$ weights and $L$ layers has VC-dimension $\\mathcal O(NL \\log(NL))$ (with a lower bound of $\\Omega(NL\\log(N/L))$.\n",
    "\n",
    "Let's try to see that VC-dimension indeed grows linearly with $N$. How could we experimentally measure VC-dimension? Clearly, it's infeasible to actually check whether a given set is shattered -- for that we'd need to check exponentially many class assignments. Rather, I'd argue that if a neural network can fit random noise on a dataset of size $d$ then that's an indication that neural networks (with that set of parameters) can also shatter a set of that size. Thus, the strategy is as follows: given a number of neurons, search for the largest dataset size on which random noise can be perfectly fit. Because training can take very long until we reach perfect fit (if at all), I will say that the training set is *perfectly* fit if the accuracy is at least $95\\%$. (Obviously, this is arbitrary and could as easily be set to $99\\%$.)"
   ]
  },
  {
   "cell_type": "code",
   "execution_count": 1,
   "metadata": {},
   "outputs": [
    {
     "name": "stdout",
     "output_type": "stream",
     "text": [
      "Tensorflow version: 2.7.0\n"
     ]
    }
   ],
   "source": [
    "import tensorflow as tf\n",
    "import matplotlib.pyplot as plt\n",
    "plt.style.use(\"seaborn\")\n",
    "import numpy as np\n",
    "print(\"Tensorflow version: \"+tf.version.VERSION)"
   ]
  },
  {
   "cell_type": "markdown",
   "metadata": {},
   "source": [
    "We generate a training set of pure random noise: 1000 datapoints with each 10 random features with values in $[0,1]$, with random binary classes."
   ]
  },
  {
   "cell_type": "code",
   "execution_count": 2,
   "metadata": {},
   "outputs": [],
   "source": [
    "num_features=10\n",
    "train_size=1000\n",
    "X=np.random.random((train_size,num_features))\n",
    "y=np.random.randint(0,2,train_size)"
   ]
  },
  {
   "cell_type": "markdown",
   "metadata": {},
   "source": [
    "The neural network will be a simple one, with one hidden layer with varying number of neurons. Because we have two classes the network has two output neurons. "
   ]
  },
  {
   "cell_type": "code",
   "execution_count": 4,
   "metadata": {},
   "outputs": [],
   "source": [
    "loss_fn = tf.keras.losses.SparseCategoricalCrossentropy(from_logits=True)\n",
    "\n",
    "def set_up_model(num_hidden):\n",
    "    model = tf.keras.models.Sequential([\n",
    "      tf.keras.layers.Input(shape=(num_features,)),\n",
    "      tf.keras.layers.Dense(num_hidden, activation='relu'),\n",
    "      tf.keras.layers.Dense(2)\n",
    "    ])\n",
    "    model.compile(loss=loss_fn, metrics=['accuracy'])    \n",
    "    return model"
   ]
  },
  {
   "cell_type": "markdown",
   "metadata": {},
   "source": [
    "We train each neural network for a given size of the training set up to 1000 epochs. If the necessary accuracy is reached earlier, we stop earlier. As we're just interested in whether the network can fit the noise data or not, it is not necessary to train the network beyond $95\\%$ accuracy."
   ]
  },
  {
   "cell_type": "code",
   "execution_count": 5,
   "metadata": {},
   "outputs": [],
   "source": [
    "def run_model(model,size_of_data,max_epochs=1000,epochs_per_step=50):\n",
    "    epochs_run=0\n",
    "    accuracy=0\n",
    "    while epochs_run<max_epochs and accuracy<threshold:\n",
    "        model.fit(X[:size_of_data],y[:size_of_data],epochs=epochs_per_step,verbose=0)\n",
    "        _,accuracy=model.evaluate(X[:size_of_data],y[:size_of_data],verbose=0)\n",
    "        epochs_run+=epochs_per_step\n",
    "    return accuracy    "
   ]
  },
  {
   "cell_type": "markdown",
   "metadata": {},
   "source": [
    "For each network size we do a binary search for the largest dataset size it may fit. To save computing time, and because our precision is limited anyway, we stop if the optimal dataset size is narrowed to a sufficiently small interval (governed by 'gap')."
   ]
  },
  {
   "cell_type": "code",
   "execution_count": 6,
   "metadata": {},
   "outputs": [],
   "source": [
    "def det_noise_fit_size(num_hidden,upper,lower):\n",
    "    while upper-lower>gap:\n",
    "        size=int(0.5*(upper+lower))\n",
    "        model=set_up_model(num_hidden)\n",
    "        acc=run_model(model,size)\n",
    "        if acc>threshold:\n",
    "            lower=size\n",
    "        else:\n",
    "            upper=size  \n",
    "    return 0.5*(lower+upper)"
   ]
  },
  {
   "cell_type": "markdown",
   "metadata": {},
   "source": [
    "One final issue: training a neural network is not deterministic. Sometimes, training works better, larger accuracy is reached, and sometimes it works worse. Because of that we repeat a certain number of times for each set of parameters. (At the moment the number of repeats is set to 3, which is certainly too low.)"
   ]
  },
  {
   "cell_type": "code",
   "execution_count": 7,
   "metadata": {},
   "outputs": [
    {
     "name": "stdout",
     "output_type": "stream",
     "text": [
      "network size: 10\n",
      "network size: 15\n",
      "network size: 20\n",
      "network size: 25\n",
      "network size: 30\n",
      "network size: 35\n",
      "network size: 40\n",
      "network size: 45\n",
      "network size: 50\n"
     ]
    }
   ],
   "source": [
    "gap=10\n",
    "upper=200  # we assume that no network can fit a dataset of larger size -- this seems quite safe.\n",
    "lower=10   # we assume that each of our networks can fit at least this size\n",
    "threshold=0.95\n",
    "repeats=5\n",
    "network_sizes=np.arange(10,51,5)\n",
    "fit_sizes=np.zeros((len(network_sizes),repeats))\n",
    "\n",
    "# this will take a while...\n",
    "for i,num_hidden in enumerate(network_sizes):\n",
    "    print(\"network size: {}\".format(num_hidden))\n",
    "    for j in range(repeats):\n",
    "        fit_size=det_noise_fit_size(num_hidden,upper,lower)\n",
    "        fit_sizes[i,j]=fit_size"
   ]
  },
  {
   "cell_type": "code",
   "execution_count": 8,
   "metadata": {},
   "outputs": [
    {
     "data": {
      "text/plain": [
       "array([[ 30. ,  30. ,  30. ,  30. ,  30. ],\n",
       "       [ 30. ,  30. ,  30. ,  30. ,  30. ],\n",
       "       [ 30. ,  96. ,  30. ,  90. ,  30. ],\n",
       "       [ 90. ,  84. , 107.5,  96. ,  96. ],\n",
       "       [102. , 131. ,  96. ,  60. ,  30. ],\n",
       "       [113. , 155. , 179. , 125. , 155. ],\n",
       "       [102. , 102. , 143. , 149. , 155. ],\n",
       "       [161. , 173. , 191. , 185. , 179. ],\n",
       "       [191. , 191. , 173. , 191. , 179. ]])"
      ]
     },
     "execution_count": 8,
     "metadata": {},
     "output_type": "execute_result"
    }
   ],
   "source": [
    "fit_sizes"
   ]
  },
  {
   "cell_type": "code",
   "execution_count": 9,
   "metadata": {},
   "outputs": [
    {
     "data": {
      "image/png": "[encoded data removed]",
      "text/plain": [
       "<Figure size 576x396 with 1 Axes>"
      ]
     },
     "metadata": {},
     "output_type": "display_data"
    }
   ],
   "source": [
    "_,ax=plt.subplots()\n",
    "ax.plot(network_sizes,fit_sizes.max(axis=1),'bo')\n",
    "ax.set_xlabel('Size of hidden layer')\n",
    "ax.set_ylabel('Size of dataset')\n",
    "ax.set_title(\"Best guess for VC-dim vs number of parameters\")\n",
    "plt.savefig(\"neuralvc.png\",dpi=300)\n",
    "plt.show()"
   ]
  },
  {
   "cell_type": "markdown",
   "metadata": {},
   "source": [
    "Yes, looks fairly linear! (Obviously, there is still a bit of noise in the data -- perhaps this should be run over night with more repeats, more network sizes.) Also it would be very interesting to see the effect of the depth, the number of layers, of the network."
   ]
  }
 ],
 "metadata": {
  "kernelspec": {
   "display_name": "Python 3",
   "language": "python",
   "name": "python3"
  },
  "language_info": {
   "codemirror_mode": {
    "name": "ipython",
    "version": 3
   },
   "file_extension": ".py",
   "mimetype": "text/x-python",
   "name": "python",
   "nbconvert_exporter": "python",
   "pygments_lexer": "ipython3",
   "version": "3.8.8"
  }
 },
 "nbformat": 4,
 "nbformat_minor": 4
}
