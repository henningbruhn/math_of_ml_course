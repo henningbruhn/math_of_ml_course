{
 "cells": [
  {
   "cell_type": "markdown",
   "metadata": {},
   "source": [
    "# No traps\n",
    "\n",
    "We try to verify that over-parameterised neural networks have few local minima of large loss. For this end, we train repeatedly neural networks with increasing number of hidden neurons. Hopefully, we'll see that neural networks with more neurons less often have a higher loss than the optimal loss.\n",
    "\n",
    "As dataset we take Fashion MNIST, and we train the neural networks on just 5000 samples of the dataset, in order to decreases computation time."
   ]
  },
  {
   "cell_type": "code",
   "execution_count": 2,
   "metadata": {},
   "outputs": [],
   "source": [
    "import numpy as np\n",
    "import matplotlib.pyplot as plt\n",
    "import time\n",
    "import pandas as pd\n",
    "\n",
    "plt.style.use(\"seaborn-v0_8\")"
   ]
  },
  {
   "cell_type": "code",
   "execution_count": 2,
   "metadata": {},
   "outputs": [],
   "source": [
    "import tensorflow as tf\n",
    "\n",
    "fashion = tf.keras.datasets.fashion_mnist\n",
    "(x_train, y_train), (x_test, y_test) = fashion.load_data()\n",
    "X=np.vstack([x_train,x_test])/255.0   # put all in one pick matrix and normalise\n",
    "y=np.hstack([y_train,y_test])\n",
    "\n",
    "train_size=5000\n",
    "x_train, x_test, y_train, y_test = X[:train_size], X[train_size:], y[:train_size], y[train_size:]"
   ]
  },
  {
   "cell_type": "code",
   "execution_count": 3,
   "metadata": {},
   "outputs": [],
   "source": [
    "def run_net(hidden_size):\n",
    "    model = tf.keras.models.Sequential([\n",
    "      tf.keras.layers.Flatten(input_shape=(28, 28)),\n",
    "      tf.keras.layers.Dense(hidden_size, activation='relu'),\n",
    "      tf.keras.layers.Dense(10)\n",
    "    ])    \n",
    "    loss_fn = tf.keras.losses.SparseCategoricalCrossentropy(from_logits=True)\n",
    "    model.compile(loss=loss_fn, metrics=['accuracy'],optimizer='SGD')\n",
    "    callbacks = [\n",
    "    tf.keras.callbacks.EarlyStopping(\n",
    "        # Stop training when `loss` is no longer improving\n",
    "        monitor=\"loss\",\n",
    "        # \"no longer improving\" being defined as \"no better than 1e-3\"\n",
    "        min_delta=1e-3,\n",
    "        # \"no longer improving\" being further defined as \"for at least 3 epochs\"\n",
    "        patience=3,\n",
    "        verbose=0,\n",
    "    )]\n",
    "    history=model.fit(x_train, y_train, epochs=150, callbacks=callbacks,batch_size=5,verbose=0)\n",
    "    return model,history\n",
    "\n",
    "def get_stats_of_run(hidden_size):\n",
    "    start=time.time()\n",
    "    model,history=run_net(hidden_size)\n",
    "    train_err=1-model.evaluate(x_train,y_train,verbose=0)[1]\n",
    "    test_err=1-model.evaluate(x_test,y_test,verbose=0)[1]\n",
    "    epochs=len(history.history[\"accuracy\"])\n",
    "    end=time.time()\n",
    "    return [train_err,test_err,epochs,end-start]\n",
    "\n",
    "# write results as they come in; allows to stop whenever it takes too long\n",
    "# always append results\n",
    "# if you want to overwrite previous results, run init_saving()\n",
    "def save_results(stats):\n",
    "    with open(\"local_min.dat\", \"a\") as myfile:\n",
    "        for stat in stats[:-1]:\n",
    "            myfile.write(\"{},\".format(stat))\n",
    "        myfile.write(\"{}\\n\".format(stats[-1]))\n",
    "\n",
    "def init_saving():\n",
    "    with open(\"local_min.dat\", \"w\") as myfile:\n",
    "        myfile.write(\"# results of script local_minima\\n\")\n",
    "        myfile.write(\"size_of_hidden_layer,training_error,test_error,number_of_epochs,training_time\\n\")\n",
    "\n",
    "#init_saving()  ## needs to run once"
   ]
  },
  {
   "cell_type": "code",
   "execution_count": 61,
   "metadata": {},
   "outputs": [],
   "source": [
    "hidden_sizes=[5,10,20,30,40]\n",
    "#hidden_sizes=[100]\n",
    "repeats=90\n",
    "\n",
    "for _ in range(repeats):\n",
    "    for hidden_size in hidden_sizes:\n",
    "        stats=get_stats_of_run(hidden_size)\n",
    "        stats.insert(0,hidden_size)\n",
    "        save_results(stats)        "
   ]
  },
  {
   "cell_type": "code",
   "execution_count": 4,
   "metadata": {},
   "outputs": [
    {
     "data": {
      "text/html": [
       "<div>\n",
       "<style scoped>\n",
       "    .dataframe tbody tr th:only-of-type {\n",
       "        vertical-align: middle;\n",
       "    }\n",
       "\n",
       "    .dataframe tbody tr th {\n",
       "        vertical-align: top;\n",
       "    }\n",
       "\n",
       "    .dataframe thead th {\n",
       "        text-align: right;\n",
       "    }\n",
       "</style>\n",
       "<table border=\"1\" class=\"dataframe\">\n",
       "  <thead>\n",
       "    <tr style=\"text-align: right;\">\n",
       "      <th></th>\n",
       "      <th>size_of_hidden_layer</th>\n",
       "      <th>training_error</th>\n",
       "      <th>test_error</th>\n",
       "      <th>number_of_epochs</th>\n",
       "      <th>training_time</th>\n",
       "    </tr>\n",
       "  </thead>\n",
       "  <tbody>\n",
       "    <tr>\n",
       "      <th>0</th>\n",
       "      <td>5</td>\n",
       "      <td>0.0820</td>\n",
       "      <td>0.204538</td>\n",
       "      <td>82</td>\n",
       "      <td>49.327931</td>\n",
       "    </tr>\n",
       "    <tr>\n",
       "      <th>1</th>\n",
       "      <td>10</td>\n",
       "      <td>0.0742</td>\n",
       "      <td>0.187400</td>\n",
       "      <td>62</td>\n",
       "      <td>32.561689</td>\n",
       "    </tr>\n",
       "    <tr>\n",
       "      <th>2</th>\n",
       "      <td>20</td>\n",
       "      <td>0.0226</td>\n",
       "      <td>0.165354</td>\n",
       "      <td>90</td>\n",
       "      <td>46.253929</td>\n",
       "    </tr>\n",
       "    <tr>\n",
       "      <th>3</th>\n",
       "      <td>30</td>\n",
       "      <td>0.0564</td>\n",
       "      <td>0.180169</td>\n",
       "      <td>62</td>\n",
       "      <td>32.801035</td>\n",
       "    </tr>\n",
       "    <tr>\n",
       "      <th>4</th>\n",
       "      <td>40</td>\n",
       "      <td>0.0154</td>\n",
       "      <td>0.159292</td>\n",
       "      <td>77</td>\n",
       "      <td>40.554325</td>\n",
       "    </tr>\n",
       "    <tr>\n",
       "      <th>...</th>\n",
       "      <td>...</td>\n",
       "      <td>...</td>\n",
       "      <td>...</td>\n",
       "      <td>...</td>\n",
       "      <td>...</td>\n",
       "    </tr>\n",
       "    <tr>\n",
       "      <th>595</th>\n",
       "      <td>100</td>\n",
       "      <td>0.0244</td>\n",
       "      <td>0.160354</td>\n",
       "      <td>63</td>\n",
       "      <td>47.222870</td>\n",
       "    </tr>\n",
       "    <tr>\n",
       "      <th>596</th>\n",
       "      <td>100</td>\n",
       "      <td>0.0020</td>\n",
       "      <td>0.153938</td>\n",
       "      <td>96</td>\n",
       "      <td>69.660978</td>\n",
       "    </tr>\n",
       "    <tr>\n",
       "      <th>597</th>\n",
       "      <td>100</td>\n",
       "      <td>0.0020</td>\n",
       "      <td>0.153677</td>\n",
       "      <td>95</td>\n",
       "      <td>69.639056</td>\n",
       "    </tr>\n",
       "    <tr>\n",
       "      <th>598</th>\n",
       "      <td>100</td>\n",
       "      <td>0.0054</td>\n",
       "      <td>0.152862</td>\n",
       "      <td>88</td>\n",
       "      <td>64.194531</td>\n",
       "    </tr>\n",
       "    <tr>\n",
       "      <th>599</th>\n",
       "      <td>100</td>\n",
       "      <td>0.0096</td>\n",
       "      <td>0.158277</td>\n",
       "      <td>81</td>\n",
       "      <td>60.108784</td>\n",
       "    </tr>\n",
       "  </tbody>\n",
       "</table>\n",
       "<p>600 rows × 5 columns</p>\n",
       "</div>"
      ],
      "text/plain": [
       "     size_of_hidden_layer  training_error  test_error  number_of_epochs  \\\n",
       "0                       5          0.0820    0.204538                82   \n",
       "1                      10          0.0742    0.187400                62   \n",
       "2                      20          0.0226    0.165354                90   \n",
       "3                      30          0.0564    0.180169                62   \n",
       "4                      40          0.0154    0.159292                77   \n",
       "..                    ...             ...         ...               ...   \n",
       "595                   100          0.0244    0.160354                63   \n",
       "596                   100          0.0020    0.153938                96   \n",
       "597                   100          0.0020    0.153677                95   \n",
       "598                   100          0.0054    0.152862                88   \n",
       "599                   100          0.0096    0.158277                81   \n",
       "\n",
       "     training_time  \n",
       "0        49.327931  \n",
       "1        32.561689  \n",
       "2        46.253929  \n",
       "3        32.801035  \n",
       "4        40.554325  \n",
       "..             ...  \n",
       "595      47.222870  \n",
       "596      69.660978  \n",
       "597      69.639056  \n",
       "598      64.194531  \n",
       "599      60.108784  \n",
       "\n",
       "[600 rows x 5 columns]"
      ]
     },
     "execution_count": 4,
     "metadata": {},
     "output_type": "execute_result"
    }
   ],
   "source": [
    "results=pd.read_csv(\"local_min.dat\",comment=\"#\")\n",
    "results"
   ]
  },
  {
   "cell_type": "code",
   "execution_count": 7,
   "metadata": {},
   "outputs": [
    {
     "data": {
      "image/png": "[encoded data removed]",
      "text/plain": [
       "<Figure size 1600x400 with 4 Axes>"
      ]
     },
     "metadata": {},
     "output_type": "display_data"
    }
   ],
   "source": [
    "hidden_sizes=[5,10,40,100]\n",
    "fig,axs=plt.subplots(1,4,figsize=(16,4),sharey=True)\n",
    "bins=np.linspace(0,0.2,40)\n",
    "for ax,hidden in zip(axs,hidden_sizes):\n",
    "    df=results[results[\"size_of_hidden_layer\"]==hidden]\n",
    "    std=round(df[\"training_error\"].std(),3)\n",
    "    ax.annotate(\"std={}\".format(std),(0.4,0.8),xycoords=\"axes fraction\",fontsize=20)\n",
    "    ax.hist(df[\"training_error\"],bins=bins)\n",
    "    ax.set_title(\"hidden layer size: {}\".format(hidden))\n",
    "    ax.set_xlabel(\"training error\")"
   ]
  },
  {
   "cell_type": "code",
   "execution_count": 10,
   "metadata": {},
   "outputs": [
    {
     "data": {
      "image/png": "[encoded data removed]",
      "text/plain": [
       "<Figure size 1600x400 with 4 Axes>"
      ]
     },
     "metadata": {},
     "output_type": "display_data"
    }
   ],
   "source": [
    "fig,axs=plt.subplots(1,4,figsize=(16,4),sharey=True)\n",
    "bins=np.linspace(20,120,40)\n",
    "for ax,hidden in zip(axs,hidden_sizes):\n",
    "    df=results[results[\"size_of_hidden_layer\"]==hidden]\n",
    "    ax.hist(df[\"number_of_epochs\"],bins=bins)\n",
    "    ax.set_title(\"hidden layer size: {}\".format(hidden))\n",
    "    ax.set_xlabel(\"epochs\")"
   ]
  }
 ],
 "metadata": {
  "kernelspec": {
   "display_name": "Python 3 (ipykernel)",
   "language": "python",
   "name": "python3"
  },
  "language_info": {
   "codemirror_mode": {
    "name": "ipython",
    "version": 3
   },
   "file_extension": ".py",
   "mimetype": "text/x-python",
   "name": "python",
   "nbconvert_exporter": "python",
   "pygments_lexer": "ipython3",
   "version": "3.10.10"
  }
 },
 "nbformat": 4,
 "nbformat_minor": 4
}
