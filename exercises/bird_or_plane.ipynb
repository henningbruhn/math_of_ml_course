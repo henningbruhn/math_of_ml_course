{
 "cells": [
  {
   "cell_type": "markdown",
   "metadata": {},
   "source": [
    "# Bird or plane?\n",
    "\n",
    "According to the literature square loss in conjunction with a logistic layer leads to small gradients and thus to slow learning. Cross-entropy loss remedies that. I could not, however, verify that. Thus, it's your turn now!\n",
    "\n",
    "The idea is to take a more demanding dataset, the [CIFAR10](https://www.cs.toronto.edu/%7Ekriz/cifar.html) dataset.\n",
    "\n",
    "First, we do a couple of necessary imports. "
   ]
  },
  {
   "cell_type": "code",
   "execution_count": null,
   "metadata": {},
   "outputs": [],
   "source": [
    "import tensorflow as tf\n",
    "import tensorflow.keras as keras\n",
    "from sklearn.utils import shuffle\n",
    "import numpy as np\n",
    "import time\n",
    "import matplotlib.pyplot as plt\n",
    "plt.style.use(\"seaborn-v0_8\")"
   ]
  },
  {
   "cell_type": "markdown",
   "metadata": {},
   "source": [
    "We load the dataset with a convenient in-built method of tensorflow. We put all data in <code>X</code>, all classes in <code>y</code> and then scale so that the data has range $[0,1]$."
   ]
  },
  {
   "cell_type": "code",
   "execution_count": null,
   "metadata": {},
   "outputs": [],
   "source": [
    "data = tf.keras.datasets.cifar10\n",
    "(x1, y1), (x2, y2) = data.load_data()\n",
    "X=np.vstack([x1,x2])\n",
    "y=np.vstack([y1,y2]).reshape(-1,)\n",
    "X=X/255. # normalise so that all values in [0,1]\n",
    "X.shape,y.shape"
   ]
  },
  {
   "cell_type": "markdown",
   "metadata": {},
   "source": [
    "We restrict to a binary classification problem: is it a bird or an airplane?"
   ]
  },
  {
   "cell_type": "code",
   "execution_count": null,
   "metadata": {},
   "outputs": [],
   "source": [
    "X_bin=X[(y==0) | (y==2)]\n",
    "y_bin=y[(y==0) | (y==2)]/2 # divide by 2, in order to get classes 0,1"
   ]
  },
  {
   "cell_type": "markdown",
   "metadata": {},
   "source": [
    "We further simplify by turning the colour images into gray scale images. Let's visualise some samples."
   ]
  },
  {
   "cell_type": "code",
   "execution_count": null,
   "metadata": {},
   "outputs": [],
   "source": [
    "def to_grayscale(img):\n",
    "    return 1-(0.299*img[:,:,0]+0.587*img[:,:,1]+0.114*img[:,:,2])\n",
    "X_bin=np.array([to_grayscale(img) for img in X_bin])\n",
    "\n",
    "def show_samples(X,N=10):\n",
    "    rows=[]\n",
    "    for j in range(N):\n",
    "        data=[X[i] for i in range(j*N,(j+1)*N)]\n",
    "        rows.append(np.hstack(data))\n",
    "    block=np.vstack(rows)\n",
    "    \n",
    "    # now we plot the array\n",
    "    fig,ax=plt.subplots(figsize=(9,9))\n",
    "    ax.imshow(block, cmap = \"binary\")\n",
    "    ax.axis(\"off\")\n",
    "    plt.show()\n",
    "show_samples(X_gray)\n",
    "# let's see whether data is in the form we think it should be in\n",
    "X_bin.shape,y_bin.shape"
   ]
  },
  {
   "cell_type": "markdown",
   "metadata": {},
   "source": [
    "Next, let's write a method that draws a training and a test set from the data."
   ]
  },
  {
   "cell_type": "code",
   "execution_count": null,
   "metadata": {},
   "outputs": [],
   "source": [
    "train_size=7000\n",
    "def get_datasets():\n",
    "    XX,yy=shuffle(X_bin,y_bin)\n",
    "    x_bin_train,x_bin_test=XX[:train_size],XX[train_size:]\n",
    "    y_bin_train,y_bin_test=yy[:train_size],yy[train_size:]\n",
    "    return x_bin_train,y_bin_train,x_bin_test,y_bin_test"
   ]
  },
  {
   "cell_type": "markdown",
   "metadata": {},
   "source": [
    "We also write a method to set up a very simple neural network. (Not the most appropriate for this task!)"
   ]
  },
  {
   "cell_type": "code",
   "execution_count": null,
   "metadata": {},
   "outputs": [],
   "source": [
    "def get_model():\n",
    "    model = tf.keras.models.Sequential([\n",
    "      tf.keras.layers.Flatten(input_shape=(32, 32)),\n",
    "      tf.keras.layers.Dense(80, activation='relu'),\n",
    "      tf.keras.layers.Dense(40, activation='relu'),\n",
    "      tf.keras.layers.Dense(1, activation='sigmoid')\n",
    "    ])\n",
    "    return model"
   ]
  },
  {
   "cell_type": "markdown",
   "metadata": {},
   "source": [
    "Now it's up to you!\n",
    "\n",
    "### Task: Compare square loss and cross-entropy loss\n",
    "* Train a neural network as defined in <code>get_model</code> with square loss, and finetune the learning rate. That is, try out different learning rates (perhaps in a half-way systematic manner) and pick the best one. (How do you measure what's best?)\n",
    "* Do the same for a neural network with cross-entropy loss.\n",
    "* With the finetuned learning rate, train a square loss network and a cross-entropy network for a number of epochs that seems appropriate.\n",
    "* Repeat the previous step five (or ten, or twenty, depending on how much time you're willing to invest) times.\n",
    "* Take the median of training and test accuracy and plot the result. (Don't bother with the gradients.)\n",
    "\n",
    "You may find it useful to borrow code from [loss_compare.ipynb](https://colab.research.google.com/github/henningbruhn/math_of_ml_course/blob/main/neural_networks/loss_compare.ipynb)"
   ]
  }
 ],
 "metadata": {
  "kernelspec": {
   "display_name": "Python 3 (ipykernel)",
   "language": "python",
   "name": "python3"
  },
  "language_info": {
   "codemirror_mode": {
    "name": "ipython",
    "version": 3
   },
   "file_extension": ".py",
   "mimetype": "text/x-python",
   "name": "python",
   "nbconvert_exporter": "python",
   "pygments_lexer": "ipython3",
   "version": "3.10.10"
  }
 },
 "nbformat": 4,
 "nbformat_minor": 4
}
