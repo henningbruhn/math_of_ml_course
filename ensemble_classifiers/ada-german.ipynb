{
 "cells": [
  {
   "cell_type": "markdown",
   "metadata": {},
   "source": [
    "# AdaBoost on German credit data\n",
    "\n",
    "We apply AdaBoost to a credit data set. It'll turn out that we need to do a bit of preprocessing first."
   ]
  },
  {
   "cell_type": "code",
   "execution_count": 1,
   "metadata": {},
   "outputs": [],
   "source": [
    "import numpy as np\n",
    "import sklearn \n",
    "import matplotlib.pyplot as plt\n",
    "from sklearn.utils import shuffle\n",
    "from sklearn.ensemble import AdaBoostClassifier\n",
    "from sklearn.tree import DecisionTreeClassifier\n",
    "from sklearn.metrics import zero_one_loss\n",
    "plt.style.use(\"seaborn\")"
   ]
  },
  {
   "cell_type": "markdown",
   "metadata": {},
   "source": [
    "## German credit data set\n",
    "\n",
    "We first load the data from the open data repository https://www.openml.org/home."
   ]
  },
  {
   "cell_type": "code",
   "execution_count": 2,
   "metadata": {},
   "outputs": [
    {
     "name": "stdout",
     "output_type": "stream",
     "text": [
      "**Author**: Dr. Hans Hofmann  \n",
      "**Source**: [UCI](https://archive.ics.uci.edu/ml/datasets/statlog+(german+credit+data)) - 1994    \n",
      "**Please cite**: [UCI](https://archive.ics.uci.edu/ml/citation_policy.html)\n",
      "\n",
      "**German Credit dataset**  \n",
      "This dataset classifies people described by a set of attributes as good or bad credit risks.\n",
      "\n",
      "This dataset comes with a cost matrix: \n",
      "``` \n",
      "      Good  Bad (predicted)  \n",
      "Good   0    1   (actual)  \n",
      "Bad    5    0  \n",
      "```\n",
      "\n",
      "It is worse to class a customer as good when they are bad (5), than it is to class a customer as bad when they are good (1).  \n",
      "\n",
      "### Attribute description  \n",
      "\n",
      "1. Status of existing checking account, in Deutsche Mark.  \n",
      "2. Duration in months  \n",
      "3. Credit history (credits taken, paid back duly, delays, critical accounts)  \n",
      "4. Purpose of the credit (car, television,...)  \n",
      "5. Credit amount  \n",
      "6. Status of savings account/bonds, in Deutsche Mark.  \n",
      "7. Present employment, in number of years.  \n",
      "8. Installment rate in percentage of disposable income  \n",
      "9. Personal status (married, single,...) and sex  \n",
      "10. Other debtors / guarantors  \n",
      "11. Present residence since X years  \n",
      "12. Property (e.g. real estate)  \n",
      "13. Age in years  \n",
      "14. Other installment plans (banks, stores)  \n",
      "15. Housing (rent, own,...)  \n",
      "16. Number of existing credits at this bank  \n",
      "17. Job  \n",
      "18. Number of people being liable to provide maintenance for  \n",
      "19. Telephone (yes,no)  \n",
      "20. Foreign worker (yes,no)\n",
      "\n",
      "Downloaded from openml.org.\n"
     ]
    }
   ],
   "source": [
    "# fetch data from openml.org\n",
    "# see https://www.openml.org/d/31\n",
    "from sklearn.datasets import fetch_openml\n",
    "data = fetch_openml('credit-g', cache=True)\n",
    "print(data.DESCR)\n",
    "X, y = data[\"data\"], data[\"target\"]\n"
   ]
  },
  {
   "cell_type": "markdown",
   "metadata": {},
   "source": [
    "As we can see the credit data set classifies applicants into those with good or bad credit risk (whatever that means). It's an old data set as we can note by the fact that checking amount is in DM and that a noteworthy feature is whether a customer has a telephone or not. Note also feature #9, married/single and sex. It's quite doubtful whether it's legitimate to use that to estimate the credit worthiness. This is all the more true for feature #20, foreign worker yes/no, which seems blatant discrimination to me. "
   ]
  },
  {
   "cell_type": "code",
   "execution_count": 3,
   "metadata": {},
   "outputs": [
    {
     "name": "stdout",
     "output_type": "stream",
     "text": [
      "shape of data set: (1000, 20)\n",
      "good v bad credit risk: 700 v 300\n"
     ]
    }
   ],
   "source": [
    "print(\"shape of data set: {}\".format(X.shape))\n",
    "good=sum(y=='good')\n",
    "bad=sum(y=='bad')\n",
    "print(\"good v bad credit risk: {} v {}\".format(good,bad))"
   ]
  },
  {
   "cell_type": "markdown",
   "metadata": {},
   "source": [
    "It's always good to look at the size of the data set and at the class balance. Here we see that the majority has a good credit risk. \n",
    "\n",
    "We split the data in a training and a test set. Then we'll have a first look at the training set."
   ]
  },
  {
   "cell_type": "code",
   "execution_count": 4,
   "metadata": {},
   "outputs": [
    {
     "data": {
      "text/html": [
       "<div>\n",
       "<style scoped>\n",
       "    .dataframe tbody tr th:only-of-type {\n",
       "        vertical-align: middle;\n",
       "    }\n",
       "\n",
       "    .dataframe tbody tr th {\n",
       "        vertical-align: top;\n",
       "    }\n",
       "\n",
       "    .dataframe thead th {\n",
       "        text-align: right;\n",
       "    }\n",
       "</style>\n",
       "<table border=\"1\" class=\"dataframe\">\n",
       "  <thead>\n",
       "    <tr style=\"text-align: right;\">\n",
       "      <th></th>\n",
       "      <th>checking_status</th>\n",
       "      <th>duration</th>\n",
       "      <th>credit_history</th>\n",
       "      <th>purpose</th>\n",
       "      <th>credit_amount</th>\n",
       "      <th>savings_status</th>\n",
       "      <th>employment</th>\n",
       "      <th>installment_commitment</th>\n",
       "      <th>personal_status</th>\n",
       "      <th>other_parties</th>\n",
       "      <th>residence_since</th>\n",
       "      <th>property_magnitude</th>\n",
       "      <th>age</th>\n",
       "      <th>other_payment_plans</th>\n",
       "      <th>housing</th>\n",
       "      <th>existing_credits</th>\n",
       "      <th>job</th>\n",
       "      <th>num_dependents</th>\n",
       "      <th>own_telephone</th>\n",
       "      <th>foreign_worker</th>\n",
       "    </tr>\n",
       "  </thead>\n",
       "  <tbody>\n",
       "    <tr>\n",
       "      <th>377</th>\n",
       "      <td>no checking</td>\n",
       "      <td>7.0</td>\n",
       "      <td>delayed previously</td>\n",
       "      <td>radio/tv</td>\n",
       "      <td>846.0</td>\n",
       "      <td>no known savings</td>\n",
       "      <td>&gt;=7</td>\n",
       "      <td>3.0</td>\n",
       "      <td>male single</td>\n",
       "      <td>none</td>\n",
       "      <td>4.0</td>\n",
       "      <td>no known property</td>\n",
       "      <td>36.0</td>\n",
       "      <td>none</td>\n",
       "      <td>for free</td>\n",
       "      <td>1.0</td>\n",
       "      <td>skilled</td>\n",
       "      <td>1.0</td>\n",
       "      <td>none</td>\n",
       "      <td>yes</td>\n",
       "    </tr>\n",
       "    <tr>\n",
       "      <th>857</th>\n",
       "      <td>no checking</td>\n",
       "      <td>15.0</td>\n",
       "      <td>critical/other existing credit</td>\n",
       "      <td>furniture/equipment</td>\n",
       "      <td>3343.0</td>\n",
       "      <td>&lt;100</td>\n",
       "      <td>1&lt;=X&lt;4</td>\n",
       "      <td>4.0</td>\n",
       "      <td>male single</td>\n",
       "      <td>none</td>\n",
       "      <td>2.0</td>\n",
       "      <td>no known property</td>\n",
       "      <td>28.0</td>\n",
       "      <td>none</td>\n",
       "      <td>for free</td>\n",
       "      <td>1.0</td>\n",
       "      <td>skilled</td>\n",
       "      <td>1.0</td>\n",
       "      <td>yes</td>\n",
       "      <td>yes</td>\n",
       "    </tr>\n",
       "    <tr>\n",
       "      <th>233</th>\n",
       "      <td>0&lt;=X&lt;200</td>\n",
       "      <td>18.0</td>\n",
       "      <td>existing paid</td>\n",
       "      <td>radio/tv</td>\n",
       "      <td>866.0</td>\n",
       "      <td>&lt;100</td>\n",
       "      <td>1&lt;=X&lt;4</td>\n",
       "      <td>4.0</td>\n",
       "      <td>male mar/wid</td>\n",
       "      <td>guarantor</td>\n",
       "      <td>2.0</td>\n",
       "      <td>real estate</td>\n",
       "      <td>25.0</td>\n",
       "      <td>none</td>\n",
       "      <td>own</td>\n",
       "      <td>1.0</td>\n",
       "      <td>unskilled resident</td>\n",
       "      <td>1.0</td>\n",
       "      <td>none</td>\n",
       "      <td>yes</td>\n",
       "    </tr>\n",
       "    <tr>\n",
       "      <th>487</th>\n",
       "      <td>no checking</td>\n",
       "      <td>24.0</td>\n",
       "      <td>existing paid</td>\n",
       "      <td>new car</td>\n",
       "      <td>3757.0</td>\n",
       "      <td>&lt;100</td>\n",
       "      <td>&gt;=7</td>\n",
       "      <td>4.0</td>\n",
       "      <td>female div/dep/mar</td>\n",
       "      <td>co applicant</td>\n",
       "      <td>4.0</td>\n",
       "      <td>no known property</td>\n",
       "      <td>62.0</td>\n",
       "      <td>none</td>\n",
       "      <td>for free</td>\n",
       "      <td>1.0</td>\n",
       "      <td>skilled</td>\n",
       "      <td>1.0</td>\n",
       "      <td>yes</td>\n",
       "      <td>yes</td>\n",
       "    </tr>\n",
       "    <tr>\n",
       "      <th>500</th>\n",
       "      <td>&lt;0</td>\n",
       "      <td>24.0</td>\n",
       "      <td>existing paid</td>\n",
       "      <td>new car</td>\n",
       "      <td>3123.0</td>\n",
       "      <td>&lt;100</td>\n",
       "      <td>&lt;1</td>\n",
       "      <td>4.0</td>\n",
       "      <td>female div/dep/mar</td>\n",
       "      <td>none</td>\n",
       "      <td>1.0</td>\n",
       "      <td>life insurance</td>\n",
       "      <td>27.0</td>\n",
       "      <td>none</td>\n",
       "      <td>own</td>\n",
       "      <td>1.0</td>\n",
       "      <td>skilled</td>\n",
       "      <td>1.0</td>\n",
       "      <td>none</td>\n",
       "      <td>yes</td>\n",
       "    </tr>\n",
       "  </tbody>\n",
       "</table>\n",
       "</div>"
      ],
      "text/plain": [
       "    checking_status  duration                  credit_history  \\\n",
       "377     no checking       7.0              delayed previously   \n",
       "857     no checking      15.0  critical/other existing credit   \n",
       "233        0<=X<200      18.0                   existing paid   \n",
       "487     no checking      24.0                   existing paid   \n",
       "500              <0      24.0                   existing paid   \n",
       "\n",
       "                 purpose  credit_amount    savings_status employment  \\\n",
       "377             radio/tv          846.0  no known savings        >=7   \n",
       "857  furniture/equipment         3343.0              <100     1<=X<4   \n",
       "233             radio/tv          866.0              <100     1<=X<4   \n",
       "487              new car         3757.0              <100        >=7   \n",
       "500              new car         3123.0              <100         <1   \n",
       "\n",
       "     installment_commitment     personal_status other_parties  \\\n",
       "377                     3.0         male single          none   \n",
       "857                     4.0         male single          none   \n",
       "233                     4.0        male mar/wid     guarantor   \n",
       "487                     4.0  female div/dep/mar  co applicant   \n",
       "500                     4.0  female div/dep/mar          none   \n",
       "\n",
       "     residence_since property_magnitude   age other_payment_plans   housing  \\\n",
       "377              4.0  no known property  36.0                none  for free   \n",
       "857              2.0  no known property  28.0                none  for free   \n",
       "233              2.0        real estate  25.0                none       own   \n",
       "487              4.0  no known property  62.0                none  for free   \n",
       "500              1.0     life insurance  27.0                none       own   \n",
       "\n",
       "     existing_credits                 job  num_dependents own_telephone  \\\n",
       "377               1.0             skilled             1.0          none   \n",
       "857               1.0             skilled             1.0           yes   \n",
       "233               1.0  unskilled resident             1.0          none   \n",
       "487               1.0             skilled             1.0           yes   \n",
       "500               1.0             skilled             1.0          none   \n",
       "\n",
       "    foreign_worker  \n",
       "377            yes  \n",
       "857            yes  \n",
       "233            yes  \n",
       "487            yes  \n",
       "500            yes  "
      ]
     },
     "execution_count": 4,
     "metadata": {},
     "output_type": "execute_result"
    }
   ],
   "source": [
    "X, y = sklearn.utils.shuffle(X,y)\n",
    "train_size=800\n",
    "X_train, X_test, y_train, y_test = X[:train_size], X[train_size:], y[:train_size], y[train_size:]\n",
    "\n",
    "X_train.head()"
   ]
  },
  {
   "cell_type": "markdown",
   "metadata": {},
   "source": [
    "Hmmm, a good number of the features are categorical, ie, we have entries such as \"male single\" etc. We should investigate this in more detail. Let's first look at some random column and see what unique values we have there."
   ]
  },
  {
   "cell_type": "code",
   "execution_count": 5,
   "metadata": {},
   "outputs": [
    {
     "data": {
      "text/plain": [
       "['male single', 'male mar/wid', 'female div/dep/mar', 'male div/sep']"
      ]
     },
     "execution_count": 5,
     "metadata": {},
     "output_type": "execute_result"
    }
   ],
   "source": [
    "list(X_train[\"personal_status\"].unique())"
   ]
  },
  {
   "cell_type": "markdown",
   "metadata": {},
   "source": [
    "Eh. Wow, this data set ist terrible. Why are there three categories for men but only one for women? And is \"div/dep/mar\" short for divorced, dependent or married? Women can be dependent but not men? Also no single women? Wonderful. Not only is this data set xenophobic but also sexist. \n",
    "\n",
    "Let's look at all the non-numerical data."
   ]
  },
  {
   "cell_type": "code",
   "execution_count": 6,
   "metadata": {},
   "outputs": [
    {
     "name": "stdout",
     "output_type": "stream",
     "text": [
      "** checking_status **\n",
      "['no checking', '0<=X<200', '<0', '>=200']\n",
      "\n",
      "** credit_history **\n",
      "['delayed previously', 'critical/other existing credit', 'existing paid', 'no credits/all paid', 'all paid']\n",
      "\n",
      "** purpose **\n",
      "['radio/tv', 'furniture/equipment', 'new car', 'used car', 'business', 'repairs', 'education', 'retraining', 'other', 'domestic appliance']\n",
      "\n",
      "** savings_status **\n",
      "['no known savings', '<100', '>=1000', '500<=X<1000', '100<=X<500']\n",
      "\n",
      "** employment **\n",
      "['>=7', '1<=X<4', '<1', '4<=X<7', 'unemployed']\n",
      "\n",
      "** personal_status **\n",
      "['male single', 'male mar/wid', 'female div/dep/mar', 'male div/sep']\n",
      "\n",
      "** other_parties **\n",
      "['none', 'guarantor', 'co applicant']\n",
      "\n",
      "** property_magnitude **\n",
      "['no known property', 'real estate', 'life insurance', 'car']\n",
      "\n",
      "** other_payment_plans **\n",
      "['none', 'stores', 'bank']\n",
      "\n",
      "** housing **\n",
      "['for free', 'own', 'rent']\n",
      "\n",
      "** job **\n",
      "['skilled', 'unskilled resident', 'high qualif/self emp/mgmt', 'unemp/unskilled non res']\n",
      "\n",
      "** own_telephone **\n",
      "['none', 'yes']\n",
      "\n",
      "** foreign_worker **\n",
      "['yes', 'no']\n",
      "\n"
     ]
    }
   ],
   "source": [
    "categorical_columns=[\"checking_status\",\"credit_history\",\"purpose\",\"savings_status\",\n",
    "               \"employment\",\"personal_status\",\"other_parties\",\"property_magnitude\",\n",
    "               \"other_payment_plans\",\"housing\",\"job\",\"own_telephone\",\"foreign_worker\"]\n",
    "for column in categorical_columns:\n",
    "    print(\"** {} **\".format(column))\n",
    "    print(list(X_train[column].unique().categories))\n",
    "    print()"
   ]
  },
  {
   "cell_type": "markdown",
   "metadata": {},
   "source": [
    "Okay, we now have two tasks: \n",
    "1. drop the sexist/xenophobic features\n",
    "2. encode categorical data as numerical data\n",
    "We could do this directly in the data (in the <code>pandas.DataFrame</code>). It is cleaner, however, to define a transformer that can also handle new data. \n",
    "\n",
    "How do we encode values such as 'none', 'bank', 'stores'? There are two ways: we do one-hot encoding, or we encode this into ordinal values. The first option is usually better. It would turn a feature with three different unique values into a 0,1-vector of length 3; see [OneHotEncoder](https://scikit-learn.org/stable/modules/generated/sklearn.preprocessing.OneHotEncoder.html#sklearn.preprocessing.OneHotEncoder). Because AdaBoost is based on decision trees we can actually work with an ordinal encoding: values such as 'none', 'bank', 'stores' get mapped to numbers 0,1,2. [OrdinalEncoder](https://scikit-learn.org/stable/modules/generated/sklearn.preprocessing.OrdinalEncoder.html#sklearn.preprocessing.OrdinalEncoder) provides a transformer that does exactly that. Let's try it out:"
   ]
  },
  {
   "cell_type": "code",
   "execution_count": 7,
   "metadata": {},
   "outputs": [
    {
     "data": {
      "text/plain": [
       "array([[1., 0., 1., 1., 0., 1., 1., 0., 1., 1., 1., 0., 2., 0., 0., 0.,\n",
       "        0., 0., 0., 0.],\n",
       "       [1., 1., 0., 0., 2., 0., 0., 1., 1., 1., 0., 0., 1., 0., 0., 0.,\n",
       "        0., 0., 1., 0.],\n",
       "       [0., 2., 2., 1., 1., 0., 0., 1., 0., 0., 0., 1., 0., 0., 1., 0.,\n",
       "        1., 0., 0., 0.]])"
      ]
     },
     "execution_count": 7,
     "metadata": {},
     "output_type": "execute_result"
    }
   ],
   "source": [
    "ord_encoder=sklearn.preprocessing.OrdinalEncoder()\n",
    "ord_encoder.fit_transform(X_train[:3])"
   ]
  },
  {
   "cell_type": "markdown",
   "metadata": {},
   "source": [
    "One problem: <code>OrdinalEncoder</code> now treats *every* feature as a categorical feature. There are, however, numerical features such as *duration* that we want keep unchanged. \n",
    "\n",
    "To treat only certain columns we use a [ColumnTransformer](https://scikit-learn.org/stable/modules/generated/sklearn.compose.ColumnTransformer.html#sklearn.compose.ColumnTransformer.fit_transform). We actually use the convenience method<code>make_column_transformer</code> that takes a list of tuples (transformer, columns) and then applies the transformer only to those columns. We also set the argument <code>remainder=\"passthrough\"</code> to keep the other (numerical) columns unchanged."
   ]
  },
  {
   "cell_type": "code",
   "execution_count": 8,
   "metadata": {},
   "outputs": [
    {
     "data": {
      "text/plain": [
       "array([[ 3.,  2.,  6., ..., 36.,  1.,  1.],\n",
       "       [ 3.,  1.,  3., ..., 28.,  1.,  1.],\n",
       "       [ 0.,  3.,  6., ..., 25.,  1.,  1.],\n",
       "       ...,\n",
       "       [ 0.,  1.,  6., ..., 23.,  2.,  1.],\n",
       "       [ 1.,  1.,  7., ..., 65.,  2.,  1.],\n",
       "       [ 2.,  3.,  2., ..., 23.,  1.,  1.]])"
      ]
     },
     "execution_count": 8,
     "metadata": {},
     "output_type": "execute_result"
    }
   ],
   "source": [
    "from sklearn.compose import make_column_transformer\n",
    "ord_enc=sklearn.preprocessing.OrdinalEncoder()\n",
    "column_transformer=make_column_transformer((ord_enc,categorical_columns),remainder=\"passthrough\")\n",
    "column_transformer.fit_transform(X_train)"
   ]
  },
  {
   "cell_type": "markdown",
   "metadata": {},
   "source": [
    "Only problem: we still have the xenophobic/sexist features that we do not want to use. If we look at <code>[make_column_transformer](https://scikit-learn.org/stable/modules/generated/sklearn.compose.make_column_transformer.html#sklearn.compose.make_column_transformer)</code> we see that there is a way to drop certain columns by adding a tuple <code>('drop',columns_to_be_dropped)</code>."
   ]
  },
  {
   "cell_type": "code",
   "execution_count": 9,
   "metadata": {},
   "outputs": [
    {
     "data": {
      "text/plain": [
       "array([[ 3.,  2.,  6., ..., 36.,  1.,  1.],\n",
       "       [ 3.,  1.,  3., ..., 28.,  1.,  1.],\n",
       "       [ 0.,  3.,  6., ..., 25.,  1.,  1.],\n",
       "       ...,\n",
       "       [ 0.,  1.,  6., ..., 23.,  2.,  1.],\n",
       "       [ 1.,  1.,  7., ..., 65.,  2.,  1.],\n",
       "       [ 2.,  3.,  2., ..., 23.,  1.,  1.]])"
      ]
     },
     "execution_count": 9,
     "metadata": {},
     "output_type": "execute_result"
    }
   ],
   "source": [
    "categorical_columns=[\"checking_status\",\"credit_history\",\"purpose\",\"savings_status\",\n",
    "               \"employment\",\"other_parties\",\"property_magnitude\",\n",
    "               \"other_payment_plans\",\"housing\",\"job\",\"own_telephone\"]\n",
    "unethical_features=[\"personal_status\",\"foreign_worker\"]\n",
    "ord_enc=sklearn.preprocessing.OrdinalEncoder()\n",
    "column_transformer=make_column_transformer((ord_enc,categorical_columns),('drop',unethical_features),remainder=\"passthrough\")\n",
    "column_transformer.fit_transform(X_train)"
   ]
  },
  {
   "cell_type": "markdown",
   "metadata": {},
   "source": [
    "## run AdaBoost\n",
    "\n",
    "We run AdaBoost once with many estimators and plot training and test error. "
   ]
  },
  {
   "cell_type": "code",
   "execution_count": 13,
   "metadata": {},
   "outputs": [
    {
     "data": {
      "image/png": "[encoded data removed]",
      "text/plain": [
       "<Figure size 360x288 with 1 Axes>"
      ]
     },
     "metadata": {},
     "output_type": "display_data"
    }
   ],
   "source": [
    "def ada_plot(train_errs,test_errs,filename=None):\n",
    "    _,ax=plt.subplots(figsize=(5,4))\n",
    "    ax.plot(range(len(train_errs)),train_errs,label=\"train error\")\n",
    "    ax.plot(range(len(test_errs)),test_errs,label=\"test error\")\n",
    "    ax.set_title(\"Error by number of estimators\",fontsize=14)\n",
    "    ax.set_ylabel(\"error\",fontsize=14)\n",
    "    ax.set_xlabel(\"number of estimators\",fontsize=14)\n",
    "    ax.legend(fontsize=14)\n",
    "    if filename is not None:\n",
    "        plt.savefig(filename,dpi=300)\n",
    "    plt.show()    \n",
    "\n",
    "categorical_columns=[\"checking_status\",\"credit_history\",\"purpose\",\"savings_status\",\n",
    "               \"employment\",\"other_parties\",\"property_magnitude\",\n",
    "               \"other_payment_plans\",\"housing\",\"job\",\"own_telephone\"]\n",
    "unethical_features=[\"personal_status\",\"foreign_worker\"]\n",
    "ord_enc=sklearn.preprocessing.OrdinalEncoder()\n",
    "column_transformer=make_column_transformer((ord_enc,categorical_columns),('drop',unethical_features),remainder=\"passthrough\")\n",
    "\n",
    "ada=AdaBoostClassifier(n_estimators=500)\n",
    "\n",
    "ada.fit(column_transformer.fit_transform(X_train),y_train)\n",
    "train_errs_by_round=[zero_one_loss(y_train,pred) for pred in ada.staged_predict(column_transformer.transform(X_train))]\n",
    "test_errs_by_round=[zero_one_loss(y_test,pred) for pred in ada.staged_predict(column_transformer.transform(X_test))]\n",
    "ada_plot(train_errs_by_round,test_errs_by_round)"
   ]
  },
  {
   "cell_type": "markdown",
   "metadata": {},
   "source": [
    "## repeat several times\n",
    "\n",
    "Let's repeat that several times to get a more stable picture of what's happening here. We train 50 instances of AdaBoost, each with 200 estimators. We then plot the means."
   ]
  },
  {
   "cell_type": "code",
   "execution_count": 11,
   "metadata": {},
   "outputs": [
    {
     "data": {
      "image/png": "[encoded data removed]",
      "text/plain": [
       "<Figure size 576x396 with 1 Axes>"
      ]
     },
     "metadata": {},
     "output_type": "display_data"
    }
   ],
   "source": [
    "repeats=50\n",
    "ada=AdaBoostClassifier(n_estimators=200)\n",
    "train_errs_by_round=[]\n",
    "test_errs_by_round=[]\n",
    "for r in range(repeats):\n",
    "    X, y = sklearn.utils.shuffle(X,y)\n",
    "    X_train, X_test, y_train, y_test = X[:train_size], X[train_size:], y[:train_size], y[train_size:]\n",
    "    ada.fit(column_transformer.fit_transform(X_train),y_train)\n",
    "    train_errs_by_round.append([zero_one_loss(y_train,pred) for pred in ada.staged_predict(column_transformer.transform(X_train))])\n",
    "    test_errs_by_round.append([zero_one_loss(y_test,pred) for pred in ada.staged_predict(column_transformer.transform(X_test))])\n",
    "train_errs=np.array(train_errs_by_round).mean(axis=0)\n",
    "test_errs=np.array(test_errs_by_round).mean(axis=0)\n",
    "\n",
    "ada_plot(train_errs,test_errs,filename=\"adagerman.png\")"
   ]
  },
  {
   "cell_type": "markdown",
   "metadata": {},
   "source": [
    "Let's also try a more powerful base estimator. The default base estimator is a decision stump -- now let's try with a decision tree of depth 2."
   ]
  },
  {
   "cell_type": "code",
   "execution_count": 12,
   "metadata": {},
   "outputs": [
    {
     "data": {
      "image/png": "[encoded data removed]",
      "text/plain": [
       "<Figure size 576x396 with 1 Axes>"
      ]
     },
     "metadata": {},
     "output_type": "display_data"
    }
   ],
   "source": [
    "repeats=50\n",
    "ada=AdaBoostClassifier(base_estimator=DecisionTreeClassifier(max_depth=2),n_estimators=200)\n",
    "train_errs_by_round=[]\n",
    "test_errs_by_round=[]\n",
    "for r in range(repeats):\n",
    "    X, y = sklearn.utils.shuffle(X,y)\n",
    "    X_train, X_test, y_train, y_test = X[:train_size], X[train_size:], y[:train_size], y[train_size:]\n",
    "    ada.fit(column_transformer.fit_transform(X_train),y_train)\n",
    "    train_errs_by_round.append([zero_one_loss(y_train,pred) for pred in ada.staged_predict(column_transformer.transform(X_train))])\n",
    "    test_errs_by_round.append([zero_one_loss(y_test,pred) for pred in ada.staged_predict(column_transformer.transform(X_test))])\n",
    "train_errsX=np.array(train_errs_by_round).mean(axis=0)\n",
    "test_errsX=np.array(test_errs_by_round).mean(axis=0)\n",
    "\n",
    "ada_plot(train_errsX,test_errsX)"
   ]
  },
  {
   "cell_type": "markdown",
   "metadata": {},
   "source": [
    "Training error drops much more quickly and actually to 0, as is expected. Test error is not better, though."
   ]
  }
 ],
 "metadata": {
  "kernelspec": {
   "display_name": "Python 3",
   "language": "python",
   "name": "python3"
  },
  "language_info": {
   "codemirror_mode": {
    "name": "ipython",
    "version": 3
   },
   "file_extension": ".py",
   "mimetype": "text/x-python",
   "name": "python",
   "nbconvert_exporter": "python",
   "pygments_lexer": "ipython3",
   "version": "3.8.8"
  }
 },
 "nbformat": 4,
 "nbformat_minor": 4
}
