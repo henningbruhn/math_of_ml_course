{
 "cells": [
  {
   "cell_type": "markdown",
   "metadata": {},
   "source": [
    "# Spam or ham -- naive Bayes classifier"
   ]
  },
  {
   "cell_type": "code",
   "execution_count": 1,
   "metadata": {},
   "outputs": [],
   "source": [
    "import pandas as pd\n",
    "import numpy as np\n",
    "from sklearn.metrics import zero_one_loss\n",
    "import matplotlib.pyplot as plt"
   ]
  },
  {
   "cell_type": "markdown",
   "metadata": {},
   "source": [
    "Let's import a data set with spam and non-spam text messages as a csv file. You can download it at https://archive.ics.uci.edu/ml/datasets/SMS+Spam+Collection\n"
   ]
  },
  {
   "cell_type": "code",
   "execution_count": 3,
   "metadata": {},
   "outputs": [
    {
     "data": {
      "text/html": [
       "<div>\n",
       "<style scoped>\n",
       "    .dataframe tbody tr th:only-of-type {\n",
       "        vertical-align: middle;\n",
       "    }\n",
       "\n",
       "    .dataframe tbody tr th {\n",
       "        vertical-align: top;\n",
       "    }\n",
       "\n",
       "    .dataframe thead th {\n",
       "        text-align: right;\n",
       "    }\n",
       "</style>\n",
       "<table border=\"1\" class=\"dataframe\">\n",
       "  <thead>\n",
       "    <tr style=\"text-align: right;\">\n",
       "      <th></th>\n",
       "      <th>class</th>\n",
       "      <th>sms</th>\n",
       "    </tr>\n",
       "  </thead>\n",
       "  <tbody>\n",
       "    <tr>\n",
       "      <th>0</th>\n",
       "      <td>ham</td>\n",
       "      <td>Go until jurong point, crazy.. Available only ...</td>\n",
       "    </tr>\n",
       "    <tr>\n",
       "      <th>1</th>\n",
       "      <td>ham</td>\n",
       "      <td>Ok lar... Joking wif u oni...</td>\n",
       "    </tr>\n",
       "    <tr>\n",
       "      <th>2</th>\n",
       "      <td>spam</td>\n",
       "      <td>Free entry in 2 a wkly comp to win FA Cup fina...</td>\n",
       "    </tr>\n",
       "    <tr>\n",
       "      <th>3</th>\n",
       "      <td>ham</td>\n",
       "      <td>U dun say so early hor... U c already then say...</td>\n",
       "    </tr>\n",
       "    <tr>\n",
       "      <th>4</th>\n",
       "      <td>ham</td>\n",
       "      <td>Nah I don't think he goes to usf, he lives aro...</td>\n",
       "    </tr>\n",
       "  </tbody>\n",
       "</table>\n",
       "</div>"
      ],
      "text/plain": [
       "  class                                                sms\n",
       "0   ham  Go until jurong point, crazy.. Available only ...\n",
       "1   ham                      Ok lar... Joking wif u oni...\n",
       "2  spam  Free entry in 2 a wkly comp to win FA Cup fina...\n",
       "3   ham  U dun say so early hor... U c already then say...\n",
       "4   ham  Nah I don't think he goes to usf, he lives aro..."
      ]
     },
     "execution_count": 3,
     "metadata": {},
     "output_type": "execute_result"
    }
   ],
   "source": [
    "# spam or ham dataset from\n",
    "# https://archive.ics.uci.edu/ml/datasets/SMS+Spam+Collection\n",
    "data = pd.read_csv(\"spam_or_ham/SMSSpamCollection.csv\", sep='\\t',header=None,encoding = \"latin-1\",names=[\"class\",\"sms\"])\n",
    "data.head()"
   ]
  },
  {
   "cell_type": "code",
   "execution_count": 4,
   "metadata": {},
   "outputs": [
    {
     "name": "stdout",
     "output_type": "stream",
     "text": [
      "<class 'pandas.core.frame.DataFrame'>\n",
      "RangeIndex: 5572 entries, 0 to 5571\n",
      "Data columns (total 2 columns):\n",
      " #   Column  Non-Null Count  Dtype \n",
      "---  ------  --------------  ----- \n",
      " 0   class   5572 non-null   object\n",
      " 1   sms     5572 non-null   object\n",
      "dtypes: object(2)\n",
      "memory usage: 87.2+ KB\n"
     ]
    }
   ],
   "source": [
    "data.info()"
   ]
  },
  {
   "cell_type": "code",
   "execution_count": 5,
   "metadata": {},
   "outputs": [],
   "source": [
    "# if not transformed to numpy array, shuffle_index below won't work\n",
    "X=np.array(data[\"sms\"])\n",
    "y=np.array(data[\"class\"]==\"spam\")\n",
    "shuffle_index = np.random.permutation(len(y))\n",
    "X, y = X[shuffle_index], y[shuffle_index]\n",
    "\n",
    "split=4500\n",
    "# split training set and test set, if max_size is set, then take only part of data as test set\n",
    "X_train,y_train,X_test,y_test = X[:split],y[:split],X[split:],y[split:]"
   ]
  },
  {
   "cell_type": "code",
   "execution_count": 6,
   "metadata": {},
   "outputs": [
    {
     "data": {
      "text/plain": [
       "0.13333333333333333"
      ]
     },
     "execution_count": 6,
     "metadata": {},
     "output_type": "execute_result"
    }
   ],
   "source": [
    "# ratio of spam to all\n",
    "sum(y_train==1)/len(y_train)"
   ]
  },
  {
   "cell_type": "markdown",
   "metadata": {},
   "source": [
    "We see that the data set is skewed: only about 13% of all text messages is spam."
   ]
  },
  {
   "cell_type": "markdown",
   "metadata": {},
   "source": [
    "# bag of words\n",
    "\n",
    "Let's turn the messages into term count vectors. To see how this works, we first only look at three messages."
   ]
  },
  {
   "cell_type": "code",
   "execution_count": 7,
   "metadata": {},
   "outputs": [
    {
     "data": {
      "text/plain": [
       "CountVectorizer()"
      ]
     },
     "execution_count": 7,
     "metadata": {},
     "output_type": "execute_result"
    }
   ],
   "source": [
    "# CountVectorizer transforms text into bag of words\n",
    "from sklearn.feature_extraction.text import CountVectorizer\n",
    "cvec=CountVectorizer()\n",
    "cvec.fit(X[:3])"
   ]
  },
  {
   "cell_type": "code",
   "execution_count": 8,
   "metadata": {},
   "outputs": [
    {
     "data": {
      "text/plain": [
       "\"He has lots of used ones babe, but the model doesn't help. Youi have to bring it over and he'll match it up\""
      ]
     },
     "execution_count": 8,
     "metadata": {},
     "output_type": "execute_result"
    }
   ],
   "source": [
    "X[0]"
   ]
  },
  {
   "cell_type": "code",
   "execution_count": 9,
   "metadata": {},
   "outputs": [
    {
     "data": {
      "text/plain": [
       "array([[0, 0, 1, 1, 0, 1, 1, 0, 1, 0, 1, 1, 2, 1, 0, 2, 0, 0, 1, 1, 1, 0,\n",
       "        1, 1, 1, 1, 0, 0, 1, 0, 0, 0, 1, 1, 1, 0, 0, 1]])"
      ]
     },
     "execution_count": 9,
     "metadata": {},
     "output_type": "execute_result"
    }
   ],
   "source": [
    "cvec.transform([X[0]]).toarray()"
   ]
  },
  {
   "cell_type": "code",
   "execution_count": 10,
   "metadata": {},
   "outputs": [
    {
     "data": {
      "text/plain": [
       "{'he': 12,\n",
       " 'has': 10,\n",
       " 'lots': 19,\n",
       " 'of': 23,\n",
       " 'used': 34,\n",
       " 'ones': 24,\n",
       " 'babe': 3,\n",
       " 'but': 6,\n",
       " 'the': 28,\n",
       " 'model': 22,\n",
       " 'doesn': 8,\n",
       " 'help': 13,\n",
       " 'youi': 37,\n",
       " 'have': 11,\n",
       " 'to': 32,\n",
       " 'bring': 5,\n",
       " 'it': 15,\n",
       " 'over': 25,\n",
       " 'and': 2,\n",
       " 'll': 18,\n",
       " 'match': 20,\n",
       " 'up': 33,\n",
       " 'leaving': 16,\n",
       " 'soon': 27,\n",
       " 'be': 4,\n",
       " 'there': 29,\n",
       " 'little': 17,\n",
       " 'after': 1,\n",
       " 'what': 35,\n",
       " 'you': 36,\n",
       " 'thinked': 30,\n",
       " 'about': 0,\n",
       " 'me': 21,\n",
       " 'first': 9,\n",
       " 'time': 31,\n",
       " 'saw': 26,\n",
       " 'in': 14,\n",
       " 'class': 7}"
      ]
     },
     "execution_count": 10,
     "metadata": {},
     "output_type": "execute_result"
    }
   ],
   "source": [
    "cvec.vocabulary_"
   ]
  },
  {
   "cell_type": "code",
   "execution_count": 11,
   "metadata": {},
   "outputs": [
    {
     "data": {
      "text/plain": [
       "8480"
      ]
     },
     "execution_count": 11,
     "metadata": {},
     "output_type": "execute_result"
    }
   ],
   "source": [
    "# we can also try to strip stop words, ie very common words\n",
    "cvec=CountVectorizer(stop_words=\"english\")\n",
    "cvec.fit(X)\n",
    "len(cvec.vocabulary_)"
   ]
  },
  {
   "cell_type": "markdown",
   "metadata": {},
   "source": [
    "Let's have a look at the first ten stop words."
   ]
  },
  {
   "cell_type": "code",
   "execution_count": 13,
   "metadata": {},
   "outputs": [
    {
     "data": {
      "text/plain": [
       "['mostly',\n",
       " 'somewhere',\n",
       " 'last',\n",
       " 'yet',\n",
       " 'another',\n",
       " 'must',\n",
       " 'therein',\n",
       " 'neither',\n",
       " 'amongst',\n",
       " 'without']"
      ]
     },
     "execution_count": 13,
     "metadata": {},
     "output_type": "execute_result"
    }
   ],
   "source": [
    "list(cvec.get_stop_words())[:10]"
   ]
  },
  {
   "cell_type": "markdown",
   "metadata": {},
   "source": [
    "## Naive Bayes\n",
    "\n",
    "see also https://scikit-learn.org/stable/tutorial/text_analytics/working_with_text_data.html\n",
    "\n",
    "and https://scikit-learn.org/stable/modules/naive_bayes.html for naive Bayes\n",
    "\n",
    "We fit a naive Bayes classifier based on a multinomial model."
   ]
  },
  {
   "cell_type": "code",
   "execution_count": 17,
   "metadata": {},
   "outputs": [
    {
     "data": {
      "text/plain": [
       "MultinomialNB(alpha=1.0, class_prior=None, fit_prior=True)"
      ]
     },
     "execution_count": 17,
     "metadata": {},
     "output_type": "execute_result"
    }
   ],
   "source": [
    "from sklearn.naive_bayes import MultinomialNB\n",
    "cvec=CountVectorizer(stop_words=\"english\")\n",
    "X_train_vec=cvec.fit_transform(X_train)\n",
    "naive=MultinomialNB()\n",
    "naive.fit(X_train_vec,y_train)"
   ]
  },
  {
   "cell_type": "markdown",
   "metadata": {},
   "source": [
    "Let's compute train and test error:"
   ]
  },
  {
   "cell_type": "code",
   "execution_count": 18,
   "metadata": {},
   "outputs": [
    {
     "name": "stdout",
     "output_type": "stream",
     "text": [
      "errors train / test: 0.6% / 1.1%\n"
     ]
    }
   ],
   "source": [
    "y_pred=naive.predict(cvec.transform(X_test))\n",
    "y_train_pred=naive.predict(cvec.transform(X_train))\n",
    "na_test=zero_one_loss(y_pred,y_test)\n",
    "na_train=zero_one_loss(y_train_pred,y_train)\n",
    "print(\"errors train / test: {:.1%} / {:.1%}\".format(na_train,na_test))"
   ]
  },
  {
   "cell_type": "markdown",
   "metadata": {},
   "source": [
    "Not bad for such a simple algorithm!"
   ]
  }
 ],
 "metadata": {
  "kernelspec": {
   "display_name": "Python 3",
   "language": "python",
   "name": "python3"
  },
  "language_info": {
   "codemirror_mode": {
    "name": "ipython",
    "version": 3
   },
   "file_extension": ".py",
   "mimetype": "text/x-python",
   "name": "python",
   "nbconvert_exporter": "python",
   "pygments_lexer": "ipython3",
   "version": "3.8.6"
  }
 },
 "nbformat": 4,
 "nbformat_minor": 4
}
