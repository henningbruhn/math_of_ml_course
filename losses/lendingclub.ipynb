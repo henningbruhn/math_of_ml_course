{
 "cells": [
  {
   "cell_type": "markdown",
   "id": "2341daca-b76b-47d6-8884-430b949203b4",
   "metadata": {},
   "source": [
    "# Imbalanced classes\n",
    "\n",
    "What can we do if we have unbalanced classes, ie, if one class that is much rarer than the other, or if one class is more important to us than another?"
   ]
  },
  {
   "cell_type": "code",
   "execution_count": 1,
   "id": "20d04be6-4968-4d9e-ae4f-52bf326b3089",
   "metadata": {},
   "outputs": [],
   "source": [
    "import numpy as np\n",
    "import matplotlib.pyplot as plt\n",
    "plt.style.use(\"seaborn-v0_8\")\n",
    "import sklearn.datasets\n",
    "import sklearn.utils\n",
    "from sklearn.preprocessing import OneHotEncoder\n",
    "from sklearn.compose import make_column_transformer\n",
    "from sklearn.ensemble import RandomForestClassifier\n",
    "import sklearn.metrics\n",
    "from sklearn.pipeline import Pipeline\n",
    "from sklearn.model_selection import train_test_split"
   ]
  },
  {
   "cell_type": "markdown",
   "id": "976c9b2f-0d39-4dda-93fe-0142b0bd8a48",
   "metadata": {},
   "source": [
    "We download the [Lending Club Loan Dataset](https://www.openml.org/search?type=data&sort=runs&id=43729&status=active) from openml. It's a dataset on loans, the target variable captures whether the loan was fully paid back or not."
   ]
  },
  {
   "cell_type": "code",
   "execution_count": 2,
   "id": "eb963286-5665-4b47-bd1d-7fbdd2389493",
   "metadata": {},
   "outputs": [],
   "source": [
    "data=sklearn.datasets.fetch_openml(data_id=43729,target_column=\"not.fully.paid\",parser='auto')"
   ]
  },
  {
   "cell_type": "markdown",
   "id": "764df251-ec5a-43aa-a193-82562980c9e1",
   "metadata": {},
   "source": [
    "Let's print the description."
   ]
  },
  {
   "cell_type": "code",
   "execution_count": 3,
   "id": "e4d4e88b-c124-49ab-b389-59c9e3858265",
   "metadata": {},
   "outputs": [
    {
     "name": "stdout",
     "output_type": "stream",
     "text": [
      "Context\n",
      "I wanted a highly imbalanced dataset to share with others. It has the perfect one for us.\n",
      "Imbalanced data typically refers to a classification problem where the number of observations per class is not equally distributed; often you'll have a large amount of data/observations for one class (referred to as the majority class), and much fewer observations for one or more other classes (referred to as the minority classes). \n",
      "For example, In this dataset, There are way more samples of fully paid borrowers versus not fully paid borrowers. \n",
      "Full LendingClub data available from their site.\n",
      "Content\n",
      "For companies like Lending Club correctly predicting whether or not a loan will be default is very important. This dataset contains historical data from 2007 to 2015, you can to build a deep learning model to predict the chance of default for future loans. As you will see this dataset is highly imbalanced and includes a lot of features that make this problem more challenging.\n",
      "\n",
      "Downloaded from openml.org.\n"
     ]
    }
   ],
   "source": [
    "print(data.DESCR)"
   ]
  },
  {
   "cell_type": "markdown",
   "id": "7df5b09a-360b-4f18-8e1d-bb3a81db4a26",
   "metadata": {},
   "source": [
    "We split the data into a training set and a test set. At the same time we shuffle the data."
   ]
  },
  {
   "cell_type": "code",
   "execution_count": 4,
   "id": "4e5856d3-b5d6-4b77-8b00-f9795e15a2f3",
   "metadata": {},
   "outputs": [],
   "source": [
    "X_train,X_test,y_train,y_test=train_test_split(data.data,data.target,train_size=7000,shuffle=True)"
   ]
  },
  {
   "cell_type": "markdown",
   "id": "5763c397-9bd6-4bf9-ad76-c7f1fe325705",
   "metadata": {},
   "source": [
    "Let's see whether we really have imbalanced classes:"
   ]
  },
  {
   "cell_type": "code",
   "execution_count": 5,
   "id": "00fab6ce-6d56-4b87-a4cc-667cca36b0e2",
   "metadata": {},
   "outputs": [
    {
     "data": {
      "text/plain": [
       "(1132, 5868)"
      ]
     },
     "execution_count": 5,
     "metadata": {},
     "output_type": "execute_result"
    }
   ],
   "source": [
    "sum(y_train==1),sum(y_train==0)"
   ]
  },
  {
   "cell_type": "markdown",
   "id": "cd0441e4-2da5-4c84-92ab-a3646d2fc980",
   "metadata": {},
   "source": [
    "Indeed, there are many more instances of class 0 (people paying back their loan) than instances of class 1 (people defaulting on their loan).\n",
    "\n",
    "Let's have a peek at the training data:"
   ]
  },
  {
   "cell_type": "code",
   "execution_count": 6,
   "id": "9d21c20d-065c-40f2-9734-b8192bf64841",
   "metadata": {},
   "outputs": [
    {
     "data": {
      "text/html": [
       "<div>\n",
       "<style scoped>\n",
       "    .dataframe tbody tr th:only-of-type {\n",
       "        vertical-align: middle;\n",
       "    }\n",
       "\n",
       "    .dataframe tbody tr th {\n",
       "        vertical-align: top;\n",
       "    }\n",
       "\n",
       "    .dataframe thead th {\n",
       "        text-align: right;\n",
       "    }\n",
       "</style>\n",
       "<table border=\"1\" class=\"dataframe\">\n",
       "  <thead>\n",
       "    <tr style=\"text-align: right;\">\n",
       "      <th></th>\n",
       "      <th>credit.policy</th>\n",
       "      <th>purpose</th>\n",
       "      <th>int.rate</th>\n",
       "      <th>installment</th>\n",
       "      <th>log.annual.inc</th>\n",
       "      <th>dti</th>\n",
       "      <th>fico</th>\n",
       "      <th>days.with.cr.line</th>\n",
       "      <th>revol.bal</th>\n",
       "      <th>revol.util</th>\n",
       "      <th>inq.last.6mths</th>\n",
       "      <th>delinq.2yrs</th>\n",
       "      <th>pub.rec</th>\n",
       "    </tr>\n",
       "  </thead>\n",
       "  <tbody>\n",
       "    <tr>\n",
       "      <th>5053</th>\n",
       "      <td>1</td>\n",
       "      <td>debt_consolidation</td>\n",
       "      <td>0.1426</td>\n",
       "      <td>686.12</td>\n",
       "      <td>11.225243</td>\n",
       "      <td>8.02</td>\n",
       "      <td>687</td>\n",
       "      <td>3479.958333</td>\n",
       "      <td>15278</td>\n",
       "      <td>76.4</td>\n",
       "      <td>3</td>\n",
       "      <td>0</td>\n",
       "      <td>0</td>\n",
       "    </tr>\n",
       "    <tr>\n",
       "      <th>7870</th>\n",
       "      <td>0</td>\n",
       "      <td>home_improvement</td>\n",
       "      <td>0.1407</td>\n",
       "      <td>191.59</td>\n",
       "      <td>9.615805</td>\n",
       "      <td>2.00</td>\n",
       "      <td>642</td>\n",
       "      <td>238.958333</td>\n",
       "      <td>852</td>\n",
       "      <td>77.5</td>\n",
       "      <td>5</td>\n",
       "      <td>0</td>\n",
       "      <td>0</td>\n",
       "    </tr>\n",
       "    <tr>\n",
       "      <th>4856</th>\n",
       "      <td>1</td>\n",
       "      <td>credit_card</td>\n",
       "      <td>0.0859</td>\n",
       "      <td>202.31</td>\n",
       "      <td>10.734220</td>\n",
       "      <td>15.24</td>\n",
       "      <td>747</td>\n",
       "      <td>8400.000000</td>\n",
       "      <td>13010</td>\n",
       "      <td>36.8</td>\n",
       "      <td>0</td>\n",
       "      <td>0</td>\n",
       "      <td>0</td>\n",
       "    </tr>\n",
       "    <tr>\n",
       "      <th>7899</th>\n",
       "      <td>0</td>\n",
       "      <td>debt_consolidation</td>\n",
       "      <td>0.1154</td>\n",
       "      <td>131.99</td>\n",
       "      <td>9.825526</td>\n",
       "      <td>1.30</td>\n",
       "      <td>667</td>\n",
       "      <td>2910.000000</td>\n",
       "      <td>258</td>\n",
       "      <td>86.0</td>\n",
       "      <td>2</td>\n",
       "      <td>0</td>\n",
       "      <td>0</td>\n",
       "    </tr>\n",
       "    <tr>\n",
       "      <th>9559</th>\n",
       "      <td>0</td>\n",
       "      <td>credit_card</td>\n",
       "      <td>0.1273</td>\n",
       "      <td>688.11</td>\n",
       "      <td>11.314475</td>\n",
       "      <td>21.13</td>\n",
       "      <td>732</td>\n",
       "      <td>5881.000000</td>\n",
       "      <td>35227</td>\n",
       "      <td>54.3</td>\n",
       "      <td>5</td>\n",
       "      <td>0</td>\n",
       "      <td>0</td>\n",
       "    </tr>\n",
       "  </tbody>\n",
       "</table>\n",
       "</div>"
      ],
      "text/plain": [
       "      credit.policy             purpose  int.rate  installment  \\\n",
       "5053              1  debt_consolidation    0.1426       686.12   \n",
       "7870              0    home_improvement    0.1407       191.59   \n",
       "4856              1         credit_card    0.0859       202.31   \n",
       "7899              0  debt_consolidation    0.1154       131.99   \n",
       "9559              0         credit_card    0.1273       688.11   \n",
       "\n",
       "      log.annual.inc    dti  fico  days.with.cr.line  revol.bal  revol.util  \\\n",
       "5053       11.225243   8.02   687        3479.958333      15278        76.4   \n",
       "7870        9.615805   2.00   642         238.958333        852        77.5   \n",
       "4856       10.734220  15.24   747        8400.000000      13010        36.8   \n",
       "7899        9.825526   1.30   667        2910.000000        258        86.0   \n",
       "9559       11.314475  21.13   732        5881.000000      35227        54.3   \n",
       "\n",
       "      inq.last.6mths  delinq.2yrs  pub.rec  \n",
       "5053               3            0        0  \n",
       "7870               5            0        0  \n",
       "4856               0            0        0  \n",
       "7899               2            0        0  \n",
       "9559               5            0        0  "
      ]
     },
     "execution_count": 6,
     "metadata": {},
     "output_type": "execute_result"
    }
   ],
   "source": [
    "X_train.head()"
   ]
  },
  {
   "cell_type": "markdown",
   "id": "b959fd4b-e2ca-43e0-bec4-84af91064d19",
   "metadata": {},
   "source": [
    "Aha, seems like <code>X_train[\"purpose\"]</code> has string values. Let's verify that this is the only field."
   ]
  },
  {
   "cell_type": "code",
   "execution_count": 7,
   "id": "a3357e38-6288-498f-b3be-5d3581582c60",
   "metadata": {},
   "outputs": [
    {
     "name": "stdout",
     "output_type": "stream",
     "text": [
      "<class 'pandas.core.frame.DataFrame'>\n",
      "Int64Index: 7000 entries, 5053 to 8962\n",
      "Data columns (total 13 columns):\n",
      " #   Column             Non-Null Count  Dtype  \n",
      "---  ------             --------------  -----  \n",
      " 0   credit.policy      7000 non-null   int64  \n",
      " 1   purpose            7000 non-null   object \n",
      " 2   int.rate           7000 non-null   float64\n",
      " 3   installment        7000 non-null   float64\n",
      " 4   log.annual.inc     7000 non-null   float64\n",
      " 5   dti                7000 non-null   float64\n",
      " 6   fico               7000 non-null   int64  \n",
      " 7   days.with.cr.line  7000 non-null   float64\n",
      " 8   revol.bal          7000 non-null   int64  \n",
      " 9   revol.util         7000 non-null   float64\n",
      " 10  inq.last.6mths     7000 non-null   int64  \n",
      " 11  delinq.2yrs        7000 non-null   int64  \n",
      " 12  pub.rec            7000 non-null   int64  \n",
      "dtypes: float64(6), int64(6), object(1)\n",
      "memory usage: 765.6+ KB\n"
     ]
    }
   ],
   "source": [
    "X_train.info()"
   ]
  },
  {
   "cell_type": "markdown",
   "id": "4d90f508-d45f-466b-ae01-937e4e5a67bb",
   "metadata": {},
   "source": [
    "We check how many different values the column <code>\"purpose\"</code> takes."
   ]
  },
  {
   "cell_type": "code",
   "execution_count": 8,
   "id": "2969bd94-5a05-43a1-b39a-36625737d875",
   "metadata": {},
   "outputs": [
    {
     "data": {
      "text/plain": [
       "array(['debt_consolidation', 'home_improvement', 'credit_card',\n",
       "       'all_other', 'major_purchase', 'small_business', 'educational'],\n",
       "      dtype=object)"
      ]
     },
     "execution_count": 8,
     "metadata": {},
     "output_type": "execute_result"
    }
   ],
   "source": [
    "X_train[\"purpose\"].unique()"
   ]
  },
  {
   "cell_type": "markdown",
   "id": "aeed4d43-6f8d-4cba-9c52-4c328f0ff085",
   "metadata": {},
   "source": [
    "Only a few -- that's good because that means we can one-hot encode the column (ie, replace the string values by unit vectors) without blowing up the dimensionality of the data. Because we only need to one-hot encode *one* column of the data, we wrap the <code>OneHotEncoder</code> into a <code>ColumnTransformer</code>, which then is applied to only the column <code>\"purpose\"</code>. \n",
    "\n",
    "For classification we use a simple classifier, namely a random forest. We could have chosen any other classifier as we're here only interested in demonstrating the effect of a class imbalance. Both the <code>OneHotEncoder</code> and <code>RandomForestClassifier</code> are merged to a <code>Pipeline</code>, an object hat looks from the outside like a simple classifier but that actually performs two steps, namely the transformation and the classification, every time <code>predict</code> (or <code>fit</code>) is called."
   ]
  },
  {
   "cell_type": "code",
   "execution_count": 9,
   "id": "7eacf857-235f-4bec-b648-a74810549a59",
   "metadata": {},
   "outputs": [],
   "source": [
    "col_trans=make_column_transformer((OneHotEncoder(),['purpose']),remainder='passthrough')\n",
    "rf=RandomForestClassifier()\n",
    "classifier=Pipeline([('one hot',col_trans),('random forest',rf)])"
   ]
  },
  {
   "cell_type": "markdown",
   "id": "b60483e5-81c9-46d8-a962-41bef12d46d4",
   "metadata": {},
   "source": [
    "We fit the whole pipeline."
   ]
  },
  {
   "cell_type": "code",
   "execution_count": 10,
   "id": "363c5316-ada3-4eed-afda-b07853d4d292",
   "metadata": {},
   "outputs": [
    {
     "data": {
      "text/html": [
       "<style>#sk-container-id-1 {color: black;background-color: white;}#sk-container-id-1 pre{padding: 0;}#sk-container-id-1 div.sk-toggleable {background-color: white;}#sk-container-id-1 label.sk-toggleable__label {cursor: pointer;display: block;width: 100%;margin-bottom: 0;padding: 0.3em;box-sizing: border-box;text-align: center;}#sk-container-id-1 label.sk-toggleable__label-arrow:before {content: \"▸\";float: left;margin-right: 0.25em;color: #696969;}#sk-container-id-1 label.sk-toggleable__label-arrow:hover:before {color: black;}#sk-container-id-1 div.sk-estimator:hover label.sk-toggleable__label-arrow:before {color: black;}#sk-container-id-1 div.sk-toggleable__content {max-height: 0;max-width: 0;overflow: hidden;text-align: left;background-color: #f0f8ff;}#sk-container-id-1 div.sk-toggleable__content pre {margin: 0.2em;color: black;border-radius: 0.25em;background-color: #f0f8ff;}#sk-container-id-1 input.sk-toggleable__control:checked~div.sk-toggleable__content {max-height: 200px;max-width: 100%;overflow: auto;}#sk-container-id-1 input.sk-toggleable__control:checked~label.sk-toggleable__label-arrow:before {content: \"▾\";}#sk-container-id-1 div.sk-estimator input.sk-toggleable__control:checked~label.sk-toggleable__label {background-color: #d4ebff;}#sk-container-id-1 div.sk-label input.sk-toggleable__control:checked~label.sk-toggleable__label {background-color: #d4ebff;}#sk-container-id-1 input.sk-hidden--visually {border: 0;clip: rect(1px 1px 1px 1px);clip: rect(1px, 1px, 1px, 1px);height: 1px;margin: -1px;overflow: hidden;padding: 0;position: absolute;width: 1px;}#sk-container-id-1 div.sk-estimator {font-family: monospace;background-color: #f0f8ff;border: 1px dotted black;border-radius: 0.25em;box-sizing: border-box;margin-bottom: 0.5em;}#sk-container-id-1 div.sk-estimator:hover {background-color: #d4ebff;}#sk-container-id-1 div.sk-parallel-item::after {content: \"\";width: 100%;border-bottom: 1px solid gray;flex-grow: 1;}#sk-container-id-1 div.sk-label:hover label.sk-toggleable__label {background-color: #d4ebff;}#sk-container-id-1 div.sk-serial::before {content: \"\";position: absolute;border-left: 1px solid gray;box-sizing: border-box;top: 0;bottom: 0;left: 50%;z-index: 0;}#sk-container-id-1 div.sk-serial {display: flex;flex-direction: column;align-items: center;background-color: white;padding-right: 0.2em;padding-left: 0.2em;position: relative;}#sk-container-id-1 div.sk-item {position: relative;z-index: 1;}#sk-container-id-1 div.sk-parallel {display: flex;align-items: stretch;justify-content: center;background-color: white;position: relative;}#sk-container-id-1 div.sk-item::before, #sk-container-id-1 div.sk-parallel-item::before {content: \"\";position: absolute;border-left: 1px solid gray;box-sizing: border-box;top: 0;bottom: 0;left: 50%;z-index: -1;}#sk-container-id-1 div.sk-parallel-item {display: flex;flex-direction: column;z-index: 1;position: relative;background-color: white;}#sk-container-id-1 div.sk-parallel-item:first-child::after {align-self: flex-end;width: 50%;}#sk-container-id-1 div.sk-parallel-item:last-child::after {align-self: flex-start;width: 50%;}#sk-container-id-1 div.sk-parallel-item:only-child::after {width: 0;}#sk-container-id-1 div.sk-dashed-wrapped {border: 1px dashed gray;margin: 0 0.4em 0.5em 0.4em;box-sizing: border-box;padding-bottom: 0.4em;background-color: white;}#sk-container-id-1 div.sk-label label {font-family: monospace;font-weight: bold;display: inline-block;line-height: 1.2em;}#sk-container-id-1 div.sk-label-container {text-align: center;}#sk-container-id-1 div.sk-container {/* jupyter's `normalize.less` sets `[hidden] { display: none; }` but bootstrap.min.css set `[hidden] { display: none !important; }` so we also need the `!important` here to be able to override the default hidden behavior on the sphinx rendered scikit-learn.org. See: https://github.com/scikit-learn/scikit-learn/issues/21755 */display: inline-block !important;position: relative;}#sk-container-id-1 div.sk-text-repr-fallback {display: none;}</style><div id=\"sk-container-id-1\" class=\"sk-top-container\"><div class=\"sk-text-repr-fallback\"><pre>Pipeline(steps=[(&#x27;one hot&#x27;,\n",
       "                 ColumnTransformer(remainder=&#x27;passthrough&#x27;,\n",
       "                                   transformers=[(&#x27;onehotencoder&#x27;,\n",
       "                                                  OneHotEncoder(),\n",
       "                                                  [&#x27;purpose&#x27;])])),\n",
       "                (&#x27;random forest&#x27;, RandomForestClassifier())])</pre><b>In a Jupyter environment, please rerun this cell to show the HTML representation or trust the notebook. <br />On GitHub, the HTML representation is unable to render, please try loading this page with nbviewer.org.</b></div><div class=\"sk-container\" hidden><div class=\"sk-item sk-dashed-wrapped\"><div class=\"sk-label-container\"><div class=\"sk-label sk-toggleable\"><input class=\"sk-toggleable__control sk-hidden--visually\" id=\"sk-estimator-id-1\" type=\"checkbox\" ><label for=\"sk-estimator-id-1\" class=\"sk-toggleable__label sk-toggleable__label-arrow\">Pipeline</label><div class=\"sk-toggleable__content\"><pre>Pipeline(steps=[(&#x27;one hot&#x27;,\n",
       "                 ColumnTransformer(remainder=&#x27;passthrough&#x27;,\n",
       "                                   transformers=[(&#x27;onehotencoder&#x27;,\n",
       "                                                  OneHotEncoder(),\n",
       "                                                  [&#x27;purpose&#x27;])])),\n",
       "                (&#x27;random forest&#x27;, RandomForestClassifier())])</pre></div></div></div><div class=\"sk-serial\"><div class=\"sk-item sk-dashed-wrapped\"><div class=\"sk-label-container\"><div class=\"sk-label sk-toggleable\"><input class=\"sk-toggleable__control sk-hidden--visually\" id=\"sk-estimator-id-2\" type=\"checkbox\" ><label for=\"sk-estimator-id-2\" class=\"sk-toggleable__label sk-toggleable__label-arrow\">one hot: ColumnTransformer</label><div class=\"sk-toggleable__content\"><pre>ColumnTransformer(remainder=&#x27;passthrough&#x27;,\n",
       "                  transformers=[(&#x27;onehotencoder&#x27;, OneHotEncoder(),\n",
       "                                 [&#x27;purpose&#x27;])])</pre></div></div></div><div class=\"sk-parallel\"><div class=\"sk-parallel-item\"><div class=\"sk-item\"><div class=\"sk-label-container\"><div class=\"sk-label sk-toggleable\"><input class=\"sk-toggleable__control sk-hidden--visually\" id=\"sk-estimator-id-3\" type=\"checkbox\" ><label for=\"sk-estimator-id-3\" class=\"sk-toggleable__label sk-toggleable__label-arrow\">onehotencoder</label><div class=\"sk-toggleable__content\"><pre>[&#x27;purpose&#x27;]</pre></div></div></div><div class=\"sk-serial\"><div class=\"sk-item\"><div class=\"sk-estimator sk-toggleable\"><input class=\"sk-toggleable__control sk-hidden--visually\" id=\"sk-estimator-id-4\" type=\"checkbox\" ><label for=\"sk-estimator-id-4\" class=\"sk-toggleable__label sk-toggleable__label-arrow\">OneHotEncoder</label><div class=\"sk-toggleable__content\"><pre>OneHotEncoder()</pre></div></div></div></div></div></div><div class=\"sk-parallel-item\"><div class=\"sk-item\"><div class=\"sk-label-container\"><div class=\"sk-label sk-toggleable\"><input class=\"sk-toggleable__control sk-hidden--visually\" id=\"sk-estimator-id-5\" type=\"checkbox\" ><label for=\"sk-estimator-id-5\" class=\"sk-toggleable__label sk-toggleable__label-arrow\">remainder</label><div class=\"sk-toggleable__content\"><pre>[&#x27;credit.policy&#x27;, &#x27;int.rate&#x27;, &#x27;installment&#x27;, &#x27;log.annual.inc&#x27;, &#x27;dti&#x27;, &#x27;fico&#x27;, &#x27;days.with.cr.line&#x27;, &#x27;revol.bal&#x27;, &#x27;revol.util&#x27;, &#x27;inq.last.6mths&#x27;, &#x27;delinq.2yrs&#x27;, &#x27;pub.rec&#x27;]</pre></div></div></div><div class=\"sk-serial\"><div class=\"sk-item\"><div class=\"sk-estimator sk-toggleable\"><input class=\"sk-toggleable__control sk-hidden--visually\" id=\"sk-estimator-id-6\" type=\"checkbox\" ><label for=\"sk-estimator-id-6\" class=\"sk-toggleable__label sk-toggleable__label-arrow\">passthrough</label><div class=\"sk-toggleable__content\"><pre>passthrough</pre></div></div></div></div></div></div></div></div><div class=\"sk-item\"><div class=\"sk-estimator sk-toggleable\"><input class=\"sk-toggleable__control sk-hidden--visually\" id=\"sk-estimator-id-7\" type=\"checkbox\" ><label for=\"sk-estimator-id-7\" class=\"sk-toggleable__label sk-toggleable__label-arrow\">RandomForestClassifier</label><div class=\"sk-toggleable__content\"><pre>RandomForestClassifier()</pre></div></div></div></div></div></div></div>"
      ],
      "text/plain": [
       "Pipeline(steps=[('one hot',\n",
       "                 ColumnTransformer(remainder='passthrough',\n",
       "                                   transformers=[('onehotencoder',\n",
       "                                                  OneHotEncoder(),\n",
       "                                                  ['purpose'])])),\n",
       "                ('random forest', RandomForestClassifier())])"
      ]
     },
     "execution_count": 10,
     "metadata": {},
     "output_type": "execute_result"
    }
   ],
   "source": [
    "classifier.fit(X_train,y_train)"
   ]
  },
  {
   "cell_type": "markdown",
   "id": "8673abb7-b19b-40bb-8934-b39158328987",
   "metadata": {},
   "source": [
    "Let's check the accuracy."
   ]
  },
  {
   "cell_type": "code",
   "execution_count": 11,
   "id": "102c4f34-c938-414c-99ac-6462912754dd",
   "metadata": {},
   "outputs": [
    {
     "data": {
      "text/plain": [
       "0.843289371605896"
      ]
     },
     "execution_count": 11,
     "metadata": {},
     "output_type": "execute_result"
    }
   ],
   "source": [
    "y_pred=classifier.predict(X_test)\n",
    "sklearn.metrics.accuracy_score(y_pred,y_test)"
   ]
  },
  {
   "cell_type": "markdown",
   "id": "a1be9852-01e6-4273-9f71-1f6f8dad8b1a",
   "metadata": {},
   "source": [
    "Not great but respectable. However, as there are more instance of class 0, it's easy to achieve high accuracy by **always** predicting 0. So let's calculate the *true positive rate* (the fraction of positive instances that are recognised as positive) and the *true negative rate* (the fraction of negative instances that are recognised as negative).\n",
    "\n",
    "Again, more formally, let's denote by\n",
    "* *tp*: the number of instances of class 1 that are correctly predicted to be 1\n",
    "* *fp*: the number of instances of class 0 that are incorrectly predicted to be 1\n",
    "* *tn*: the number of instances of class 0 that are correctly predicted to be 0\n",
    "* *fn*: the number of instances of class 1 that are incorrectly predicted to be 0\n",
    "Then\n",
    "$$ tpr=\\frac{tp}{tp+fn} \\text{ and } tnr=\\frac{tn}{tn+fp}$$"
   ]
  },
  {
   "cell_type": "code",
   "execution_count": 12,
   "id": "c3d5dd29-6669-428f-aa5a-62ad27b37cf7",
   "metadata": {},
   "outputs": [
    {
     "data": {
      "text/plain": [
       "(0.0199501246882793, 0.9949471750114837)"
      ]
     },
     "execution_count": 12,
     "metadata": {},
     "output_type": "execute_result"
    }
   ],
   "source": [
    "tpr=sum(y_pred*y_test)/sum(y_test)\n",
    "tnr=sum((1-y_pred)*(1-y_test))/sum(1-y_test)\n",
    "tpr,tnr"
   ]
  },
  {
   "cell_type": "markdown",
   "id": "9e8970f9-4660-4a6f-82fe-6ecc9631067b",
   "metadata": {},
   "source": [
    "Aha. *True negative rate* is excellent: we detect almost all cases when a loan is paid back. *True positive rate*, however, is quite low -- we rarely detect a default on the loan. That is clearly bad.\n",
    "\n",
    "To get a more complete picture we compute a *ROC curve*, a *Receiver operating characteristic* curve. (According to Wikipedia ROC curves where first conceived during World War II in the context of radar detection of enemy fighter planes, which may explain the weird name.) The ROC curve plots *false positive rate* against *true positive rate*, where *false positive rate* is the complement of *true negative rate*, ie, $fpr=1-tnr$. That means, ideally, we'd like *true positive rate* to be large and *false positive rate* to be small."
   ]
  },
  {
   "cell_type": "code",
   "execution_count": 13,
   "id": "9085ed9a-46ba-49be-9678-a45b0d5cd6d4",
   "metadata": {},
   "outputs": [
    {
     "data": {
      "image/png": "[encoded data removed]",
      "text/plain": [
       "<Figure size 800x550 with 1 Axes>"
      ]
     },
     "metadata": {},
     "output_type": "display_data"
    }
   ],
   "source": [
    "disp=sklearn.metrics.RocCurveDisplay.from_estimator(classifier,X_test,y_test,pos_label=1)"
   ]
  },
  {
   "cell_type": "markdown",
   "id": "111ae8d8-3f5f-4563-8db3-5e703163398a",
   "metadata": {},
   "source": [
    "That does not look good. \n",
    "\n",
    "How is the ROC curve computed? The classifier outputs for each sample a score in [0,1] that may be interpreted as its confidence how likely it is that the sample belongs to class 1. Normally, we'd classify a sample as 1 if the score is at least 0.5. Now, we can make it harder, or easier, for a sample to be classified as 1 by moving that threshold 0.5. This is used to compute the ROC curve: for each possible threshold the $tpr$ and $fpr$ is computed and then plotted. \n",
    "\n",
    "We can use this obviously to calibrate the classifier. Let's say that we deem a *false positive rate* of at most 30% as acceptable. We can now search for a threshold level that yields $fpr\\leq 0.4$ and a $tpr$ as large as possible."
   ]
  },
  {
   "cell_type": "code",
   "execution_count": 14,
   "id": "afd2f00b-6ae8-4945-805c-57b81071f712",
   "metadata": {},
   "outputs": [],
   "source": [
    "y_scores=classifier.predict_proba(X_test)[:,1]\n",
    "fprs,tprs,thresholds=sklearn.metrics.roc_curve(y_test,y_scores,pos_label=1)"
   ]
  },
  {
   "cell_type": "markdown",
   "id": "f47a51da-16a8-4b63-8ec8-15f20ea11667",
   "metadata": {},
   "source": [
    "Let's extract the threshold that corresponds to at most 30% $fpr$."
   ]
  },
  {
   "cell_type": "code",
   "execution_count": 15,
   "id": "1a509b34-2259-4969-99a5-4219491607fb",
   "metadata": {},
   "outputs": [
    {
     "data": {
      "text/plain": [
       "(0.22, 0.49625935162094764, 0.2733118971061093)"
      ]
     },
     "execution_count": 15,
     "metadata": {},
     "output_type": "execute_result"
    }
   ],
   "source": [
    "index=np.argmin(np.where(fprs<=0.3,thresholds,np.inf))\n",
    "threshold=thresholds[index]\n",
    "threshold,tprs[index],fprs[index]"
   ]
  },
  {
   "cell_type": "markdown",
   "id": "3ca29e50-be9c-4bb8-8388-4d4797adb99d",
   "metadata": {},
   "source": [
    "We modify our classifier and compute $tpr$ and $tnr$ again."
   ]
  },
  {
   "cell_type": "code",
   "execution_count": 16,
   "id": "dc509204-f069-4901-9ef4-e1eaeb88e847",
   "metadata": {},
   "outputs": [
    {
     "data": {
      "text/plain": [
       "(0.49625935162094764, 0.7266881028938906)"
      ]
     },
     "execution_count": 16,
     "metadata": {},
     "output_type": "execute_result"
    }
   ],
   "source": [
    "def predict(X):\n",
    "    return classifier.predict_proba(X)[:,1]>=threshold\n",
    "\n",
    "y_pred=predict(X_test)\n",
    "tpr=sum(y_pred*y_test)/sum(y_test)\n",
    "tnr=sum((1-y_pred)*(1-y_test))/sum(1-y_test)\n",
    "tpr,tnr"
   ]
  },
  {
   "cell_type": "markdown",
   "id": "6e249829-7563-446f-af17-e2e57541ca5a",
   "metadata": {},
   "source": [
    "We have boosted $tpr$ by a lot by sacrificing a good chunk of $tnr$."
   ]
  }
 ],
 "metadata": {
  "kernelspec": {
   "display_name": "Python 3 (ipykernel)",
   "language": "python",
   "name": "python3"
  },
  "language_info": {
   "codemirror_mode": {
    "name": "ipython",
    "version": 3
   },
   "file_extension": ".py",
   "mimetype": "text/x-python",
   "name": "python",
   "nbconvert_exporter": "python",
   "pygments_lexer": "ipython3",
   "version": "3.10.10"
  }
 },
 "nbformat": 4,
 "nbformat_minor": 5
}
