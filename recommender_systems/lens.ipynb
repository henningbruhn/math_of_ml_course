{
 "cells": [
  {
   "cell_type": "markdown",
   "metadata": {},
   "source": [
    "# MovieLens data set"
   ]
  },
  {
   "cell_type": "code",
   "execution_count": 1,
   "metadata": {},
   "outputs": [],
   "source": [
    "import numpy as np\n",
    "import sklearn as sk\n",
    "import pandas as pd\n",
    "from sklearn.utils import shuffle\n",
    "from sklearn.metrics import mean_squared_error\n",
    "%matplotlib inline\n",
    "import matplotlib as mpl\n",
    "import matplotlib.pyplot as plt\n"
   ]
  },
  {
   "cell_type": "markdown",
   "metadata": {},
   "source": [
    "## Explore the data"
   ]
  },
  {
   "cell_type": "markdown",
   "metadata": {},
   "source": [
    "data set downloaded from https://grouplens.org/datasets/movielens/\n",
    "\n",
    "ml-latest-smallest.zip"
   ]
  },
  {
   "cell_type": "code",
   "execution_count": 2,
   "metadata": {},
   "outputs": [
    {
     "data": {
      "text/html": [
       "<div>\n",
       "<style scoped>\n",
       "    .dataframe tbody tr th:only-of-type {\n",
       "        vertical-align: middle;\n",
       "    }\n",
       "\n",
       "    .dataframe tbody tr th {\n",
       "        vertical-align: top;\n",
       "    }\n",
       "\n",
       "    .dataframe thead th {\n",
       "        text-align: right;\n",
       "    }\n",
       "</style>\n",
       "<table border=\"1\" class=\"dataframe\">\n",
       "  <thead>\n",
       "    <tr style=\"text-align: right;\">\n",
       "      <th></th>\n",
       "      <th>movieId</th>\n",
       "      <th>imdbId</th>\n",
       "      <th>tmdbId</th>\n",
       "    </tr>\n",
       "  </thead>\n",
       "  <tbody>\n",
       "    <tr>\n",
       "      <th>0</th>\n",
       "      <td>1</td>\n",
       "      <td>114709</td>\n",
       "      <td>862.0</td>\n",
       "    </tr>\n",
       "    <tr>\n",
       "      <th>1</th>\n",
       "      <td>2</td>\n",
       "      <td>113497</td>\n",
       "      <td>8844.0</td>\n",
       "    </tr>\n",
       "    <tr>\n",
       "      <th>2</th>\n",
       "      <td>3</td>\n",
       "      <td>113228</td>\n",
       "      <td>15602.0</td>\n",
       "    </tr>\n",
       "    <tr>\n",
       "      <th>3</th>\n",
       "      <td>4</td>\n",
       "      <td>114885</td>\n",
       "      <td>31357.0</td>\n",
       "    </tr>\n",
       "    <tr>\n",
       "      <th>4</th>\n",
       "      <td>5</td>\n",
       "      <td>113041</td>\n",
       "      <td>11862.0</td>\n",
       "    </tr>\n",
       "  </tbody>\n",
       "</table>\n",
       "</div>"
      ],
      "text/plain": [
       "   movieId  imdbId   tmdbId\n",
       "0        1  114709    862.0\n",
       "1        2  113497   8844.0\n",
       "2        3  113228  15602.0\n",
       "3        4  114885  31357.0\n",
       "4        5  113041  11862.0"
      ]
     },
     "execution_count": 2,
     "metadata": {},
     "output_type": "execute_result"
    }
   ],
   "source": [
    "links = pd.read_csv(\"~/Downloads/ml-latest-small/links.csv\")\n",
    "links.head()"
   ]
  },
  {
   "cell_type": "code",
   "execution_count": 3,
   "metadata": {},
   "outputs": [
    {
     "data": {
      "text/html": [
       "<div>\n",
       "<style scoped>\n",
       "    .dataframe tbody tr th:only-of-type {\n",
       "        vertical-align: middle;\n",
       "    }\n",
       "\n",
       "    .dataframe tbody tr th {\n",
       "        vertical-align: top;\n",
       "    }\n",
       "\n",
       "    .dataframe thead th {\n",
       "        text-align: right;\n",
       "    }\n",
       "</style>\n",
       "<table border=\"1\" class=\"dataframe\">\n",
       "  <thead>\n",
       "    <tr style=\"text-align: right;\">\n",
       "      <th></th>\n",
       "      <th>movieId</th>\n",
       "      <th>title</th>\n",
       "      <th>genres</th>\n",
       "    </tr>\n",
       "  </thead>\n",
       "  <tbody>\n",
       "    <tr>\n",
       "      <th>0</th>\n",
       "      <td>1</td>\n",
       "      <td>Toy Story (1995)</td>\n",
       "      <td>Adventure|Animation|Children|Comedy|Fantasy</td>\n",
       "    </tr>\n",
       "    <tr>\n",
       "      <th>1</th>\n",
       "      <td>2</td>\n",
       "      <td>Jumanji (1995)</td>\n",
       "      <td>Adventure|Children|Fantasy</td>\n",
       "    </tr>\n",
       "    <tr>\n",
       "      <th>2</th>\n",
       "      <td>3</td>\n",
       "      <td>Grumpier Old Men (1995)</td>\n",
       "      <td>Comedy|Romance</td>\n",
       "    </tr>\n",
       "    <tr>\n",
       "      <th>3</th>\n",
       "      <td>4</td>\n",
       "      <td>Waiting to Exhale (1995)</td>\n",
       "      <td>Comedy|Drama|Romance</td>\n",
       "    </tr>\n",
       "    <tr>\n",
       "      <th>4</th>\n",
       "      <td>5</td>\n",
       "      <td>Father of the Bride Part II (1995)</td>\n",
       "      <td>Comedy</td>\n",
       "    </tr>\n",
       "  </tbody>\n",
       "</table>\n",
       "</div>"
      ],
      "text/plain": [
       "   movieId                               title  \\\n",
       "0        1                    Toy Story (1995)   \n",
       "1        2                      Jumanji (1995)   \n",
       "2        3             Grumpier Old Men (1995)   \n",
       "3        4            Waiting to Exhale (1995)   \n",
       "4        5  Father of the Bride Part II (1995)   \n",
       "\n",
       "                                        genres  \n",
       "0  Adventure|Animation|Children|Comedy|Fantasy  \n",
       "1                   Adventure|Children|Fantasy  \n",
       "2                               Comedy|Romance  \n",
       "3                         Comedy|Drama|Romance  \n",
       "4                                       Comedy  "
      ]
     },
     "execution_count": 3,
     "metadata": {},
     "output_type": "execute_result"
    }
   ],
   "source": [
    "movies = pd.read_csv(\"~/Downloads/ml-latest-small/movies.csv\")\n",
    "movies.head()"
   ]
  },
  {
   "cell_type": "code",
   "execution_count": 4,
   "metadata": {},
   "outputs": [
    {
     "data": {
      "text/html": [
       "<div>\n",
       "<style scoped>\n",
       "    .dataframe tbody tr th:only-of-type {\n",
       "        vertical-align: middle;\n",
       "    }\n",
       "\n",
       "    .dataframe tbody tr th {\n",
       "        vertical-align: top;\n",
       "    }\n",
       "\n",
       "    .dataframe thead th {\n",
       "        text-align: right;\n",
       "    }\n",
       "</style>\n",
       "<table border=\"1\" class=\"dataframe\">\n",
       "  <thead>\n",
       "    <tr style=\"text-align: right;\">\n",
       "      <th></th>\n",
       "      <th>userId</th>\n",
       "      <th>movieId</th>\n",
       "      <th>rating</th>\n",
       "      <th>timestamp</th>\n",
       "    </tr>\n",
       "  </thead>\n",
       "  <tbody>\n",
       "    <tr>\n",
       "      <th>0</th>\n",
       "      <td>1</td>\n",
       "      <td>1</td>\n",
       "      <td>4.0</td>\n",
       "      <td>964982703</td>\n",
       "    </tr>\n",
       "    <tr>\n",
       "      <th>1</th>\n",
       "      <td>1</td>\n",
       "      <td>3</td>\n",
       "      <td>4.0</td>\n",
       "      <td>964981247</td>\n",
       "    </tr>\n",
       "    <tr>\n",
       "      <th>2</th>\n",
       "      <td>1</td>\n",
       "      <td>6</td>\n",
       "      <td>4.0</td>\n",
       "      <td>964982224</td>\n",
       "    </tr>\n",
       "    <tr>\n",
       "      <th>3</th>\n",
       "      <td>1</td>\n",
       "      <td>47</td>\n",
       "      <td>5.0</td>\n",
       "      <td>964983815</td>\n",
       "    </tr>\n",
       "    <tr>\n",
       "      <th>4</th>\n",
       "      <td>1</td>\n",
       "      <td>50</td>\n",
       "      <td>5.0</td>\n",
       "      <td>964982931</td>\n",
       "    </tr>\n",
       "  </tbody>\n",
       "</table>\n",
       "</div>"
      ],
      "text/plain": [
       "   userId  movieId  rating  timestamp\n",
       "0       1        1     4.0  964982703\n",
       "1       1        3     4.0  964981247\n",
       "2       1        6     4.0  964982224\n",
       "3       1       47     5.0  964983815\n",
       "4       1       50     5.0  964982931"
      ]
     },
     "execution_count": 4,
     "metadata": {},
     "output_type": "execute_result"
    }
   ],
   "source": [
    "ratings = pd.read_csv(\"~/Downloads/ml-latest-small/ratings.csv\")\n",
    "ratings.head()"
   ]
  },
  {
   "cell_type": "code",
   "execution_count": 5,
   "metadata": {},
   "outputs": [
    {
     "data": {
      "text/html": [
       "<div>\n",
       "<style scoped>\n",
       "    .dataframe tbody tr th:only-of-type {\n",
       "        vertical-align: middle;\n",
       "    }\n",
       "\n",
       "    .dataframe tbody tr th {\n",
       "        vertical-align: top;\n",
       "    }\n",
       "\n",
       "    .dataframe thead th {\n",
       "        text-align: right;\n",
       "    }\n",
       "</style>\n",
       "<table border=\"1\" class=\"dataframe\">\n",
       "  <thead>\n",
       "    <tr style=\"text-align: right;\">\n",
       "      <th></th>\n",
       "      <th>userId</th>\n",
       "      <th>movieId</th>\n",
       "      <th>tag</th>\n",
       "      <th>timestamp</th>\n",
       "    </tr>\n",
       "  </thead>\n",
       "  <tbody>\n",
       "    <tr>\n",
       "      <th>0</th>\n",
       "      <td>2</td>\n",
       "      <td>60756</td>\n",
       "      <td>funny</td>\n",
       "      <td>1445714994</td>\n",
       "    </tr>\n",
       "    <tr>\n",
       "      <th>1</th>\n",
       "      <td>2</td>\n",
       "      <td>60756</td>\n",
       "      <td>Highly quotable</td>\n",
       "      <td>1445714996</td>\n",
       "    </tr>\n",
       "    <tr>\n",
       "      <th>2</th>\n",
       "      <td>2</td>\n",
       "      <td>60756</td>\n",
       "      <td>will ferrell</td>\n",
       "      <td>1445714992</td>\n",
       "    </tr>\n",
       "    <tr>\n",
       "      <th>3</th>\n",
       "      <td>2</td>\n",
       "      <td>89774</td>\n",
       "      <td>Boxing story</td>\n",
       "      <td>1445715207</td>\n",
       "    </tr>\n",
       "    <tr>\n",
       "      <th>4</th>\n",
       "      <td>2</td>\n",
       "      <td>89774</td>\n",
       "      <td>MMA</td>\n",
       "      <td>1445715200</td>\n",
       "    </tr>\n",
       "  </tbody>\n",
       "</table>\n",
       "</div>"
      ],
      "text/plain": [
       "   userId  movieId              tag   timestamp\n",
       "0       2    60756            funny  1445714994\n",
       "1       2    60756  Highly quotable  1445714996\n",
       "2       2    60756     will ferrell  1445714992\n",
       "3       2    89774     Boxing story  1445715207\n",
       "4       2    89774              MMA  1445715200"
      ]
     },
     "execution_count": 5,
     "metadata": {},
     "output_type": "execute_result"
    }
   ],
   "source": [
    "tags = pd.read_csv(\"~/Downloads/ml-latest-small/tags.csv\")\n",
    "tags.head()"
   ]
  },
  {
   "cell_type": "code",
   "execution_count": 6,
   "metadata": {},
   "outputs": [
    {
     "data": {
      "text/plain": [
       "(610, 9724)"
      ]
     },
     "execution_count": 6,
     "metadata": {},
     "output_type": "execute_result"
    }
   ],
   "source": [
    "num_users=len(ratings[\"userId\"].unique())\n",
    "num_movies=len(ratings[\"movieId\"].unique())\n",
    "num_users,num_movies"
   ]
  },
  {
   "cell_type": "code",
   "execution_count": 7,
   "metadata": {},
   "outputs": [
    {
     "name": "stdout",
     "output_type": "stream",
     "text": [
      "total number of ratings:  100836\n",
      "average number of ratings per user: 165.3\n",
      "missing ratings: 98.3%\n"
     ]
    }
   ],
   "source": [
    "# let's count ratings per user\n",
    "print(\"total number of ratings: \",len(ratings))\n",
    "counts=ratings.groupby('userId')['rating'].count()\n",
    "print(\"average number of ratings per user: {:2.1f}\".format(counts.mean()))\n",
    "print(\"missing ratings: {:2.1f}%\".format((1-len(ratings)/num_users/num_movies)*100))"
   ]
  },
  {
   "cell_type": "code",
   "execution_count": 8,
   "metadata": {
    "scrolled": true
   },
   "outputs": [
    {
     "data": {
      "image/png": "[encoded data removed]",
      "text/plain": [
       "<Figure size 432x288 with 1 Axes>"
      ]
     },
     "metadata": {
      "needs_background": "light"
     },
     "output_type": "display_data"
    }
   ],
   "source": [
    "counts=ratings.groupby('movieId')['rating'].count()\n",
    "plt.hist(counts,bins=[1,2,3,4,5,6,7,8,9,10])\n",
    "plt.show()"
   ]
  },
  {
   "cell_type": "markdown",
   "metadata": {},
   "source": [
    "## test set, training set"
   ]
  },
  {
   "cell_type": "code",
   "execution_count": 9,
   "metadata": {},
   "outputs": [],
   "source": [
    "users=ratings['userId'].unique()\n",
    "movies=ratings['movieId'].unique()"
   ]
  },
  {
   "cell_type": "code",
   "execution_count": 10,
   "metadata": {},
   "outputs": [
    {
     "data": {
      "text/html": [
       "<div>\n",
       "<style scoped>\n",
       "    .dataframe tbody tr th:only-of-type {\n",
       "        vertical-align: middle;\n",
       "    }\n",
       "\n",
       "    .dataframe tbody tr th {\n",
       "        vertical-align: top;\n",
       "    }\n",
       "\n",
       "    .dataframe thead th {\n",
       "        text-align: right;\n",
       "    }\n",
       "</style>\n",
       "<table border=\"1\" class=\"dataframe\">\n",
       "  <thead>\n",
       "    <tr style=\"text-align: right;\">\n",
       "      <th></th>\n",
       "      <th>userId</th>\n",
       "      <th>movieId</th>\n",
       "      <th>rating</th>\n",
       "      <th>timestamp</th>\n",
       "    </tr>\n",
       "  </thead>\n",
       "  <tbody>\n",
       "    <tr>\n",
       "      <th>0</th>\n",
       "      <td>357</td>\n",
       "      <td>19</td>\n",
       "      <td>2.0</td>\n",
       "      <td>1348612202</td>\n",
       "    </tr>\n",
       "    <tr>\n",
       "      <th>1</th>\n",
       "      <td>477</td>\n",
       "      <td>53953</td>\n",
       "      <td>4.0</td>\n",
       "      <td>1200944081</td>\n",
       "    </tr>\n",
       "    <tr>\n",
       "      <th>2</th>\n",
       "      <td>573</td>\n",
       "      <td>3897</td>\n",
       "      <td>3.5</td>\n",
       "      <td>1187044921</td>\n",
       "    </tr>\n",
       "    <tr>\n",
       "      <th>3</th>\n",
       "      <td>426</td>\n",
       "      <td>3751</td>\n",
       "      <td>4.0</td>\n",
       "      <td>1451081732</td>\n",
       "    </tr>\n",
       "    <tr>\n",
       "      <th>4</th>\n",
       "      <td>292</td>\n",
       "      <td>2761</td>\n",
       "      <td>5.0</td>\n",
       "      <td>1015374932</td>\n",
       "    </tr>\n",
       "  </tbody>\n",
       "</table>\n",
       "</div>"
      ],
      "text/plain": [
       "   userId  movieId  rating   timestamp\n",
       "0     357       19     2.0  1348612202\n",
       "1     477    53953     4.0  1200944081\n",
       "2     573     3897     3.5  1187044921\n",
       "3     426     3751     4.0  1451081732\n",
       "4     292     2761     5.0  1015374932"
      ]
     },
     "execution_count": 10,
     "metadata": {},
     "output_type": "execute_result"
    }
   ],
   "source": [
    "# let's shuffle the DataFrame\n",
    "ratings=shuffle(ratings)\n",
    "ratings.reset_index(inplace=True,drop=True)\n",
    "ratings.head()"
   ]
  },
  {
   "cell_type": "code",
   "execution_count": 11,
   "metadata": {},
   "outputs": [],
   "source": [
    "train_size=80000\n",
    "ratings_train=ratings.loc[:train_size-1,:]\n",
    "y_train=ratings_train['rating']\n",
    "ratings_test=ratings.loc[train_size:,:]\n",
    "y_test=ratings_test['rating']"
   ]
  },
  {
   "cell_type": "code",
   "execution_count": 12,
   "metadata": {},
   "outputs": [
    {
     "name": "stdout",
     "output_type": "stream",
     "text": [
      "760 movies in test set that did not appear in training set\n"
     ]
    }
   ],
   "source": [
    "movies_in_train=ratings_train['movieId'].unique()\n",
    "not_seen_before=[]\n",
    "for movie in ratings_test['movieId'].unique():\n",
    "    if not movie in movies_in_train:\n",
    "        not_seen_before.append(movie)\n",
    "print(\"{} movies in test set that did not appear in training set\".format(len(not_seen_before)))"
   ]
  },
  {
   "cell_type": "code",
   "execution_count": 13,
   "metadata": {},
   "outputs": [
    {
     "name": "stdout",
     "output_type": "stream",
     "text": [
      "0 users in test set that did not appear in training set\n"
     ]
    }
   ],
   "source": [
    "users_in_train=ratings_train['userId'].unique()\n",
    "users_not_seen_before=[]\n",
    "for user in ratings_test['userId'].unique():\n",
    "    if not user in users_in_train:\n",
    "        users_not_seen_before.append(user)\n",
    "print(\"{} users in test set that did not appear in training set\".format(len(users_not_seen_before)))"
   ]
  },
  {
   "cell_type": "markdown",
   "metadata": {},
   "source": [
    "-> we have a cold start problem for the movies. What should we predict for movies for which we do not have any ratings?"
   ]
  },
  {
   "cell_type": "markdown",
   "metadata": {},
   "source": [
    "## baselines: fill in mean ratings"
   ]
  },
  {
   "cell_type": "markdown",
   "metadata": {},
   "source": [
    "To get a baseline, let's simply predict mean values. Obviously, any useful recommender system should beat this baseline."
   ]
  },
  {
   "cell_type": "code",
   "execution_count": 14,
   "metadata": {},
   "outputs": [
    {
     "name": "stdout",
     "output_type": "stream",
     "text": [
      "mean rating over all movies: 3.50\n",
      "MSE when returning overall mean: 1.09\n"
     ]
    }
   ],
   "source": [
    "mean_rating=y_train.mean()\n",
    "err=mean_squared_error(y_test,np.ones(len(y_test))*mean_rating)\n",
    "print(\"mean rating over all movies: {:1.2f}\".format(mean_rating))\n",
    "print(\"MSE when returning overall mean: {:1.2f}\".format(err))"
   ]
  },
  {
   "cell_type": "code",
   "execution_count": 15,
   "metadata": {},
   "outputs": [
    {
     "name": "stdout",
     "output_type": "stream",
     "text": [
      "MSE when returning movie means: 0.96\n"
     ]
    }
   ],
   "source": [
    "movie_rating_mean=ratings_train.groupby('movieId')['rating'].mean()\n",
    "\n",
    "def movie_mean(movie):\n",
    "    try:\n",
    "        result=movie_rating_mean[movie]\n",
    "    except KeyError:   ## haven't seen this movie during training\n",
    "        result=mean_rating\n",
    "    return result\n",
    "\n",
    "# another baseline: fill in movie means\n",
    "movie_means=np.array([movie_mean(movie) for movie in ratings_test['movieId']])\n",
    "err=mean_squared_error(y_test,movie_means)\n",
    "print(\"MSE when returning movie means: {:1.2f}\".format(err))"
   ]
  },
  {
   "cell_type": "code",
   "execution_count": 16,
   "metadata": {},
   "outputs": [
    {
     "name": "stdout",
     "output_type": "stream",
     "text": [
      "MSE when returning user means: 0.88\n"
     ]
    }
   ],
   "source": [
    "user_rating_mean=ratings_train.groupby('userId')['rating'].mean()\n",
    "\n",
    "def user_mean(user):\n",
    "    return user_rating_mean[user]\n",
    "\n",
    "user_means=np.array([user_mean(user) for user in ratings_test['userId']])\n",
    "err=mean_squared_error(y_test,user_means)\n",
    "print(\"MSE when returning user means: {:1.2f}\".format(err))"
   ]
  },
  {
   "cell_type": "markdown",
   "metadata": {},
   "source": [
    "## Model user enthusiasm and film popularity"
   ]
  },
  {
   "cell_type": "code",
   "execution_count": 17,
   "metadata": {},
   "outputs": [],
   "source": [
    "# For linear regression we need to put enthusiasm[user] and popularity[film] \n",
    "# into one vector. Two dictionaries, user_map and movie_map, tell us at what \n",
    "# position we find an entry corresponding to a specific user or film\n",
    "all_users=ratings_train['userId'].unique()\n",
    "user_map=dict(zip(all_users,range(len(all_users))))\n",
    "\n",
    "all_movies=ratings_train['movieId'].unique()\n",
    "movie_map=dict(zip(all_movies,range(len(all_users),len(all_users)+len(all_movies))))\n",
    "\n",
    "# List the order we encounter specific users/films when we go through the training set.\n",
    "# Order points to entries under user_map / movie_map.\n",
    "user_order=np.array([user_map[row['userId']] for index, row in ratings_train.iterrows()])\n",
    "movie_order=np.array([movie_map[row['movieId']] for index, row in ratings_train.iterrows()])"
   ]
  },
  {
   "cell_type": "code",
   "execution_count": 18,
   "metadata": {},
   "outputs": [],
   "source": [
    "# Let's build the \"data\" matrix X in order to solve the linear regression problem\n",
    "# min_w || R-X.transpose * w||\n",
    "# Note: X will be huge.\n",
    "num_users=len(all_users)\n",
    "num_movies=len(all_movies)\n",
    "X=np.zeros((len(y_train),num_users+num_movies))\n",
    "for i,(user,movie) in enumerate(zip(user_order,movie_order)):\n",
    "    X[i,user]=1\n",
    "    X[i,movie]=1"
   ]
  },
  {
   "cell_type": "code",
   "execution_count": 19,
   "metadata": {},
   "outputs": [
    {
     "data": {
      "text/plain": [
       "SGDRegressor(alpha=0.0001, average=False, early_stopping=False, epsilon=0.1,\n",
       "             eta0=0.01, fit_intercept=False, l1_ratio=0.15,\n",
       "             learning_rate='invscaling', loss='squared_loss', max_iter=1000,\n",
       "             n_iter_no_change=5, penalty='l2', power_t=0.25, random_state=None,\n",
       "             shuffle=True, tol=0.001, validation_fraction=0.1, verbose=0,\n",
       "             warm_start=False)"
      ]
     },
     "execution_count": 19,
     "metadata": {},
     "output_type": "execute_result"
    }
   ],
   "source": [
    "from sklearn.linear_model import SGDRegressor\n",
    "import scipy\n",
    "reg=SGDRegressor(fit_intercept=False)\n",
    "# because X is huge, we use a sparse matrix -- support for sparse matrices implemented in scipy\n",
    "reg.fit(scipy.sparse.csr_matrix(X),y_train-mean_rating)"
   ]
  },
  {
   "cell_type": "code",
   "execution_count": 20,
   "metadata": {},
   "outputs": [],
   "source": [
    "# Prediction code should really be assembled into a class\n",
    "\n",
    "enthusiasm=reg.coef_[:len(all_users)]\n",
    "popularity=reg.coef_[len(all_users):]\n",
    "\n",
    "def single_simple_predict(user,movie):\n",
    "    try:\n",
    "        result=mean_rating+enthusiasm[user_map[user]]+popularity[movie_map[movie]-len(all_users)]\n",
    "    except KeyError:  # catch movies/users that did not appear in training set\n",
    "        result=mean_rating  # fallback\n",
    "    return result\n",
    "\n",
    "def simple_predict(user_movie):\n",
    "    return np.array([single_simple_predict(row['userId'],row['movieId']) for index,row in user_movie.iterrows()])"
   ]
  },
  {
   "cell_type": "code",
   "execution_count": 21,
   "metadata": {},
   "outputs": [
    {
     "data": {
      "text/plain": [
       "(0.026719359550698887, 0.0018182518212769183)"
      ]
     },
     "execution_count": 21,
     "metadata": {},
     "output_type": "execute_result"
    }
   ],
   "source": [
    "enthusiasm.mean(),popularity.mean()"
   ]
  },
  {
   "cell_type": "code",
   "execution_count": 22,
   "metadata": {},
   "outputs": [
    {
     "name": "stdout",
     "output_type": "stream",
     "text": [
      "MSE under simple user enthusiasm / film popularity: 0.85\n"
     ]
    }
   ],
   "source": [
    "err=mean_squared_error(y_test,simple_predict(ratings_test))\n",
    "print(\"MSE under simple user enthusiasm / film popularity: {:1.2f}\".format(err))"
   ]
  },
  {
   "cell_type": "markdown",
   "metadata": {},
   "source": [
    "## nearest neighbour"
   ]
  },
  {
   "cell_type": "markdown",
   "metadata": {},
   "source": [
    "Warning: code below is rather hacky"
   ]
  },
  {
   "cell_type": "code",
   "execution_count": 23,
   "metadata": {},
   "outputs": [
    {
     "data": {
      "text/html": [
       "<div>\n",
       "<style scoped>\n",
       "    .dataframe tbody tr th:only-of-type {\n",
       "        vertical-align: middle;\n",
       "    }\n",
       "\n",
       "    .dataframe tbody tr th {\n",
       "        vertical-align: top;\n",
       "    }\n",
       "\n",
       "    .dataframe thead th {\n",
       "        text-align: right;\n",
       "    }\n",
       "</style>\n",
       "<table border=\"1\" class=\"dataframe\">\n",
       "  <thead>\n",
       "    <tr style=\"text-align: right;\">\n",
       "      <th>userId</th>\n",
       "      <th>1</th>\n",
       "      <th>2</th>\n",
       "      <th>3</th>\n",
       "      <th>4</th>\n",
       "      <th>5</th>\n",
       "      <th>6</th>\n",
       "      <th>7</th>\n",
       "      <th>8</th>\n",
       "      <th>9</th>\n",
       "      <th>10</th>\n",
       "      <th>...</th>\n",
       "      <th>601</th>\n",
       "      <th>602</th>\n",
       "      <th>603</th>\n",
       "      <th>604</th>\n",
       "      <th>605</th>\n",
       "      <th>606</th>\n",
       "      <th>607</th>\n",
       "      <th>608</th>\n",
       "      <th>609</th>\n",
       "      <th>610</th>\n",
       "    </tr>\n",
       "    <tr>\n",
       "      <th>userId</th>\n",
       "      <th></th>\n",
       "      <th></th>\n",
       "      <th></th>\n",
       "      <th></th>\n",
       "      <th></th>\n",
       "      <th></th>\n",
       "      <th></th>\n",
       "      <th></th>\n",
       "      <th></th>\n",
       "      <th></th>\n",
       "      <th></th>\n",
       "      <th></th>\n",
       "      <th></th>\n",
       "      <th></th>\n",
       "      <th></th>\n",
       "      <th></th>\n",
       "      <th></th>\n",
       "      <th></th>\n",
       "      <th></th>\n",
       "      <th></th>\n",
       "      <th></th>\n",
       "    </tr>\n",
       "  </thead>\n",
       "  <tbody>\n",
       "    <tr>\n",
       "      <th>1</th>\n",
       "      <td>1.000000</td>\n",
       "      <td>NaN</td>\n",
       "      <td>NaN</td>\n",
       "      <td>0.381328</td>\n",
       "      <td>0.185030</td>\n",
       "      <td>-0.134430</td>\n",
       "      <td>-0.028603</td>\n",
       "      <td>0.534522</td>\n",
       "      <td>0.918559</td>\n",
       "      <td>-1.00000</td>\n",
       "      <td>...</td>\n",
       "      <td>-0.077850</td>\n",
       "      <td>0.000000</td>\n",
       "      <td>0.090235</td>\n",
       "      <td>-0.424264</td>\n",
       "      <td>-0.342777</td>\n",
       "      <td>0.005219</td>\n",
       "      <td>0.099487</td>\n",
       "      <td>0.273125</td>\n",
       "      <td>0.000000</td>\n",
       "      <td>-0.196433</td>\n",
       "    </tr>\n",
       "    <tr>\n",
       "      <th>2</th>\n",
       "      <td>NaN</td>\n",
       "      <td>1.0</td>\n",
       "      <td>NaN</td>\n",
       "      <td>NaN</td>\n",
       "      <td>NaN</td>\n",
       "      <td>NaN</td>\n",
       "      <td>-1.000000</td>\n",
       "      <td>NaN</td>\n",
       "      <td>NaN</td>\n",
       "      <td>1.00000</td>\n",
       "      <td>...</td>\n",
       "      <td>-0.289344</td>\n",
       "      <td>NaN</td>\n",
       "      <td>-1.000000</td>\n",
       "      <td>NaN</td>\n",
       "      <td>NaN</td>\n",
       "      <td>0.583333</td>\n",
       "      <td>NaN</td>\n",
       "      <td>-0.125000</td>\n",
       "      <td>NaN</td>\n",
       "      <td>0.612439</td>\n",
       "    </tr>\n",
       "    <tr>\n",
       "      <th>3</th>\n",
       "      <td>NaN</td>\n",
       "      <td>NaN</td>\n",
       "      <td>1.0</td>\n",
       "      <td>NaN</td>\n",
       "      <td>NaN</td>\n",
       "      <td>NaN</td>\n",
       "      <td>NaN</td>\n",
       "      <td>NaN</td>\n",
       "      <td>NaN</td>\n",
       "      <td>NaN</td>\n",
       "      <td>...</td>\n",
       "      <td>NaN</td>\n",
       "      <td>NaN</td>\n",
       "      <td>0.452267</td>\n",
       "      <td>NaN</td>\n",
       "      <td>NaN</td>\n",
       "      <td>-0.662266</td>\n",
       "      <td>NaN</td>\n",
       "      <td>NaN</td>\n",
       "      <td>NaN</td>\n",
       "      <td>0.963436</td>\n",
       "    </tr>\n",
       "    <tr>\n",
       "      <th>4</th>\n",
       "      <td>0.381328</td>\n",
       "      <td>NaN</td>\n",
       "      <td>NaN</td>\n",
       "      <td>1.000000</td>\n",
       "      <td>-0.793884</td>\n",
       "      <td>0.174213</td>\n",
       "      <td>0.325036</td>\n",
       "      <td>0.327327</td>\n",
       "      <td>NaN</td>\n",
       "      <td>0.82734</td>\n",
       "      <td>...</td>\n",
       "      <td>-0.216506</td>\n",
       "      <td>0.492716</td>\n",
       "      <td>0.072037</td>\n",
       "      <td>-0.790569</td>\n",
       "      <td>0.338591</td>\n",
       "      <td>0.108229</td>\n",
       "      <td>0.169076</td>\n",
       "      <td>-0.070998</td>\n",
       "      <td>1.000000</td>\n",
       "      <td>0.126919</td>\n",
       "    </tr>\n",
       "    <tr>\n",
       "      <th>5</th>\n",
       "      <td>0.185030</td>\n",
       "      <td>NaN</td>\n",
       "      <td>NaN</td>\n",
       "      <td>-0.793884</td>\n",
       "      <td>1.000000</td>\n",
       "      <td>-0.185431</td>\n",
       "      <td>0.031054</td>\n",
       "      <td>0.102598</td>\n",
       "      <td>NaN</td>\n",
       "      <td>NaN</td>\n",
       "      <td>...</td>\n",
       "      <td>0.000000</td>\n",
       "      <td>0.045521</td>\n",
       "      <td>0.377297</td>\n",
       "      <td>0.135333</td>\n",
       "      <td>-0.506024</td>\n",
       "      <td>0.279654</td>\n",
       "      <td>0.193649</td>\n",
       "      <td>-0.047758</td>\n",
       "      <td>0.179605</td>\n",
       "      <td>0.042126</td>\n",
       "    </tr>\n",
       "  </tbody>\n",
       "</table>\n",
       "<p>5 rows × 610 columns</p>\n",
       "</div>"
      ],
      "text/plain": [
       "userId       1    2    3         4         5         6         7         8    \\\n",
       "userId                                                                         \n",
       "1       1.000000  NaN  NaN  0.381328  0.185030 -0.134430 -0.028603  0.534522   \n",
       "2            NaN  1.0  NaN       NaN       NaN       NaN -1.000000       NaN   \n",
       "3            NaN  NaN  1.0       NaN       NaN       NaN       NaN       NaN   \n",
       "4       0.381328  NaN  NaN  1.000000 -0.793884  0.174213  0.325036  0.327327   \n",
       "5       0.185030  NaN  NaN -0.793884  1.000000 -0.185431  0.031054  0.102598   \n",
       "\n",
       "userId       9        10   ...       601       602       603       604  \\\n",
       "userId                     ...                                           \n",
       "1       0.918559 -1.00000  ... -0.077850  0.000000  0.090235 -0.424264   \n",
       "2            NaN  1.00000  ... -0.289344       NaN -1.000000       NaN   \n",
       "3            NaN      NaN  ...       NaN       NaN  0.452267       NaN   \n",
       "4            NaN  0.82734  ... -0.216506  0.492716  0.072037 -0.790569   \n",
       "5            NaN      NaN  ...  0.000000  0.045521  0.377297  0.135333   \n",
       "\n",
       "userId       605       606       607       608       609       610  \n",
       "userId                                                              \n",
       "1      -0.342777  0.005219  0.099487  0.273125  0.000000 -0.196433  \n",
       "2            NaN  0.583333       NaN -0.125000       NaN  0.612439  \n",
       "3            NaN -0.662266       NaN       NaN       NaN  0.963436  \n",
       "4       0.338591  0.108229  0.169076 -0.070998  1.000000  0.126919  \n",
       "5      -0.506024  0.279654  0.193649 -0.047758  0.179605  0.042126  \n",
       "\n",
       "[5 rows x 610 columns]"
      ]
     },
     "execution_count": 23,
     "metadata": {},
     "output_type": "execute_result"
    }
   ],
   "source": [
    "# calculate correlation coefficients with in-built pandas methods\n",
    "# unfortunately, I need generate a rather large ratings matrix\n",
    "# function DataFrame.corr ignores NaN values, which is good\n",
    "ratings_matrix=ratings_train.pivot(index='movieId',columns='userId',values='rating')\n",
    "corr_matrix=ratings_matrix.corr()\n",
    "corr_matrix.head()"
   ]
  },
  {
   "cell_type": "code",
   "execution_count": 28,
   "metadata": {},
   "outputs": [],
   "source": [
    "fallback_count=0\n",
    "peer_group_size=5\n",
    "\n",
    "def predict_for_user(user,movie):\n",
    "    global fallback_count\n",
    "    # filter out all users that actually rated this movie\n",
    "    rating_users=ratings_train.loc[ratings_train['movieId']==movie,'userId']\n",
    "    # among the rating users, pick those five with largest correlation to current user\n",
    "    most_correlated=corr_matrix.loc[user,rating_users].nlargest(n=peer_group_size)\n",
    "    most_correlated=most_correlated[most_correlated>0]  # restrict to positive correlation\n",
    "    rating_neighbours=ratings_train[(ratings_train['userId'].isin(most_correlated.index)) & (ratings_train['movieId']==movie)]\n",
    "    # we simply pick the mean among the neighbours\n",
    "    pred_rating=rating_neighbours['rating'].mean()\n",
    "    if np.isnan(pred_rating):     # if there are no neighbours, mean will be NaN\n",
    "        fallback_count+=1\n",
    "        return movie_mean(movie)  # fallback\n",
    "    return pred_rating\n",
    "\n",
    "def predict(user_movie):\n",
    "    global fallback_count\n",
    "    fallback_count=0\n",
    "    return np.array([predict_for_user(row['userId'],row['movieId']) for index,row in user_movie.iterrows()])"
   ]
  },
  {
   "cell_type": "code",
   "execution_count": 25,
   "metadata": {},
   "outputs": [
    {
     "data": {
      "text/plain": [
       "array([2.8       , 4.2       , 3.4       , 3.3       , 1.83333333])"
      ]
     },
     "execution_count": 25,
     "metadata": {},
     "output_type": "execute_result"
    }
   ],
   "source": [
    "predict(ratings_test[:5])"
   ]
  },
  {
   "cell_type": "code",
   "execution_count": 29,
   "metadata": {},
   "outputs": [
    {
     "name": "stdout",
     "output_type": "stream",
     "text": [
      "MSE under nearest neighbour: 1.04\n",
      "fallback / total: 962 / 20836\n"
     ]
    }
   ],
   "source": [
    "pred_ratings=predict(ratings_test)\n",
    "err=mean_squared_error(pred_ratings,y_test)\n",
    "print(\"MSE under nearest neighbour: {:1.2f}\".format(err))\n",
    "print(\"fallback / total: {} / {}\".format(fallback_count,len(y_test)))"
   ]
  }
 ],
 "metadata": {
  "kernelspec": {
   "display_name": "Python 3",
   "language": "python",
   "name": "python3"
  },
  "language_info": {
   "codemirror_mode": {
    "name": "ipython",
    "version": 3
   },
   "file_extension": ".py",
   "mimetype": "text/x-python",
   "name": "python",
   "nbconvert_exporter": "python",
   "pygments_lexer": "ipython3",
   "version": "3.8.6"
  }
 },
 "nbformat": 4,
 "nbformat_minor": 4
}
