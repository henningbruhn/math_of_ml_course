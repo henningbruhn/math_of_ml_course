{
 "cells": [
  {
   "cell_type": "markdown",
   "metadata": {},
   "source": [
    "# Recommendations with only implicit feedback"
   ]
  },
  {
   "cell_type": "code",
   "execution_count": 1,
   "metadata": {},
   "outputs": [],
   "source": [
    "import numpy as np\n",
    "import sklearn as sk\n",
    "import pandas as pd\n",
    "from sklearn.utils import shuffle\n",
    "from sklearn.metrics import mean_squared_error\n",
    "%matplotlib inline\n",
    "import matplotlib as mpl\n",
    "import matplotlib.pyplot as plt\n",
    "import scipy\n",
    "from sklearn.linear_model import ElasticNet\n",
    "import random"
   ]
  },
  {
   "cell_type": "markdown",
   "metadata": {},
   "source": [
    "## Explore the data"
   ]
  },
  {
   "cell_type": "markdown",
   "metadata": {},
   "source": [
    "CiteULike data set\n",
    "\n",
    "data set downloaded from https://github.com/js05212/citeulike-a\n",
    "\n",
    "data set consists of article collections of users, in user-article pairs"
   ]
  },
  {
   "cell_type": "code",
   "execution_count": 2,
   "metadata": {},
   "outputs": [],
   "source": [
    "likes_per_user={}\n",
    "user=0\n",
    "item_list=[]\n",
    "with open(\"/home/henning/Downloads/citeulike-a-master/users.dat\") as f:\n",
    "    for line in f.readlines():\n",
    "        likes_per_user[user]=[int(item) for item in line.split()]\n",
    "        user+=1\n",
    "users=range(user)\n",
    "user_num=user"
   ]
  },
  {
   "cell_type": "code",
   "execution_count": 3,
   "metadata": {},
   "outputs": [],
   "source": [
    "def compute_per_item(likes_per_user):\n",
    "    per_item={}\n",
    "    for user in users:\n",
    "        likes=likes_per_user[user]\n",
    "        for item in likes:\n",
    "            liking_users=per_item.get(item,[])\n",
    "            liking_users.append(user)\n",
    "            per_item[item]=liking_users            \n",
    "    return per_item"
   ]
  },
  {
   "cell_type": "code",
   "execution_count": 4,
   "metadata": {},
   "outputs": [
    {
     "data": {
      "text/plain": [
       "(0, 16979, 16980)"
      ]
     },
     "execution_count": 4,
     "metadata": {},
     "output_type": "execute_result"
    }
   ],
   "source": [
    "likes_per_item=compute_per_item(likes_per_user)\n",
    "item_num=len(likes_per_item.keys())\n",
    "item_list=list(likes_per_item.keys())\n",
    "item_list.sort()\n",
    "item_list[0], item_list[-1],item_num"
   ]
  },
  {
   "cell_type": "markdown",
   "metadata": {},
   "source": [
    "Good! Items are just 0,...,16979"
   ]
  },
  {
   "cell_type": "code",
   "execution_count": 5,
   "metadata": {},
   "outputs": [
    {
     "data": {
      "text/plain": [
       "5551"
      ]
     },
     "execution_count": 5,
     "metadata": {},
     "output_type": "execute_result"
    }
   ],
   "source": [
    "user_num"
   ]
  },
  {
   "cell_type": "code",
   "execution_count": 6,
   "metadata": {},
   "outputs": [
    {
     "data": {
      "text/plain": [
       "(11, 404, 37.927760763826335)"
      ]
     },
     "execution_count": 6,
     "metadata": {},
     "output_type": "execute_result"
    }
   ],
   "source": [
    "# let's compute statistics on number of items liked by users\n",
    "# min, max, average\n",
    "like_nums=[len(likes_per_user[user]) for user in users]\n",
    "min(like_nums),max(like_nums),sum(like_nums)/len(users)"
   ]
  },
  {
   "cell_type": "markdown",
   "metadata": {},
   "source": [
    "## Training and test set"
   ]
  },
  {
   "cell_type": "code",
   "execution_count": 7,
   "metadata": {},
   "outputs": [],
   "source": [
    "# put five liked items per user in test set\n",
    "test={}\n",
    "train={}\n",
    "for user in users:\n",
    "    likes=likes_per_user[user]\n",
    "    likes=shuffle(likes)\n",
    "    test[user]=likes[:5]\n",
    "    train[user]=likes[5:]"
   ]
  },
  {
   "cell_type": "markdown",
   "metadata": {},
   "source": [
    "As metric we use hit rate: the average number of good recommendations in the recommendation list per user"
   ]
  },
  {
   "cell_type": "code",
   "execution_count": 8,
   "metadata": {},
   "outputs": [],
   "source": [
    "def hit_count(user,recommendations):\n",
    "    return len([item for item in recommendations if item in test[user]])\n",
    "\n",
    "def hit_rate(recommendations_per_user):\n",
    "    total_hits=sum([hit_count(user,recommendations_per_user[user]) for user in users])\n",
    "    return total_hits/len(users)"
   ]
  },
  {
   "cell_type": "code",
   "execution_count": 9,
   "metadata": {},
   "outputs": [
    {
     "name": "stdout",
     "output_type": "stream",
     "text": [
      "recommend 42 to all: 0.003422806701495226\n",
      "cheat: 1.0\n"
     ]
    }
   ],
   "source": [
    "# let's test this\n",
    "always_42=dict([(user,[42]) for user in users])\n",
    "print(\"recommend 42 to all: {}\".format(hit_rate(always_42)))\n",
    "\n",
    "# let's also cheat\n",
    "cheat=dict([(user,[test[user][0]]) for user in users])\n",
    "print(\"cheat: {}\".format(hit_rate(cheat)))"
   ]
  },
  {
   "cell_type": "code",
   "execution_count": 10,
   "metadata": {},
   "outputs": [],
   "source": [
    "# let's fix length of recommendation list\n",
    "rec_len=10"
   ]
  },
  {
   "cell_type": "markdown",
   "metadata": {},
   "source": [
    "## Baseline"
   ]
  },
  {
   "cell_type": "markdown",
   "metadata": {},
   "source": [
    "As baseline we will recommend the most popular items to everybody. Any decent recommendation algorithm should beat the baseline."
   ]
  },
  {
   "cell_type": "code",
   "execution_count": 11,
   "metadata": {},
   "outputs": [
    {
     "data": {
      "text/plain": [
       "[14, 15, 3981, 17, 28, 16, 10, 16045, 11, 13]"
      ]
     },
     "execution_count": 11,
     "metadata": {},
     "output_type": "execute_result"
    }
   ],
   "source": [
    "from operator import itemgetter\n",
    "train_per_item=compute_per_item(train)\n",
    "by_popularity=sorted([(len(train_per_item[item]),item) for item in train_per_item.keys()],key=itemgetter(0),reverse=True)\n",
    "most_popular=[item for (_,item) in by_popularity[:rec_len]]\n",
    "most_popular"
   ]
  },
  {
   "cell_type": "code",
   "execution_count": 12,
   "metadata": {
    "scrolled": true
   },
   "outputs": [
    {
     "data": {
      "text/plain": [
       "0.159430733201225"
      ]
     },
     "execution_count": 12,
     "metadata": {},
     "output_type": "execute_result"
    }
   ],
   "source": [
    "# recommend the most popular items to everybody\n",
    "hit_rate(dict([(user,most_popular) for user in users]))"
   ]
  },
  {
   "cell_type": "code",
   "execution_count": 13,
   "metadata": {},
   "outputs": [
    {
     "data": {
      "text/plain": [
       "0.16213294901819492"
      ]
     },
     "execution_count": 13,
     "metadata": {},
     "output_type": "execute_result"
    }
   ],
   "source": [
    "# next try, do not recommend anything that the user already likes\n",
    "def top_popular(user):\n",
    "    result=[]\n",
    "    for (_,item) in by_popularity:\n",
    "        if item not in train[user]:\n",
    "            result.append(item)\n",
    "            if len(result)>=rec_len:\n",
    "                return result\n",
    "\n",
    "hit_rate(dict([(user,top_popular(user)) for user in users]))"
   ]
  },
  {
   "cell_type": "markdown",
   "metadata": {},
   "source": [
    "...a tiny bit better"
   ]
  },
  {
   "cell_type": "markdown",
   "metadata": {},
   "source": [
    "## base class score recommender"
   ]
  },
  {
   "cell_type": "markdown",
   "metadata": {},
   "source": [
    "Define a base class for recommendation algorithms that are based on scores. It just does two things: computes the user-item like matrix, stored as a sparse matrix; and it processes scores to output the recommendation list, where it, in particular, filters out likes that are already known from the training set. "
   ]
  },
  {
   "cell_type": "code",
   "execution_count": 14,
   "metadata": {},
   "outputs": [],
   "source": [
    "class ScoreRec:\n",
    "    def __init__(self,rec_len,user_num,item_num):\n",
    "        \"\"\"\n",
    "        rec_len: length of recommendation list\n",
    "        user_num: the number of users; we expect the users to be range(user_num)\n",
    "        item_num: the number of items; we expect the items to be range(item_num)\n",
    "        \"\"\"\n",
    "        self.rec_len=rec_len\n",
    "        self.user_num=user_num\n",
    "        self.item_num=item_num\n",
    "\n",
    "    def compute_train_matrix(self):\n",
    "        \"\"\"compute and store user-item like matrix; matrix is stored as a sparse matrix\"\"\"\n",
    "        train_likes=np.array([(user,item) for user in self.likes_per_user.keys() for item in self.likes_per_user[user]])\n",
    "        rows=train_likes[:,0].reshape(-1,)\n",
    "        cols=train_likes[:,1].reshape(-1,)\n",
    "        # we assume implicit feedback, thus all values in the matrix are ones\n",
    "        # why the many parentheses? Because scipy sparse API is weird\n",
    "        self.train_matrix=scipy.sparse.csr_matrix((np.ones(len(rows)),(rows,cols)),\n",
    "                                                  shape=(self.user_num,self.item_num))\n",
    "        \n",
    "    def filter_by_scores(self,user,scores):\n",
    "        \"\"\"rank by scores but first filter out the items already in training set\"\"\"\n",
    "        # set scores of items already in training set to -infinity to prevent them from being selected\n",
    "        scores[self.likes_per_user[user]]=np.NINF # -infinity\n",
    "        # see numpy argpartition, picks arguments of highest scores\n",
    "        return np.argpartition(scores,-self.rec_len)[-self.rec_len:]\n",
    "        \n",
    "    def compute_scores(self,user):\n",
    "        # implement in child classes\n",
    "        pass\n",
    "\n",
    "    def predict_per_user(self,user):\n",
    "        scores=self.compute_scores(user)\n",
    "        return self.filter_by_scores(user,scores)\n",
    "    \n",
    "    def predict(self,users):\n",
    "        \"\"\"predict expects a list of users; class cannot handle users not seen during training\"\"\"\n",
    "        return dict([(user,self.predict_per_user(user)) for user in users])"
   ]
  },
  {
   "cell_type": "markdown",
   "metadata": {},
   "source": [
    "## SLIM\n",
    "\n",
    "algorithm from \n",
    "\n",
    "SLIM: Sparse Linear Methods for Top-N Recommender System, X. Ning and G. Karypis\n",
    "(2011)"
   ]
  },
  {
   "cell_type": "code",
   "execution_count": 15,
   "metadata": {},
   "outputs": [],
   "source": [
    "class SLIM(ScoreRec):\n",
    "    def __init__(self,alpha,beta,rec_len,user_num,item_num,positive_weights=False):\n",
    "        \"\"\"\n",
    "        regularisation: alpha L2 + beta L1\n",
    "        rec_len: length of recommendation list\n",
    "        user_num,item_num: number of users, items -- we expect range(user_num) and \n",
    "        range(item_num) as set of users and items\n",
    "        current implementation works only with implicit feedback\n",
    "        \"\"\"\n",
    "        # elastic net computes regularisation strength differently, see docu\n",
    "        super().__init__(rec_len,user_num,item_num)\n",
    "        alp=alpha+beta  \n",
    "        l1_ratio=alpha/(alpha+beta)\n",
    "        self.net=ElasticNet(alpha=alp,l1_ratio=l1_ratio,fit_intercept=False,\n",
    "                            max_iter=100,copy_X=False,\n",
    "                            tol=0.0001,precompute=True,selection='random',\n",
    "                            positive=positive_weights)  \n",
    "                \n",
    "    def __compute_weight_vec(self,item):\n",
    "        \"\"\"do elastic net regression for weight vector corresponding to item\"\"\"\n",
    "        target_col=self.train_matrix.getcol(item).toarray().reshape(-1,)\n",
    "        T=scipy.sparse.csr_matrix((target_col,(list(range(self.user_num)),[item]*self.user_num)),\n",
    "                                  shape=self.train_matrix.shape)\n",
    "        # we zero out the column corresponding to item, that's what T is for\n",
    "        self.net.fit(self.train_matrix-T,target_col)\n",
    "        # store learned non-zero weights in lists: row_index,col_index,weight\n",
    "        # as this is the format that scipy sparse expects \n",
    "        for j,value in enumerate(self.net.coef_):\n",
    "            if value!=0:\n",
    "                # we store transpose of weight matrix\n",
    "                self.weight_rows.append(j)\n",
    "                self.weight_cols.append(item)\n",
    "                self.weight_values.append(value)\n",
    "        \n",
    "    def fit(self,likes_per_user):\n",
    "        \"\"\"expects a dictionary with keys=users, values=list of liked items\"\"\"\n",
    "        self.likes_per_user=likes_per_user\n",
    "        self.compute_train_matrix()\n",
    "        self.weight_rows=[]\n",
    "        self.weight_cols=[]\n",
    "        self.weight_values=[]\n",
    "        for item in range(self.item_num):\n",
    "            self.__compute_weight_vec(item)\n",
    "        self.weight_matrix=scipy.sparse.csr_matrix((self.weight_values,(self.weight_rows,self.weight_cols)),\n",
    "                                           shape=(self.item_num,self.item_num))\n",
    "        # free memory\n",
    "        del(self.weight_rows)\n",
    "        del(self.weight_cols)\n",
    "        del(self.weight_values)\n",
    "\n",
    "    def compute_scores(self,user):\n",
    "        user_row=self.train_matrix.getrow(user).toarray()\n",
    "        user_row=user_row.reshape(-1,)\n",
    "        # prediction for user as follows: weight matrix * transpose of user row\n",
    "        # for this we store transpose of original weight matrix\n",
    "        return self.weight_matrix.dot(user_row)  # multiplication returns numpy array"
   ]
  },
  {
   "cell_type": "code",
   "execution_count": 16,
   "metadata": {},
   "outputs": [
    {
     "name": "stderr",
     "output_type": "stream",
     "text": [
      "/home/henning/.pyenv/versions/3.7.6/lib/python3.7/site-packages/sklearn/linear_model/_coordinate_descent.py:460: ConvergenceWarning: Objective did not converge. You might want to increase the number of iterations. Duality gap: 0.0, tolerance: 0.0\n",
      "  max_iter, tol, rng, random, positive)\n",
      "/home/henning/.pyenv/versions/3.7.6/lib/python3.7/site-packages/sklearn/linear_model/_coordinate_descent.py:460: ConvergenceWarning: Objective did not converge. You might want to increase the number of iterations. Duality gap: 0.0, tolerance: 0.0\n",
      "  max_iter, tol, rng, random, positive)\n",
      "/home/henning/.pyenv/versions/3.7.6/lib/python3.7/site-packages/sklearn/linear_model/_coordinate_descent.py:460: ConvergenceWarning: Objective did not converge. You might want to increase the number of iterations. Duality gap: 0.0, tolerance: 0.0\n",
      "  max_iter, tol, rng, random, positive)\n",
      "/home/henning/.pyenv/versions/3.7.6/lib/python3.7/site-packages/sklearn/linear_model/_coordinate_descent.py:460: ConvergenceWarning: Objective did not converge. You might want to increase the number of iterations. Duality gap: 0.0, tolerance: 0.0\n",
      "  max_iter, tol, rng, random, positive)\n",
      "/home/henning/.pyenv/versions/3.7.6/lib/python3.7/site-packages/sklearn/linear_model/_coordinate_descent.py:460: ConvergenceWarning: Objective did not converge. You might want to increase the number of iterations. Duality gap: 0.0, tolerance: 0.0\n",
      "  max_iter, tol, rng, random, positive)\n",
      "/home/henning/.pyenv/versions/3.7.6/lib/python3.7/site-packages/sklearn/linear_model/_coordinate_descent.py:460: ConvergenceWarning: Objective did not converge. You might want to increase the number of iterations. Duality gap: 0.0, tolerance: 0.0\n",
      "  max_iter, tol, rng, random, positive)\n",
      "/home/henning/.pyenv/versions/3.7.6/lib/python3.7/site-packages/sklearn/linear_model/_coordinate_descent.py:460: ConvergenceWarning: Objective did not converge. You might want to increase the number of iterations. Duality gap: 0.0, tolerance: 0.0\n",
      "  max_iter, tol, rng, random, positive)\n",
      "/home/henning/.pyenv/versions/3.7.6/lib/python3.7/site-packages/sklearn/linear_model/_coordinate_descent.py:460: ConvergenceWarning: Objective did not converge. You might want to increase the number of iterations. Duality gap: 0.0, tolerance: 0.0\n",
      "  max_iter, tol, rng, random, positive)\n",
      "/home/henning/.pyenv/versions/3.7.6/lib/python3.7/site-packages/sklearn/linear_model/_coordinate_descent.py:460: ConvergenceWarning: Objective did not converge. You might want to increase the number of iterations. Duality gap: 0.0, tolerance: 0.0\n",
      "  max_iter, tol, rng, random, positive)\n",
      "/home/henning/.pyenv/versions/3.7.6/lib/python3.7/site-packages/sklearn/linear_model/_coordinate_descent.py:460: ConvergenceWarning: Objective did not converge. You might want to increase the number of iterations. Duality gap: 0.0, tolerance: 0.0\n",
      "  max_iter, tol, rng, random, positive)\n",
      "/home/henning/.pyenv/versions/3.7.6/lib/python3.7/site-packages/sklearn/linear_model/_coordinate_descent.py:460: ConvergenceWarning: Objective did not converge. You might want to increase the number of iterations. Duality gap: 0.0, tolerance: 0.0\n",
      "  max_iter, tol, rng, random, positive)\n",
      "/home/henning/.pyenv/versions/3.7.6/lib/python3.7/site-packages/sklearn/linear_model/_coordinate_descent.py:460: ConvergenceWarning: Objective did not converge. You might want to increase the number of iterations. Duality gap: 0.0, tolerance: 0.0\n",
      "  max_iter, tol, rng, random, positive)\n",
      "/home/henning/.pyenv/versions/3.7.6/lib/python3.7/site-packages/sklearn/linear_model/_coordinate_descent.py:460: ConvergenceWarning: Objective did not converge. You might want to increase the number of iterations. Duality gap: 0.0, tolerance: 0.0\n",
      "  max_iter, tol, rng, random, positive)\n",
      "/home/henning/.pyenv/versions/3.7.6/lib/python3.7/site-packages/sklearn/linear_model/_coordinate_descent.py:460: ConvergenceWarning: Objective did not converge. You might want to increase the number of iterations. Duality gap: 0.0, tolerance: 0.0\n",
      "  max_iter, tol, rng, random, positive)\n",
      "/home/henning/.pyenv/versions/3.7.6/lib/python3.7/site-packages/sklearn/linear_model/_coordinate_descent.py:460: ConvergenceWarning: Objective did not converge. You might want to increase the number of iterations. Duality gap: 0.0, tolerance: 0.0\n",
      "  max_iter, tol, rng, random, positive)\n",
      "/home/henning/.pyenv/versions/3.7.6/lib/python3.7/site-packages/sklearn/linear_model/_coordinate_descent.py:460: ConvergenceWarning: Objective did not converge. You might want to increase the number of iterations. Duality gap: 0.0, tolerance: 0.0\n",
      "  max_iter, tol, rng, random, positive)\n",
      "/home/henning/.pyenv/versions/3.7.6/lib/python3.7/site-packages/sklearn/linear_model/_coordinate_descent.py:460: ConvergenceWarning: Objective did not converge. You might want to increase the number of iterations. Duality gap: 0.0, tolerance: 0.0\n",
      "  max_iter, tol, rng, random, positive)\n",
      "/home/henning/.pyenv/versions/3.7.6/lib/python3.7/site-packages/sklearn/linear_model/_coordinate_descent.py:460: ConvergenceWarning: Objective did not converge. You might want to increase the number of iterations. Duality gap: 0.0, tolerance: 0.0\n",
      "  max_iter, tol, rng, random, positive)\n",
      "/home/henning/.pyenv/versions/3.7.6/lib/python3.7/site-packages/sklearn/linear_model/_coordinate_descent.py:460: ConvergenceWarning: Objective did not converge. You might want to increase the number of iterations. Duality gap: 0.0, tolerance: 0.0\n",
      "  max_iter, tol, rng, random, positive)\n",
      "/home/henning/.pyenv/versions/3.7.6/lib/python3.7/site-packages/sklearn/linear_model/_coordinate_descent.py:460: ConvergenceWarning: Objective did not converge. You might want to increase the number of iterations. Duality gap: 0.0, tolerance: 0.0\n",
      "  max_iter, tol, rng, random, positive)\n",
      "/home/henning/.pyenv/versions/3.7.6/lib/python3.7/site-packages/sklearn/linear_model/_coordinate_descent.py:460: ConvergenceWarning: Objective did not converge. You might want to increase the number of iterations. Duality gap: 0.0, tolerance: 0.0\n",
      "  max_iter, tol, rng, random, positive)\n",
      "/home/henning/.pyenv/versions/3.7.6/lib/python3.7/site-packages/sklearn/linear_model/_coordinate_descent.py:460: ConvergenceWarning: Objective did not converge. You might want to increase the number of iterations. Duality gap: 0.0, tolerance: 0.0\n",
      "  max_iter, tol, rng, random, positive)\n",
      "/home/henning/.pyenv/versions/3.7.6/lib/python3.7/site-packages/sklearn/linear_model/_coordinate_descent.py:460: ConvergenceWarning: Objective did not converge. You might want to increase the number of iterations. Duality gap: 0.0, tolerance: 0.0\n",
      "  max_iter, tol, rng, random, positive)\n",
      "/home/henning/.pyenv/versions/3.7.6/lib/python3.7/site-packages/sklearn/linear_model/_coordinate_descent.py:460: ConvergenceWarning: Objective did not converge. You might want to increase the number of iterations. Duality gap: 0.0, tolerance: 0.0\n",
      "  max_iter, tol, rng, random, positive)\n",
      "/home/henning/.pyenv/versions/3.7.6/lib/python3.7/site-packages/sklearn/linear_model/_coordinate_descent.py:460: ConvergenceWarning: Objective did not converge. You might want to increase the number of iterations. Duality gap: 0.0, tolerance: 0.0\n",
      "  max_iter, tol, rng, random, positive)\n",
      "/home/henning/.pyenv/versions/3.7.6/lib/python3.7/site-packages/sklearn/linear_model/_coordinate_descent.py:460: ConvergenceWarning: Objective did not converge. You might want to increase the number of iterations. Duality gap: 0.0, tolerance: 0.0\n",
      "  max_iter, tol, rng, random, positive)\n",
      "/home/henning/.pyenv/versions/3.7.6/lib/python3.7/site-packages/sklearn/linear_model/_coordinate_descent.py:460: ConvergenceWarning: Objective did not converge. You might want to increase the number of iterations. Duality gap: 0.0, tolerance: 0.0\n",
      "  max_iter, tol, rng, random, positive)\n",
      "/home/henning/.pyenv/versions/3.7.6/lib/python3.7/site-packages/sklearn/linear_model/_coordinate_descent.py:460: ConvergenceWarning: Objective did not converge. You might want to increase the number of iterations. Duality gap: 0.0, tolerance: 0.0\n",
      "  max_iter, tol, rng, random, positive)\n",
      "/home/henning/.pyenv/versions/3.7.6/lib/python3.7/site-packages/sklearn/linear_model/_coordinate_descent.py:460: ConvergenceWarning: Objective did not converge. You might want to increase the number of iterations. Duality gap: 0.0, tolerance: 0.0\n",
      "  max_iter, tol, rng, random, positive)\n"
     ]
    },
    {
     "name": "stderr",
     "output_type": "stream",
     "text": [
      "/home/henning/.pyenv/versions/3.7.6/lib/python3.7/site-packages/sklearn/linear_model/_coordinate_descent.py:460: ConvergenceWarning: Objective did not converge. You might want to increase the number of iterations. Duality gap: 0.0, tolerance: 0.0\n",
      "  max_iter, tol, rng, random, positive)\n",
      "/home/henning/.pyenv/versions/3.7.6/lib/python3.7/site-packages/sklearn/linear_model/_coordinate_descent.py:460: ConvergenceWarning: Objective did not converge. You might want to increase the number of iterations. Duality gap: 0.0, tolerance: 0.0\n",
      "  max_iter, tol, rng, random, positive)\n",
      "/home/henning/.pyenv/versions/3.7.6/lib/python3.7/site-packages/sklearn/linear_model/_coordinate_descent.py:460: ConvergenceWarning: Objective did not converge. You might want to increase the number of iterations. Duality gap: 0.0, tolerance: 0.0\n",
      "  max_iter, tol, rng, random, positive)\n",
      "/home/henning/.pyenv/versions/3.7.6/lib/python3.7/site-packages/sklearn/linear_model/_coordinate_descent.py:460: ConvergenceWarning: Objective did not converge. You might want to increase the number of iterations. Duality gap: 0.0, tolerance: 0.0\n",
      "  max_iter, tol, rng, random, positive)\n",
      "/home/henning/.pyenv/versions/3.7.6/lib/python3.7/site-packages/sklearn/linear_model/_coordinate_descent.py:460: ConvergenceWarning: Objective did not converge. You might want to increase the number of iterations. Duality gap: 0.0, tolerance: 0.0\n",
      "  max_iter, tol, rng, random, positive)\n",
      "/home/henning/.pyenv/versions/3.7.6/lib/python3.7/site-packages/sklearn/linear_model/_coordinate_descent.py:460: ConvergenceWarning: Objective did not converge. You might want to increase the number of iterations. Duality gap: 0.0, tolerance: 0.0\n",
      "  max_iter, tol, rng, random, positive)\n",
      "/home/henning/.pyenv/versions/3.7.6/lib/python3.7/site-packages/sklearn/linear_model/_coordinate_descent.py:460: ConvergenceWarning: Objective did not converge. You might want to increase the number of iterations. Duality gap: 0.0, tolerance: 0.0\n",
      "  max_iter, tol, rng, random, positive)\n",
      "/home/henning/.pyenv/versions/3.7.6/lib/python3.7/site-packages/sklearn/linear_model/_coordinate_descent.py:460: ConvergenceWarning: Objective did not converge. You might want to increase the number of iterations. Duality gap: 0.0, tolerance: 0.0\n",
      "  max_iter, tol, rng, random, positive)\n",
      "/home/henning/.pyenv/versions/3.7.6/lib/python3.7/site-packages/sklearn/linear_model/_coordinate_descent.py:460: ConvergenceWarning: Objective did not converge. You might want to increase the number of iterations. Duality gap: 0.0, tolerance: 0.0\n",
      "  max_iter, tol, rng, random, positive)\n",
      "/home/henning/.pyenv/versions/3.7.6/lib/python3.7/site-packages/sklearn/linear_model/_coordinate_descent.py:460: ConvergenceWarning: Objective did not converge. You might want to increase the number of iterations. Duality gap: 0.0, tolerance: 0.0\n",
      "  max_iter, tol, rng, random, positive)\n",
      "/home/henning/.pyenv/versions/3.7.6/lib/python3.7/site-packages/sklearn/linear_model/_coordinate_descent.py:460: ConvergenceWarning: Objective did not converge. You might want to increase the number of iterations. Duality gap: 0.0, tolerance: 0.0\n",
      "  max_iter, tol, rng, random, positive)\n",
      "/home/henning/.pyenv/versions/3.7.6/lib/python3.7/site-packages/sklearn/linear_model/_coordinate_descent.py:460: ConvergenceWarning: Objective did not converge. You might want to increase the number of iterations. Duality gap: 0.0, tolerance: 0.0\n",
      "  max_iter, tol, rng, random, positive)\n",
      "/home/henning/.pyenv/versions/3.7.6/lib/python3.7/site-packages/sklearn/linear_model/_coordinate_descent.py:460: ConvergenceWarning: Objective did not converge. You might want to increase the number of iterations. Duality gap: 0.0, tolerance: 0.0\n",
      "  max_iter, tol, rng, random, positive)\n",
      "/home/henning/.pyenv/versions/3.7.6/lib/python3.7/site-packages/sklearn/linear_model/_coordinate_descent.py:460: ConvergenceWarning: Objective did not converge. You might want to increase the number of iterations. Duality gap: 0.0, tolerance: 0.0\n",
      "  max_iter, tol, rng, random, positive)\n",
      "/home/henning/.pyenv/versions/3.7.6/lib/python3.7/site-packages/sklearn/linear_model/_coordinate_descent.py:460: ConvergenceWarning: Objective did not converge. You might want to increase the number of iterations. Duality gap: 0.0, tolerance: 0.0\n",
      "  max_iter, tol, rng, random, positive)\n",
      "/home/henning/.pyenv/versions/3.7.6/lib/python3.7/site-packages/sklearn/linear_model/_coordinate_descent.py:460: ConvergenceWarning: Objective did not converge. You might want to increase the number of iterations. Duality gap: 0.0, tolerance: 0.0\n",
      "  max_iter, tol, rng, random, positive)\n",
      "/home/henning/.pyenv/versions/3.7.6/lib/python3.7/site-packages/sklearn/linear_model/_coordinate_descent.py:460: ConvergenceWarning: Objective did not converge. You might want to increase the number of iterations. Duality gap: 0.0, tolerance: 0.0\n",
      "  max_iter, tol, rng, random, positive)\n",
      "/home/henning/.pyenv/versions/3.7.6/lib/python3.7/site-packages/sklearn/linear_model/_coordinate_descent.py:460: ConvergenceWarning: Objective did not converge. You might want to increase the number of iterations. Duality gap: 0.0, tolerance: 0.0\n",
      "  max_iter, tol, rng, random, positive)\n",
      "/home/henning/.pyenv/versions/3.7.6/lib/python3.7/site-packages/sklearn/linear_model/_coordinate_descent.py:460: ConvergenceWarning: Objective did not converge. You might want to increase the number of iterations. Duality gap: 0.0, tolerance: 0.0\n",
      "  max_iter, tol, rng, random, positive)\n",
      "/home/henning/.pyenv/versions/3.7.6/lib/python3.7/site-packages/sklearn/linear_model/_coordinate_descent.py:460: ConvergenceWarning: Objective did not converge. You might want to increase the number of iterations. Duality gap: 0.0, tolerance: 0.0\n",
      "  max_iter, tol, rng, random, positive)\n"
     ]
    },
    {
     "name": "stdout",
     "output_type": "stream",
     "text": [
      "number of non-zero weights:  45294\n"
     ]
    }
   ],
   "source": [
    "# Regularisation strength, alpha, beta, would need to be fine-tuned\n",
    "# with a validation set. I was sloppy and simply tried out three sets\n",
    "# of values. This is not how it should be done, but running fit takes\n",
    "# a couple of minutes and I am not overly patient.\n",
    "slim=SLIM(0.001,0.001,rec_len,user_num,item_num)\n",
    "slim.fit(train)\n",
    "print(\"number of non-zero weights: \",slim.weight_matrix.nnz)"
   ]
  },
  {
   "cell_type": "code",
   "execution_count": 17,
   "metadata": {},
   "outputs": [
    {
     "name": "stdout",
     "output_type": "stream",
     "text": [
      "hit rate:  0.44640605296343\n"
     ]
    }
   ],
   "source": [
    "preds=slim.predict(users)\n",
    "print(\"hit rate: \",hit_rate(preds))"
   ]
  },
  {
   "cell_type": "code",
   "execution_count": 18,
   "metadata": {},
   "outputs": [
    {
     "name": "stderr",
     "output_type": "stream",
     "text": [
      "/home/henning/.pyenv/versions/3.7.6/lib/python3.7/site-packages/sklearn/linear_model/_coordinate_descent.py:460: ConvergenceWarning: Objective did not converge. You might want to increase the number of iterations. Duality gap: 0.0, tolerance: 0.0\n",
      "  max_iter, tol, rng, random, positive)\n",
      "/home/henning/.pyenv/versions/3.7.6/lib/python3.7/site-packages/sklearn/linear_model/_coordinate_descent.py:460: ConvergenceWarning: Objective did not converge. You might want to increase the number of iterations. Duality gap: 0.0, tolerance: 0.0\n",
      "  max_iter, tol, rng, random, positive)\n",
      "/home/henning/.pyenv/versions/3.7.6/lib/python3.7/site-packages/sklearn/linear_model/_coordinate_descent.py:460: ConvergenceWarning: Objective did not converge. You might want to increase the number of iterations. Duality gap: 0.0, tolerance: 0.0\n",
      "  max_iter, tol, rng, random, positive)\n",
      "/home/henning/.pyenv/versions/3.7.6/lib/python3.7/site-packages/sklearn/linear_model/_coordinate_descent.py:460: ConvergenceWarning: Objective did not converge. You might want to increase the number of iterations. Duality gap: 0.0, tolerance: 0.0\n",
      "  max_iter, tol, rng, random, positive)\n",
      "/home/henning/.pyenv/versions/3.7.6/lib/python3.7/site-packages/sklearn/linear_model/_coordinate_descent.py:460: ConvergenceWarning: Objective did not converge. You might want to increase the number of iterations. Duality gap: 0.0, tolerance: 0.0\n",
      "  max_iter, tol, rng, random, positive)\n",
      "/home/henning/.pyenv/versions/3.7.6/lib/python3.7/site-packages/sklearn/linear_model/_coordinate_descent.py:460: ConvergenceWarning: Objective did not converge. You might want to increase the number of iterations. Duality gap: 0.0, tolerance: 0.0\n",
      "  max_iter, tol, rng, random, positive)\n",
      "/home/henning/.pyenv/versions/3.7.6/lib/python3.7/site-packages/sklearn/linear_model/_coordinate_descent.py:460: ConvergenceWarning: Objective did not converge. You might want to increase the number of iterations. Duality gap: 0.0, tolerance: 0.0\n",
      "  max_iter, tol, rng, random, positive)\n",
      "/home/henning/.pyenv/versions/3.7.6/lib/python3.7/site-packages/sklearn/linear_model/_coordinate_descent.py:460: ConvergenceWarning: Objective did not converge. You might want to increase the number of iterations. Duality gap: 0.0, tolerance: 0.0\n",
      "  max_iter, tol, rng, random, positive)\n",
      "/home/henning/.pyenv/versions/3.7.6/lib/python3.7/site-packages/sklearn/linear_model/_coordinate_descent.py:460: ConvergenceWarning: Objective did not converge. You might want to increase the number of iterations. Duality gap: 0.0, tolerance: 0.0\n",
      "  max_iter, tol, rng, random, positive)\n",
      "/home/henning/.pyenv/versions/3.7.6/lib/python3.7/site-packages/sklearn/linear_model/_coordinate_descent.py:460: ConvergenceWarning: Objective did not converge. You might want to increase the number of iterations. Duality gap: 0.0, tolerance: 0.0\n",
      "  max_iter, tol, rng, random, positive)\n",
      "/home/henning/.pyenv/versions/3.7.6/lib/python3.7/site-packages/sklearn/linear_model/_coordinate_descent.py:460: ConvergenceWarning: Objective did not converge. You might want to increase the number of iterations. Duality gap: 0.0, tolerance: 0.0\n",
      "  max_iter, tol, rng, random, positive)\n",
      "/home/henning/.pyenv/versions/3.7.6/lib/python3.7/site-packages/sklearn/linear_model/_coordinate_descent.py:460: ConvergenceWarning: Objective did not converge. You might want to increase the number of iterations. Duality gap: 0.0, tolerance: 0.0\n",
      "  max_iter, tol, rng, random, positive)\n",
      "/home/henning/.pyenv/versions/3.7.6/lib/python3.7/site-packages/sklearn/linear_model/_coordinate_descent.py:460: ConvergenceWarning: Objective did not converge. You might want to increase the number of iterations. Duality gap: 0.0, tolerance: 0.0\n",
      "  max_iter, tol, rng, random, positive)\n",
      "/home/henning/.pyenv/versions/3.7.6/lib/python3.7/site-packages/sklearn/linear_model/_coordinate_descent.py:460: ConvergenceWarning: Objective did not converge. You might want to increase the number of iterations. Duality gap: 0.0, tolerance: 0.0\n",
      "  max_iter, tol, rng, random, positive)\n",
      "/home/henning/.pyenv/versions/3.7.6/lib/python3.7/site-packages/sklearn/linear_model/_coordinate_descent.py:460: ConvergenceWarning: Objective did not converge. You might want to increase the number of iterations. Duality gap: 0.0, tolerance: 0.0\n",
      "  max_iter, tol, rng, random, positive)\n",
      "/home/henning/.pyenv/versions/3.7.6/lib/python3.7/site-packages/sklearn/linear_model/_coordinate_descent.py:460: ConvergenceWarning: Objective did not converge. You might want to increase the number of iterations. Duality gap: 0.0, tolerance: 0.0\n",
      "  max_iter, tol, rng, random, positive)\n",
      "/home/henning/.pyenv/versions/3.7.6/lib/python3.7/site-packages/sklearn/linear_model/_coordinate_descent.py:460: ConvergenceWarning: Objective did not converge. You might want to increase the number of iterations. Duality gap: 0.0, tolerance: 0.0\n",
      "  max_iter, tol, rng, random, positive)\n",
      "/home/henning/.pyenv/versions/3.7.6/lib/python3.7/site-packages/sklearn/linear_model/_coordinate_descent.py:460: ConvergenceWarning: Objective did not converge. You might want to increase the number of iterations. Duality gap: 0.0, tolerance: 0.0\n",
      "  max_iter, tol, rng, random, positive)\n",
      "/home/henning/.pyenv/versions/3.7.6/lib/python3.7/site-packages/sklearn/linear_model/_coordinate_descent.py:460: ConvergenceWarning: Objective did not converge. You might want to increase the number of iterations. Duality gap: 0.0, tolerance: 0.0\n",
      "  max_iter, tol, rng, random, positive)\n",
      "/home/henning/.pyenv/versions/3.7.6/lib/python3.7/site-packages/sklearn/linear_model/_coordinate_descent.py:460: ConvergenceWarning: Objective did not converge. You might want to increase the number of iterations. Duality gap: 0.0, tolerance: 0.0\n",
      "  max_iter, tol, rng, random, positive)\n",
      "/home/henning/.pyenv/versions/3.7.6/lib/python3.7/site-packages/sklearn/linear_model/_coordinate_descent.py:460: ConvergenceWarning: Objective did not converge. You might want to increase the number of iterations. Duality gap: 0.0, tolerance: 0.0\n",
      "  max_iter, tol, rng, random, positive)\n",
      "/home/henning/.pyenv/versions/3.7.6/lib/python3.7/site-packages/sklearn/linear_model/_coordinate_descent.py:460: ConvergenceWarning: Objective did not converge. You might want to increase the number of iterations. Duality gap: 0.0, tolerance: 0.0\n",
      "  max_iter, tol, rng, random, positive)\n",
      "/home/henning/.pyenv/versions/3.7.6/lib/python3.7/site-packages/sklearn/linear_model/_coordinate_descent.py:460: ConvergenceWarning: Objective did not converge. You might want to increase the number of iterations. Duality gap: 0.0, tolerance: 0.0\n",
      "  max_iter, tol, rng, random, positive)\n",
      "/home/henning/.pyenv/versions/3.7.6/lib/python3.7/site-packages/sklearn/linear_model/_coordinate_descent.py:460: ConvergenceWarning: Objective did not converge. You might want to increase the number of iterations. Duality gap: 0.0, tolerance: 0.0\n",
      "  max_iter, tol, rng, random, positive)\n",
      "/home/henning/.pyenv/versions/3.7.6/lib/python3.7/site-packages/sklearn/linear_model/_coordinate_descent.py:460: ConvergenceWarning: Objective did not converge. You might want to increase the number of iterations. Duality gap: 0.0, tolerance: 0.0\n",
      "  max_iter, tol, rng, random, positive)\n",
      "/home/henning/.pyenv/versions/3.7.6/lib/python3.7/site-packages/sklearn/linear_model/_coordinate_descent.py:460: ConvergenceWarning: Objective did not converge. You might want to increase the number of iterations. Duality gap: 0.0, tolerance: 0.0\n",
      "  max_iter, tol, rng, random, positive)\n",
      "/home/henning/.pyenv/versions/3.7.6/lib/python3.7/site-packages/sklearn/linear_model/_coordinate_descent.py:460: ConvergenceWarning: Objective did not converge. You might want to increase the number of iterations. Duality gap: 0.0, tolerance: 0.0\n",
      "  max_iter, tol, rng, random, positive)\n",
      "/home/henning/.pyenv/versions/3.7.6/lib/python3.7/site-packages/sklearn/linear_model/_coordinate_descent.py:460: ConvergenceWarning: Objective did not converge. You might want to increase the number of iterations. Duality gap: 0.0, tolerance: 0.0\n",
      "  max_iter, tol, rng, random, positive)\n",
      "/home/henning/.pyenv/versions/3.7.6/lib/python3.7/site-packages/sklearn/linear_model/_coordinate_descent.py:460: ConvergenceWarning: Objective did not converge. You might want to increase the number of iterations. Duality gap: 0.0, tolerance: 0.0\n",
      "  max_iter, tol, rng, random, positive)\n"
     ]
    },
    {
     "name": "stderr",
     "output_type": "stream",
     "text": [
      "/home/henning/.pyenv/versions/3.7.6/lib/python3.7/site-packages/sklearn/linear_model/_coordinate_descent.py:460: ConvergenceWarning: Objective did not converge. You might want to increase the number of iterations. Duality gap: 0.0, tolerance: 0.0\n",
      "  max_iter, tol, rng, random, positive)\n",
      "/home/henning/.pyenv/versions/3.7.6/lib/python3.7/site-packages/sklearn/linear_model/_coordinate_descent.py:460: ConvergenceWarning: Objective did not converge. You might want to increase the number of iterations. Duality gap: 0.0, tolerance: 0.0\n",
      "  max_iter, tol, rng, random, positive)\n",
      "/home/henning/.pyenv/versions/3.7.6/lib/python3.7/site-packages/sklearn/linear_model/_coordinate_descent.py:460: ConvergenceWarning: Objective did not converge. You might want to increase the number of iterations. Duality gap: 0.0, tolerance: 0.0\n",
      "  max_iter, tol, rng, random, positive)\n",
      "/home/henning/.pyenv/versions/3.7.6/lib/python3.7/site-packages/sklearn/linear_model/_coordinate_descent.py:460: ConvergenceWarning: Objective did not converge. You might want to increase the number of iterations. Duality gap: 0.0, tolerance: 0.0\n",
      "  max_iter, tol, rng, random, positive)\n",
      "/home/henning/.pyenv/versions/3.7.6/lib/python3.7/site-packages/sklearn/linear_model/_coordinate_descent.py:460: ConvergenceWarning: Objective did not converge. You might want to increase the number of iterations. Duality gap: 0.0, tolerance: 0.0\n",
      "  max_iter, tol, rng, random, positive)\n",
      "/home/henning/.pyenv/versions/3.7.6/lib/python3.7/site-packages/sklearn/linear_model/_coordinate_descent.py:460: ConvergenceWarning: Objective did not converge. You might want to increase the number of iterations. Duality gap: 0.0, tolerance: 0.0\n",
      "  max_iter, tol, rng, random, positive)\n",
      "/home/henning/.pyenv/versions/3.7.6/lib/python3.7/site-packages/sklearn/linear_model/_coordinate_descent.py:460: ConvergenceWarning: Objective did not converge. You might want to increase the number of iterations. Duality gap: 0.0, tolerance: 0.0\n",
      "  max_iter, tol, rng, random, positive)\n",
      "/home/henning/.pyenv/versions/3.7.6/lib/python3.7/site-packages/sklearn/linear_model/_coordinate_descent.py:460: ConvergenceWarning: Objective did not converge. You might want to increase the number of iterations. Duality gap: 0.0, tolerance: 0.0\n",
      "  max_iter, tol, rng, random, positive)\n",
      "/home/henning/.pyenv/versions/3.7.6/lib/python3.7/site-packages/sklearn/linear_model/_coordinate_descent.py:460: ConvergenceWarning: Objective did not converge. You might want to increase the number of iterations. Duality gap: 0.0, tolerance: 0.0\n",
      "  max_iter, tol, rng, random, positive)\n",
      "/home/henning/.pyenv/versions/3.7.6/lib/python3.7/site-packages/sklearn/linear_model/_coordinate_descent.py:460: ConvergenceWarning: Objective did not converge. You might want to increase the number of iterations. Duality gap: 0.0, tolerance: 0.0\n",
      "  max_iter, tol, rng, random, positive)\n",
      "/home/henning/.pyenv/versions/3.7.6/lib/python3.7/site-packages/sklearn/linear_model/_coordinate_descent.py:460: ConvergenceWarning: Objective did not converge. You might want to increase the number of iterations. Duality gap: 0.0, tolerance: 0.0\n",
      "  max_iter, tol, rng, random, positive)\n",
      "/home/henning/.pyenv/versions/3.7.6/lib/python3.7/site-packages/sklearn/linear_model/_coordinate_descent.py:460: ConvergenceWarning: Objective did not converge. You might want to increase the number of iterations. Duality gap: 0.0, tolerance: 0.0\n",
      "  max_iter, tol, rng, random, positive)\n",
      "/home/henning/.pyenv/versions/3.7.6/lib/python3.7/site-packages/sklearn/linear_model/_coordinate_descent.py:460: ConvergenceWarning: Objective did not converge. You might want to increase the number of iterations. Duality gap: 0.0, tolerance: 0.0\n",
      "  max_iter, tol, rng, random, positive)\n",
      "/home/henning/.pyenv/versions/3.7.6/lib/python3.7/site-packages/sklearn/linear_model/_coordinate_descent.py:460: ConvergenceWarning: Objective did not converge. You might want to increase the number of iterations. Duality gap: 0.0, tolerance: 0.0\n",
      "  max_iter, tol, rng, random, positive)\n",
      "/home/henning/.pyenv/versions/3.7.6/lib/python3.7/site-packages/sklearn/linear_model/_coordinate_descent.py:460: ConvergenceWarning: Objective did not converge. You might want to increase the number of iterations. Duality gap: 0.0, tolerance: 0.0\n",
      "  max_iter, tol, rng, random, positive)\n",
      "/home/henning/.pyenv/versions/3.7.6/lib/python3.7/site-packages/sklearn/linear_model/_coordinate_descent.py:460: ConvergenceWarning: Objective did not converge. You might want to increase the number of iterations. Duality gap: 0.0, tolerance: 0.0\n",
      "  max_iter, tol, rng, random, positive)\n",
      "/home/henning/.pyenv/versions/3.7.6/lib/python3.7/site-packages/sklearn/linear_model/_coordinate_descent.py:460: ConvergenceWarning: Objective did not converge. You might want to increase the number of iterations. Duality gap: 0.0, tolerance: 0.0\n",
      "  max_iter, tol, rng, random, positive)\n",
      "/home/henning/.pyenv/versions/3.7.6/lib/python3.7/site-packages/sklearn/linear_model/_coordinate_descent.py:460: ConvergenceWarning: Objective did not converge. You might want to increase the number of iterations. Duality gap: 0.0, tolerance: 0.0\n",
      "  max_iter, tol, rng, random, positive)\n",
      "/home/henning/.pyenv/versions/3.7.6/lib/python3.7/site-packages/sklearn/linear_model/_coordinate_descent.py:460: ConvergenceWarning: Objective did not converge. You might want to increase the number of iterations. Duality gap: 0.0, tolerance: 0.0\n",
      "  max_iter, tol, rng, random, positive)\n",
      "/home/henning/.pyenv/versions/3.7.6/lib/python3.7/site-packages/sklearn/linear_model/_coordinate_descent.py:460: ConvergenceWarning: Objective did not converge. You might want to increase the number of iterations. Duality gap: 0.0, tolerance: 0.0\n",
      "  max_iter, tol, rng, random, positive)\n"
     ]
    },
    {
     "name": "stdout",
     "output_type": "stream",
     "text": [
      "number of non-zero weights:  45287\n"
     ]
    }
   ],
   "source": [
    "# let's do the same thing again, only this time, force weights to be positive\n",
    "slim=SLIM(0.001,0.001,rec_len,user_num,item_num,positive_weights=True)\n",
    "slim.fit(train)\n",
    "print(\"number of non-zero weights: \",slim.weight_matrix.nnz)"
   ]
  },
  {
   "cell_type": "code",
   "execution_count": 19,
   "metadata": {},
   "outputs": [
    {
     "name": "stdout",
     "output_type": "stream",
     "text": [
      "hit rate:  0.44622590524229866\n"
     ]
    }
   ],
   "source": [
    "preds=slim.predict(users)\n",
    "print(\"hit rate: \",hit_rate(preds))"
   ]
  },
  {
   "cell_type": "markdown",
   "metadata": {},
   "source": [
    "## Recommendation by random walks\n",
    "\n",
    "Random walks in recommender systems: exact computation and simulation, C. Cooper,\n",
    "S.H. Lee, T. Radzik and Y. Siantos (2014)"
   ]
  },
  {
   "cell_type": "code",
   "execution_count": 20,
   "metadata": {},
   "outputs": [],
   "source": [
    "class RndWalkRec(ScoreRec):\n",
    "    \"\"\"recommendations by random walks -- can only handle implicit feedback in current implementation\"\"\"\n",
    "\n",
    "    def compute_prob_matrix(self,like_matrix):\n",
    "        \"\"\"\n",
    "        simply normalise every row; will fail to produce probabilities if there are negative entries\n",
    "        outputs new sparse matrix\n",
    "        \"\"\"\n",
    "        probabilities=np.zeros(like_matrix.get_shape()[0])\n",
    "        for row_num in range(like_matrix.get_shape()[0]):\n",
    "            row_sum=like_matrix.getrow(row_num).sum()\n",
    "            if row_sum>0:\n",
    "                probabilities[row_num]=1/row_sum\n",
    "            else:\n",
    "                probabilities[row_num]=0\n",
    "        return scipy.sparse.diags(probabilities).dot(like_matrix)\n",
    "    \n",
    "    def fit(self,likes_per_user):\n",
    "        self.likes_per_user=likes_per_user\n",
    "        self.compute_train_matrix()\n",
    "        A=self.compute_prob_matrix(self.train_matrix)\n",
    "        B=self.compute_prob_matrix(self.train_matrix.transpose())\n",
    "        self.P3=A.dot(B.dot(A))\n",
    "    \n",
    "    def compute_scores(self,user):\n",
    "        return self.P3.getrow(user).toarray().reshape(-1,)"
   ]
  },
  {
   "cell_type": "code",
   "execution_count": 21,
   "metadata": {},
   "outputs": [],
   "source": [
    "walker=RndWalkRec(rec_len,user_num,item_num)\n",
    "walker.fit(train)"
   ]
  },
  {
   "cell_type": "code",
   "execution_count": 22,
   "metadata": {},
   "outputs": [
    {
     "name": "stdout",
     "output_type": "stream",
     "text": [
      "hit rate:  1.0679156908665106\n"
     ]
    }
   ],
   "source": [
    "preds=walker.predict(users)\n",
    "print(\"hit rate: \",hit_rate(preds))"
   ]
  },
  {
   "cell_type": "markdown",
   "metadata": {},
   "source": [
    "## Simulated walks\n",
    "\n",
    "Simulate random walks instead of calculating power of matrix. "
   ]
  },
  {
   "cell_type": "code",
   "execution_count": 23,
   "metadata": {},
   "outputs": [],
   "source": [
    "class SimulRndWalkRec(ScoreRec):\n",
    "\n",
    "    def __init__(self,walk_num,rec_len,user_num,item_num):\n",
    "        \"\"\"\n",
    "        walk_num: number of random walks simulated per user\n",
    "        rec_len: length of recommendation list\n",
    "        user_num,item_num: number of users, items -- we expect range(user_num) and \n",
    "        range(item_num) as set of users and items\n",
    "        current implementation works only with implicit feedback\n",
    "        \"\"\"\n",
    "        super().__init__(rec_len,user_num,item_num)\n",
    "        self.walk_num=walk_num\n",
    "\n",
    "    def fit(self,likes_per_user):\n",
    "        self.likes_per_user=likes_per_user\n",
    "        self.likes_per_item=compute_per_item(likes_per_user)\n",
    "        \n",
    "    def rnd_user_path(self,user):\n",
    "        \"\"\"do random walk for single user\"\"\"\n",
    "        item=random.choice(self.likes_per_user[user])\n",
    "        user2=random.choice(self.likes_per_item[item])\n",
    "        return random.choice(self.likes_per_user[user2])\n",
    "    \n",
    "    def compute_scores(self,user):\n",
    "        scores=np.zeros(self.item_num)\n",
    "        for _ in range(self.walk_num):\n",
    "            scores[self.rnd_user_path(user)]+=1\n",
    "        return scores"
   ]
  },
  {
   "cell_type": "code",
   "execution_count": 24,
   "metadata": {},
   "outputs": [
    {
     "name": "stdout",
     "output_type": "stream",
     "text": [
      "hit rate:  0.6960907944514502\n"
     ]
    }
   ],
   "source": [
    "simu=SimulRndWalkRec(1000,rec_len,user_num,item_num)\n",
    "simu.fit(train)\n",
    "preds=simu.predict(users)\n",
    "print(\"hit rate: \",hit_rate(preds))"
   ]
  },
  {
   "cell_type": "code",
   "execution_count": 25,
   "metadata": {},
   "outputs": [
    {
     "name": "stdout",
     "output_type": "stream",
     "text": [
      "hit rate:  0.8248964150603495\n"
     ]
    }
   ],
   "source": [
    "simu=SimulRndWalkRec(2000,rec_len,user_num,item_num)\n",
    "simu.fit(train)\n",
    "preds=simu.predict(users)\n",
    "print(\"hit rate: \",hit_rate(preds))"
   ]
  }
 ],
 "metadata": {
  "kernelspec": {
   "display_name": "Python 3",
   "language": "python",
   "name": "python3"
  },
  "language_info": {
   "codemirror_mode": {
    "name": "ipython",
    "version": 3
   },
   "file_extension": ".py",
   "mimetype": "text/x-python",
   "name": "python",
   "nbconvert_exporter": "python",
   "pygments_lexer": "ipython3",
   "version": "3.7.6"
  }
 },
 "nbformat": 4,
 "nbformat_minor": 4
}
