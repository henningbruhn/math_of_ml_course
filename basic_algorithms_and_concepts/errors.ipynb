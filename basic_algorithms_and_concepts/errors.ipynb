{
 "cells": [
  {
   "cell_type": "markdown",
   "metadata": {},
   "source": [
    "# Training errors and test errors\n",
    "\n",
    "How do we evaluate how well a classification algorithm performs? So far we've only looked at the error on the training set. However, we know the training set. What we really want is good performance on *unknown* data? How can that be measured?\n",
    "\n",
    "Let's look at the MNIST dataset again."
   ]
  },
  {
   "cell_type": "code",
   "execution_count": 1,
   "metadata": {},
   "outputs": [],
   "source": [
    "import numpy as np\n",
    "import sklearn \n",
    "import matplotlib.pyplot as plt\n",
    "from sklearn.utils import shuffle\n",
    "from sklearn.metrics import zero_one_loss"
   ]
  },
  {
   "cell_type": "markdown",
   "metadata": {},
   "source": [
    "Let's fetch the data. "
   ]
  },
  {
   "cell_type": "code",
   "execution_count": 2,
   "metadata": {},
   "outputs": [
    {
     "data": {
      "text/plain": [
       "(70000, 784)"
      ]
     },
     "execution_count": 2,
     "metadata": {},
     "output_type": "execute_result"
    }
   ],
   "source": [
    "# fetch data from openml.org\n",
    "# see https://en.wikipedia.org/wiki/MNIST_database\n",
    "from sklearn.datasets import fetch_openml\n",
    "mnist = fetch_openml('mnist_784', version=1, cache=True)\n",
    "# the classes are accessed via mnist.target\n",
    "# however, they are stored as strings and we want the digits to be stored as integers\n",
    "# we use astype to convert them\n",
    "mnist.target = mnist.target.astype(np.int8) # fetch_openml() returns targets as strings\n",
    "# newer versions of scikit-learn use pandas dataframe to store the data\n",
    "# we convert these to a simple numpy array \n",
    "X, y = np.array(mnist[\"data\"]), np.array(mnist[\"target\"]) \n",
    "X.shape  # X.shape returns the dimensions of the array X"
   ]
  },
  {
   "cell_type": "markdown",
   "metadata": {},
   "source": [
    "Again, have a look at a sample, just to get feeling with what we're dealing."
   ]
  },
  {
   "cell_type": "code",
   "execution_count": 3,
   "metadata": {},
   "outputs": [
    {
     "data": {
      "image/png": "[encoded data removed]",
      "text/plain": [
       "<Figure size 432x288 with 1 Axes>"
      ]
     },
     "metadata": {
      "needs_background": "light"
     },
     "output_type": "display_data"
    }
   ],
   "source": [
    "# let's plot a data point\n",
    "def plot_digit(data):\n",
    "    image = data.reshape(28, 28)\n",
    "    plt.imshow(image, cmap = 'binary')\n",
    "    plt.axis(\"off\")\n",
    "plot_digit(X[42,:])"
   ]
  },
  {
   "cell_type": "markdown",
   "metadata": {},
   "source": [
    "## Training and test set\n",
    "\n",
    "In machine learning, we normally split the available data into two (sometimes more) parts: a training set and a test set. The training set is used for learning, ie, to *train* the classifier. With the test set we evaluate the classifier. \n",
    "\n",
    "There are 70000 samples in the data set. Normally, we'd take the larger part, say 60000 samples, for the training set and the rest for the test set. However, some of the algorithms below are really quite slow to train. So let's take a substantially smaller training set, just because I'm impatient."
   ]
  },
  {
   "cell_type": "code",
   "execution_count": 4,
   "metadata": {},
   "outputs": [],
   "source": [
    "# we pick a large random subset as training set\n",
    "# the rest makes up the test set\n",
    "X, y = sklearn.utils.shuffle(X,y)  # make sure the data is in random order\n",
    "train_size=10000 # we pick 10000 of the 70000 samples for the training set, the rest goes into the test set\n",
    "X_train, X_test, y_train, y_test = X[:train_size], X[train_size:], y[:train_size], y[train_size:]"
   ]
  },
  {
   "cell_type": "markdown",
   "metadata": {},
   "source": [
    "Let's look at the distribution of classes in the training set."
   ]
  },
  {
   "cell_type": "code",
   "execution_count": 5,
   "metadata": {},
   "outputs": [
    {
     "data": {
      "text/plain": [
       "(array([ 945., 1107.,  983., 1023.,  941.,  919., 1012., 1087.,  947.,\n",
       "        1036.]),\n",
       " array([ 0,  1,  2,  3,  4,  5,  6,  7,  8,  9, 10]),\n",
       " <BarContainer object of 10 artists>)"
      ]
     },
     "execution_count": 5,
     "metadata": {},
     "output_type": "execute_result"
    },
    {
     "data": {
      "image/png": "[encoded data removed]",
      "text/plain": [
       "<Figure size 432x288 with 1 Axes>"
      ]
     },
     "metadata": {
      "needs_background": "light"
     },
     "output_type": "display_data"
    }
   ],
   "source": [
    "fig,ax=plt.subplots()\n",
    "ax.hist(y_train,width=0.8,bins=range(11))"
   ]
  },
  {
   "cell_type": "markdown",
   "metadata": {},
   "source": [
    "What we see: the classes are roughly balanced. This makes life easier. If the class distribution is severely skewed we need to take extra precautions. If the training data consists of 990 pictures of cats and only 10 pictures of dogs then prediction becomes too easy: don't even look at the pictures and simply answer 'cat'. Obviously, that procedure has not learnt how a cat picture looks like.\n",
    "\n",
    "## Train and evaluate logistic regression\n",
    "\n",
    "Let's start by training a logistic regression. Afterwards we evaluate it with the test set. Warning: this will take a while."
   ]
  },
  {
   "cell_type": "code",
   "execution_count": 12,
   "metadata": {},
   "outputs": [
    {
     "name": "stdout",
     "output_type": "stream",
     "text": [
      "training error: 0.26%\n"
     ]
    },
    {
     "name": "stderr",
     "output_type": "stream",
     "text": [
      "/home/henning/anaconda3/lib/python3.8/site-packages/sklearn/linear_model/_sag.py:328: ConvergenceWarning: The max_iter was reached which means the coef_ did not converge\n",
      "  warnings.warn(\"The max_iter was reached which means \"\n"
     ]
    }
   ],
   "source": [
    "from sklearn.linear_model import LogisticRegression\n",
    "logreg=LogisticRegression(solver='sag',max_iter=500)  \n",
    "\n",
    "logreg.fit(X_train,y_train)\n",
    "train_err=zero_one_loss(y_train,logreg.predict(X_train))\n",
    "print('training error: {:.3}%'.format(train_err*100))"
   ]
  },
  {
   "cell_type": "markdown",
   "metadata": {},
   "source": [
    "Okay didn't converge, the training error looks good though. It took a while. \n",
    "\n",
    "Let's compute the test error. "
   ]
  },
  {
   "cell_type": "code",
   "execution_count": 7,
   "metadata": {},
   "outputs": [
    {
     "name": "stdout",
     "output_type": "stream",
     "text": [
      "test error: 13.8%\n"
     ]
    }
   ],
   "source": [
    "test_err=zero_one_loss(y_test,logreg.predict(X_test))\n",
    "print('test error: {:.3}%'.format(test_err*100))"
   ]
  },
  {
   "cell_type": "markdown",
   "metadata": {},
   "source": [
    "Huh, much worse! We see, a good training error does not guarantee a good test error."
   ]
  },
  {
   "cell_type": "markdown",
   "metadata": {},
   "source": [
    "## Decision tree\n",
    "\n",
    "Let's fit a decision tree. (We'll say later how a decision tree works.) A decision tree can fit a dataset extremely well. So hopefully, it'll be a good classifier."
   ]
  },
  {
   "cell_type": "code",
   "execution_count": 8,
   "metadata": {},
   "outputs": [
    {
     "name": "stdout",
     "output_type": "stream",
     "text": [
      "training error: 0.0%\n"
     ]
    }
   ],
   "source": [
    "from sklearn.tree import DecisionTreeClassifier\n",
    "dectree=DecisionTreeClassifier()\n",
    "dectree.fit(X_train,y_train)\n",
    "train_err=zero_one_loss(y_train,dectree.predict(X_train))\n",
    "print('training error: {:.3}%'.format(train_err*100))"
   ]
  },
  {
   "cell_type": "markdown",
   "metadata": {},
   "source": [
    "Ah, perfect classification! So, it's a good classifier, right? Let's try on the test set..."
   ]
  },
  {
   "cell_type": "code",
   "execution_count": 9,
   "metadata": {},
   "outputs": [
    {
     "name": "stdout",
     "output_type": "stream",
     "text": [
      "test error: 19.1%\n"
     ]
    }
   ],
   "source": [
    "test_err=zero_one_loss(y_test,dectree.predict(X_test))\n",
    "print('test error: {:.3}%'.format(test_err*100))"
   ]
  },
  {
   "cell_type": "markdown",
   "metadata": {},
   "source": [
    "That's a really large error! Obviously, small training error does not *at all* indicate good performance on new data."
   ]
  },
  {
   "cell_type": "markdown",
   "metadata": {},
   "source": [
    "## Nearest neighbour"
   ]
  },
  {
   "cell_type": "code",
   "execution_count": 10,
   "metadata": {},
   "outputs": [
    {
     "name": "stdout",
     "output_type": "stream",
     "text": [
      "training error: 0.0%\n"
     ]
    }
   ],
   "source": [
    "from sklearn.neighbors import KNeighborsClassifier\n",
    "one_nn=KNeighborsClassifier(n_neighbors=1)\n",
    "one_nn.fit(X_train,y_train)\n",
    "train_err=zero_one_loss(y_train,one_nn.predict(X_train))\n",
    "print('training error: {:.3}%'.format(train_err*100))"
   ]
  },
  {
   "cell_type": "markdown",
   "metadata": {},
   "source": [
    "A zero training error is not at all surprising, if you think about it for a second."
   ]
  },
  {
   "cell_type": "code",
   "execution_count": 11,
   "metadata": {},
   "outputs": [
    {
     "name": "stdout",
     "output_type": "stream",
     "text": [
      "test error: 5.06%\n"
     ]
    }
   ],
   "source": [
    "test_err=zero_one_loss(y_test,one_nn.predict(X_test))\n",
    "print('test error: {:.3}%'.format(test_err*100))"
   ]
  },
  {
   "cell_type": "markdown",
   "metadata": {},
   "source": [
    "We see: a much better test error than above!\n",
    "\n",
    "By the way, that we compare different classifiers with the help of the test error is quite typical. Based on these results we might then decide that nearest neighbour is the most suited algorithm for this task. (It's not! There are much better classifiers.)"
   ]
  }
 ],
 "metadata": {
  "kernelspec": {
   "display_name": "Python 3",
   "language": "python",
   "name": "python3"
  },
  "language_info": {
   "codemirror_mode": {
    "name": "ipython",
    "version": 3
   },
   "file_extension": ".py",
   "mimetype": "text/x-python",
   "name": "python",
   "nbconvert_exporter": "python",
   "pygments_lexer": "ipython3",
   "version": "3.8.6"
  }
 },
 "nbformat": 4,
 "nbformat_minor": 4
}
